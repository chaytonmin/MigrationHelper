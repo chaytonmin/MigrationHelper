{
 "cells": [
  {
   "cell_type": "code",
   "execution_count": 2,
   "metadata": {},
   "outputs": [],
   "source": [
    "import pandas as pd\n",
    "ground_truth_2014 = pd.read_csv(\"test-ground-truth-2014-raw.csv\")\n",
    "ground_truth = pd.read_csv(\"test-ground-truth.csv\")"
   ]
  },
  {
   "cell_type": "code",
   "execution_count": 6,
   "metadata": {},
   "outputs": [],
   "source": [
    "rules2014 = set((l1, l2) for l1, l2 in zip(ground_truth_2014[\"fromLib\"], ground_truth_2014[\"toLib\"]))\n",
    "libs2014 = set(list(ground_truth_2014[\"fromLib\"]) + list(ground_truth_2014[\"toLib\"]))\n",
    "rules = set((l1, l2) for l1, l2 in zip(ground_truth[\"fromLibrary\"], ground_truth[\"toLibrary\"]))\n",
    "libs = set(list(ground_truth[\"fromLibrary\"]) + list(ground_truth[\"toLibrary\"]))"
   ]
  },
  {
   "cell_type": "code",
   "execution_count": 4,
   "metadata": {},
   "outputs": [
    {
     "data": {
      "text/plain": [
       "(768, 329)"
      ]
     },
     "execution_count": 4,
     "metadata": {},
     "output_type": "execute_result"
    }
   ],
   "source": [
    "len(rules), len(rules2014)"
   ]
  },
  {
   "cell_type": "code",
   "execution_count": 8,
   "metadata": {},
   "outputs": [
    {
     "data": {
      "text/plain": [
       "{'commons-discovery:commons-discovery',\n",
       " 'commons-io:commons-io',\n",
       " 'javax.inject:javax.inject',\n",
       " 'javax.validation:validation-api',\n",
       " 'jtds',\n",
       " 'mysql:mysql-connector-java',\n",
       " 'org.assertj:assertj-core',\n",
       " 'org.glassfish.jersey.media:jersey-media-json-jackson',\n",
       " 'org.springframework.boot:spring-boot-starter-test',\n",
       " 'org.uncommons.maths:uncommons-maths'}"
      ]
     },
     "execution_count": 8,
     "metadata": {},
     "output_type": "execute_result"
    }
   ],
   "source": [
    "libs - libs2014"
   ]
  },
  {
   "cell_type": "code",
   "execution_count": null,
   "metadata": {},
   "outputs": [],
   "source": []
  }
 ],
 "metadata": {
  "kernelspec": {
   "display_name": "Python 3",
   "language": "python",
   "name": "python3"
  },
  "language_info": {
   "codemirror_mode": {
    "name": "ipython",
    "version": 3
   },
   "file_extension": ".py",
   "mimetype": "text/x-python",
   "name": "python",
   "nbconvert_exporter": "python",
   "pygments_lexer": "ipython3",
   "version": "3.8.4"
  }
 },
 "nbformat": 4,
 "nbformat_minor": 4
}
