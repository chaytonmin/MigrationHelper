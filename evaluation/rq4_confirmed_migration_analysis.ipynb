{
 "cells": [
  {
   "cell_type": "code",
   "execution_count": 1,
   "metadata": {},
   "outputs": [
    {
     "name": "stdout",
     "output_type": "stream",
     "text": [
      "# migrations = 10061, # commit pairs = 2214, # same commits = 2082, # repos = 1228, # rules = 791\n"
     ]
    }
   ],
   "source": [
    "import pandas as pd\n",
    "migrations = pd.read_excel(\"manual/confirmed-migrations.xlsx\", parse_dates=[\"startCommitTime\", \"endCommitTime\"])\n",
    "print(\"# migrations = {}, # commit pairs = {}, # same commits = {}, # repos = {}, # rules = {}\".format(\n",
    "    len(migrations), \n",
    "    len(set(zip(migrations[\"startCommit\"], migrations[\"endCommit\"]))),\n",
    "    len([x for x, y in set(zip(migrations[\"startCommit\"], migrations[\"endCommit\"])) if x == y]),\n",
    "    len(set(migrations[\"repoName\"])),\n",
    "    len(set(zip(migrations[\"fromLib\"], migrations[\"toLib\"])))\n",
    "))"
   ]
  },
  {
   "cell_type": "code",
   "execution_count": 4,
   "metadata": {},
   "outputs": [
    {
     "data": {
      "text/plain": [
       "<seaborn.axisgrid.FacetGrid at 0x7f9e6e2653d0>"
      ]
     },
     "execution_count": 4,
     "metadata": {},
     "output_type": "execute_result"
    },
    {
     "data": {
      "image/png": "[encoded data removed]",
      "text/plain": [
       "<Figure size 360x360 with 1 Axes>"
      ]
     },
     "metadata": {
      "needs_background": "light"
     },
     "output_type": "display_data"
    }
   ],
   "source": [
    "import seaborn as sns\n",
    "sns.displot(migrations[\"startCommitTime\"].map(lambda x: x.date().year))"
   ]
  },
  {
   "cell_type": "code",
   "execution_count": 3,
   "metadata": {},
   "outputs": [
    {
     "data": {
      "text/plain": [
       "[(('org.slf4j:slf4j-log4j12', 'org.apache.logging.log4j:log4j-core'), 508),\n",
       " (('org.slf4j:slf4j-log4j12', 'org.apache.logging.log4j:log4j-slf4j-impl'),\n",
       "  507),\n",
       " (('org.slf4j:slf4j-log4j12', 'org.apache.logging.log4j:log4j-api'), 456),\n",
       " (('commons-lang:commons-lang', 'org.apache.commons:commons-lang3'), 364),\n",
       " (('org.codehaus.jackson:jackson-mapper-asl',\n",
       "   'com.fasterxml.jackson.core:jackson-databind'),\n",
       "  339),\n",
       " (('junit:junit', 'org.junit.jupiter:junit-jupiter-engine'), 279),\n",
       " (('org.slf4j:slf4j-log4j12', 'ch.qos.logback:logback-classic'), 273),\n",
       " (('log4j:log4j', 'org.apache.logging.log4j:log4j-slf4j-impl'), 259),\n",
       " (('junit:junit', 'org.junit.jupiter:junit-jupiter-api'), 244),\n",
       " (('org.codehaus.jackson:jackson-core-asl',\n",
       "   'com.fasterxml.jackson.core:jackson-databind'),\n",
       "  244),\n",
       " (('org.codehaus.jackson:jackson-mapper-asl',\n",
       "   'com.fasterxml.jackson.core:jackson-core'),\n",
       "  240),\n",
       " (('log4j:log4j', 'org.slf4j:slf4j-api'), 224),\n",
       " (('org.codehaus.jackson:jackson-core-asl',\n",
       "   'com.fasterxml.jackson.core:jackson-core'),\n",
       "  219),\n",
       " (('commons-httpclient:commons-httpclient',\n",
       "   'org.apache.httpcomponents:httpclient'),\n",
       "  181),\n",
       " (('commons-logging:commons-logging', 'org.slf4j:slf4j-api'), 164),\n",
       " (('log4j:log4j', 'ch.qos.logback:logback-classic'), 159),\n",
       " (('junit:junit', 'org.junit.vintage:junit-vintage-engine'), 134),\n",
       " (('org.codehaus.jackson:jackson-mapper-asl',\n",
       "   'com.fasterxml.jackson.core:jackson-annotations'),\n",
       "  134),\n",
       " (('org.codehaus.jackson:jackson-core-asl',\n",
       "   'com.fasterxml.jackson.core:jackson-annotations'),\n",
       "  122),\n",
       " (('org.slf4j:slf4j-api', 'org.apache.logging.log4j:log4j-api'), 111)]"
      ]
     },
     "execution_count": 3,
     "metadata": {},
     "output_type": "execute_result"
    }
   ],
   "source": [
    "from collections import Counter\n",
    "sorted(\n",
    "    Counter(zip(migrations[\"fromLib\"], migrations[\"toLib\"])).items(),\n",
    "    key=lambda x: x[1],\n",
    "    reverse=True\n",
    ")[0:20]"
   ]
  },
  {
   "cell_type": "code",
   "execution_count": null,
   "metadata": {},
   "outputs": [],
   "source": []
  }
 ],
 "metadata": {
  "kernelspec": {
   "display_name": "Python 3",
   "language": "python",
   "name": "python3"
  },
  "language_info": {
   "codemirror_mode": {
    "name": "ipython",
    "version": 3
   },
   "file_extension": ".py",
   "mimetype": "text/x-python",
   "name": "python",
   "nbconvert_exporter": "python",
   "pygments_lexer": "ipython3",
   "version": "3.7.4"
  }
 },
 "nbformat": 4,
 "nbformat_minor": 4
}
