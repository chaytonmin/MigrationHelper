{
 "cells": [
  {
   "cell_type": "code",
   "execution_count": 1,
   "metadata": {},
   "outputs": [],
   "source": [
    "import pandas as pd\n",
    "import numpy as np\n",
    "from sklearn import linear_model\n",
    "import multiprocessing"
   ]
  },
  {
   "cell_type": "code",
   "execution_count": 2,
   "metadata": {},
   "outputs": [],
   "source": [
    "rules = pd.read_csv(\"test-recommend-output-wocDepSeq3-all.csv\")\n",
    "to_lib2max_freq = {to_lib: max(row[\"ruleFreqSameCommit\"]) for to_lib, row in rules.groupby(by=\"toGroupArtifact\")}\n",
    "rules[\"ruleFreqToLibSameCommit\"] = rules[\"ruleFreqSameCommit\"] / rules[\"toGroupArtifact\"].apply(lambda x: to_lib2max_freq[x])\n",
    "rules[\"confTeyton\"] = np.minimum(rules[\"ruleFreqSameCommit\"], rules[\"ruleFreqToLibSameCommit\"]).fillna(0)\n",
    "to_lib2max_freq = {to_lib: max(row[\"ruleFreq\"]) for to_lib, row in rules.groupby(by=\"toGroupArtifact\")}\n",
    "rules[\"ruleFreqToLib\"] = rules[\"ruleFreq\"] / rules[\"toGroupArtifact\"].apply(lambda x: to_lib2max_freq[x])\n",
    "rules[\"popularityRegularization\"] = rules[\"ruleFreq\"] * rules[\"concurrenceAdjustment\"]"
   ]
  },
  {
   "cell_type": "code",
   "execution_count": 3,
   "metadata": {},
   "outputs": [
    {
     "data": {
      "text/plain": [
       "(304, 40)"
      ]
     },
     "execution_count": 3,
     "metadata": {},
     "output_type": "execute_result"
    }
   ],
   "source": [
    "from_libs = set()\n",
    "with open(\"possible-from-lib-2014.txt\", \"r\") as f:\n",
    "    from_libs = set(x.strip() for x in f)\n",
    "len(from_libs), len(from_libs - set(rules[\"fromGroupArtifact\"]))"
   ]
  },
  {
   "cell_type": "code",
   "execution_count": 4,
   "metadata": {},
   "outputs": [
    {
     "name": "stdout",
     "output_type": "stream",
     "text": [
      "119154\n"
     ]
    }
   ],
   "source": [
    "import2vecs = dict()\n",
    "with open(\"../embedding/java_w2v_dim100.txt\", \"r\") as f:\n",
    "    num_lib, num_dim = tuple(f.readline().split(\" \"))\n",
    "    num_lib, num_dim = int(num_lib), int(num_dim)\n",
    "    for line in f:\n",
    "        vals = line.split(\" \")\n",
    "        import2vecs[vals[0]] = [float(x) for x in vals[1:]]\n",
    "similarities = []\n",
    "for f, t in zip(rules[\"fromGroupArtifact\"], rules[\"toGroupArtifact\"]):\n",
    "    if f in import2vecs and t in import2vecs:\n",
    "        similarities.append(\n",
    "            np.dot(import2vecs[f], import2vecs[t]) \n",
    "            / (np.linalg.norm(import2vecs[f]) * np.linalg.norm(import2vecs[t])))\n",
    "    else:\n",
    "        similarities.append(0)\n",
    "rules[\"similarity\"] = similarities\n",
    "print(len(rules[rules[\"similarity\"] != 0]))"
   ]
  },
  {
   "cell_type": "code",
   "execution_count": 5,
   "metadata": {},
   "outputs": [
    {
     "name": "stdout",
     "output_type": "stream",
     "text": [
      "# rules = 243581, # confirmed = 763, # possible = 1530\n"
     ]
    }
   ],
   "source": [
    "ground_truth = pd.read_csv(\"ground-truth.csv\")\n",
    "rules_existed = set(zip(rules[\"fromGroupArtifact\"], rules[\"toGroupArtifact\"]))\n",
    "confirmed_rule_set = set(zip(\n",
    "    ground_truth[ground_truth[\"isConfirmed\"]][\"fromLib\"], \n",
    "    ground_truth[ground_truth[\"isConfirmed\"]][\"toLib\"]\n",
    ")) & rules_existed\n",
    "possible_rule_set = set(zip(\n",
    "    ground_truth[ground_truth[\"ruleCount\"] > 0][\"fromLib\"], \n",
    "    ground_truth[ground_truth[\"ruleCount\"] > 0][\"toLib\"]\n",
    ")) & rules_existed\n",
    "\n",
    "rules[\"isPossible\"] = [x in possible_rule_set for x in zip(rules[\"fromGroupArtifact\"], rules[\"toGroupArtifact\"])]\n",
    "rules[\"isConfirmed\"] = [x in confirmed_rule_set for x in zip(rules[\"fromGroupArtifact\"], rules[\"toGroupArtifact\"])]\n",
    "possible_rules = rules[rules[\"isPossible\"]]\n",
    "confirmed_rules = rules[rules[\"isConfirmed\"]]\n",
    "other_rules = rules[~rules[\"isConfirmed\"] & ~rules[\"isPossible\"]]\n",
    "print(\"# rules = {}, # confirmed = {}, # possible = {}\".format(\n",
    "    len(rules), len(confirmed_rule_set), len(possible_rule_set)))"
   ]
  },
  {
   "cell_type": "code",
   "execution_count": 6,
   "metadata": {},
   "outputs": [],
   "source": [
    "def evaluate(method, rules, possible_rules, confirmed_rules):\n",
    "    top_k = 100\n",
    "    top_rules = [list() for x in range(0, top_k)]\n",
    "    ndcg_possible_at_k = [list() for x in range(0, top_k)]\n",
    "    ndcg_confirmed_at_k = [list() for x in range(0, top_k)]\n",
    "    from_lib_set = set(x for x, y in confirmed_rules)\n",
    "    reciprocal_ranks_confirmed = {}\n",
    "    reciprocal_ranks_possible = {}\n",
    "    for from_lib, candidates in rules.groupby(by=\"fromGroupArtifact\"):\n",
    "        if from_lib not in from_lib_set:\n",
    "            continue\n",
    "        this_rules = [(from_lib, to_lib) for to_lib in candidates[\"toGroupArtifact\"]]\n",
    "        this_possible_rules = [(from_lib, to_lib) for from_lib, to_lib in this_rules if (from_lib, to_lib) in possible_rules]\n",
    "        this_confirmed_rules = [(from_lib, to_lib) for from_lib, to_lib in this_rules if (from_lib, to_lib) in confirmed_rules]\n",
    "        for k, (from_lib, to_lib) in enumerate(this_rules):\n",
    "            if k >= top_k:\n",
    "                continue\n",
    "            top_rules[k].append((from_lib, to_lib))\n",
    "            if (from_lib, to_lib) in possible_rules and from_lib not in reciprocal_ranks_possible:\n",
    "                reciprocal_ranks_possible[from_lib] = 1 / (k + 1)\n",
    "            if (from_lib, to_lib) in confirmed_rules and from_lib not in reciprocal_ranks_confirmed:\n",
    "                reciprocal_ranks_confirmed[from_lib] = 1 / (k + 1)\n",
    "            dcg_p = sum(int((from_lib, to_lib) in possible_rules) / np.log2(i+2) for i, (from_lib, to_lib) in enumerate(this_rules[0:k+1]))\n",
    "            idcg_p = sum(1 / np.log2(i+2) for i in range(0, min(k + 1, len(this_possible_rules))))\n",
    "            ndcg_possible_at_k[k].append(dcg_p / idcg_p)\n",
    "            dcg_c = sum(int((from_lib, to_lib) in confirmed_rules) / np.log2(i+2) for i, (from_lib, to_lib) in enumerate(this_rules[0:k+1]))\n",
    "            idcg_c = sum(1 / np.log2(i+2) for i in range(0, min(k + 1, len(this_confirmed_rules))))\n",
    "            ndcg_confirmed_at_k[k].append(dcg_c / idcg_c)\n",
    "        if from_lib not in reciprocal_ranks_possible:\n",
    "            reciprocal_ranks_possible[from_lib] = 0\n",
    "        if from_lib not in reciprocal_ranks_confirmed:\n",
    "            reciprocal_ranks_confirmed[from_lib] = 0\n",
    "    for k in range(1, top_k):\n",
    "        top_rules[k] += top_rules[k - 1] \n",
    "    result = {\n",
    "        \"Name\": method,\n",
    "        \"FromLibCount\": len(from_lib_set & set(rules[\"fromGroupArtifact\"])),\n",
    "        \"MRR-C\": np.mean(list(reciprocal_ranks_confirmed.values())),\n",
    "        \"MRR-P\": np.mean(list(reciprocal_ranks_possible.values())),\n",
    "        \"Precision-C@k\": [],\n",
    "        \"Precision-P@k\": [],\n",
    "        \"Recall-C@k\": [],\n",
    "        \"Recall-P@k\": [],\n",
    "        \"NDCG-C@k\": [],\n",
    "        \"NDCG-P@k\": [],\n",
    "    }\n",
    "    for k in range(0, top_k):\n",
    "        precision = len([x for x in top_rules[k] if x in confirmed_rules]) / len(top_rules[k])\n",
    "        recall = len([x for x in top_rules[k] if x in confirmed_rules]) / len(confirmed_rules)\n",
    "        precision_possible = len([x for x in top_rules[k] if x in possible_rules]) / len(top_rules[k])\n",
    "        recall_possible = len([x for x in top_rules[k] if x in possible_rules]) / len(possible_rules)\n",
    "        result[\"Precision-C@k\"].append(precision)\n",
    "        result[\"Precision-P@k\"].append(precision_possible)\n",
    "        result[\"Recall-C@k\"].append(recall)\n",
    "        result[\"Recall-P@k\"].append(recall_possible)\n",
    "        result[\"NDCG-C@k\"].append(np.mean(ndcg_confirmed_at_k[k]))\n",
    "        result[\"NDCG-P@k\"].append(np.mean(ndcg_possible_at_k[k]))\n",
    "    return result\n",
    "def print_evaluation_result(result):\n",
    "    print(\"Result of {} on {} Library Queries:\".format(result[\"Name\"], result[\"FromLibCount\"]))\n",
    "    print(\"MRR-C/P = {}/{}\".format(result[\"MRR-C\"], result[\"MRR-P\"]))\n",
    "    for k in range(0, len(result[\"Precision-C@k\"])):\n",
    "        if k + 1 > 10 and (k + 1) % 10 != 0:\n",
    "            continue\n",
    "        print(\"Top {:3}: Precision-C/P = {:0.3f}/{:0.3f}, Recall-C/P = {:0.3f}/{:0.3f}, NDCG-C/P = {:0.3f}/{:0.3f}\"\n",
    "              .format(k + 1, \n",
    "                      result[\"Precision-C@k\"][k],\n",
    "                      result[\"Precision-P@k\"][k],\n",
    "                      result[\"Recall-C@k\"][k],\n",
    "                      result[\"Recall-P@k\"][k],\n",
    "                      result[\"NDCG-C@k\"][k], \n",
    "                      result[\"NDCG-P@k\"][k]))\n",
    "def print_one_line_evaluation_result(result):\n",
    "    print(\"{:25}: Precision@1 = {:0.3f}, MRR = {:0.3f}, Recall@5 = {:0.3f}, Recall@10 = {:0.3f}, \"\n",
    "         \"Recall@20 = {:0.3f}, NDCG@10 = {:0.3f}\".format(\n",
    "             result[\"Name\"],\n",
    "             result[\"Precision-C@k\"][0],\n",
    "             result[\"MRR-C\"],\n",
    "             result[\"Recall-C@k\"][4],\n",
    "             result[\"Recall-C@k\"][9],\n",
    "             result[\"Recall-C@k\"][19],\n",
    "             result[\"NDCG-C@k\"][9]\n",
    "         ))"
   ]
  },
  {
   "cell_type": "code",
   "execution_count": 7,
   "metadata": {},
   "outputs": [
    {
     "name": "stdout",
     "output_type": "stream",
     "text": [
      "Result of Our Method on 180 Library Queries:\n",
      "MRR-C/P = 0.8552836334358074/0.8552836334358074\n",
      "Top   1: Precision-C/P = 0.794/0.794, Recall-C/P = 0.187/0.093, NDCG-C/P = 0.794/0.794\n",
      "Top   2: Precision-C/P = 0.630/0.638, Recall-C/P = 0.296/0.150, NDCG-C/P = 0.748/0.710\n",
      "Top   3: Precision-C/P = 0.558/0.563, Recall-C/P = 0.393/0.198, NDCG-C/P = 0.748/0.675\n",
      "Top   4: Precision-C/P = 0.499/0.505, Recall-C/P = 0.469/0.237, NDCG-C/P = 0.749/0.650\n",
      "Top   5: Precision-C/P = 0.449/0.458, Recall-C/P = 0.527/0.268, NDCG-C/P = 0.746/0.631\n",
      "Top   6: Precision-C/P = 0.406/0.413, Recall-C/P = 0.571/0.290, NDCG-C/P = 0.747/0.612\n",
      "Top   7: Precision-C/P = 0.371/0.378, Recall-C/P = 0.609/0.310, NDCG-C/P = 0.747/0.596\n",
      "Top   8: Precision-C/P = 0.343/0.352, Recall-C/P = 0.644/0.329, NDCG-C/P = 0.749/0.589\n",
      "Top   9: Precision-C/P = 0.318/0.327, Recall-C/P = 0.671/0.344, NDCG-C/P = 0.751/0.582\n",
      "Top  10: Precision-C/P = 0.301/0.311, Recall-C/P = 0.705/0.363, NDCG-C/P = 0.760/0.583\n",
      "Top  20: Precision-C/P = 0.185/0.192, Recall-C/P = 0.861/0.446, NDCG-C/P = 0.792/0.580\n",
      "Top  30: Precision-C/P = 0.132/0.139, Recall-C/P = 0.915/0.480, NDCG-C/P = 0.805/0.589\n",
      "Top  40: Precision-C/P = 0.103/0.109, Recall-C/P = 0.948/0.503, NDCG-C/P = 0.810/0.590\n",
      "Top  50: Precision-C/P = 0.084/0.091, Recall-C/P = 0.957/0.520, NDCG-C/P = 0.809/0.592\n",
      "Top  60: Precision-C/P = 0.070/0.078, Recall-C/P = 0.958/0.529, NDCG-C/P = 0.809/0.595\n",
      "Top  70: Precision-C/P = 0.061/0.068, Recall-C/P = 0.959/0.535, NDCG-C/P = 0.804/0.587\n",
      "Top  80: Precision-C/P = 0.054/0.060, Recall-C/P = 0.961/0.541, NDCG-C/P = 0.803/0.587\n",
      "Top  90: Precision-C/P = 0.048/0.055, Recall-C/P = 0.963/0.553, NDCG-C/P = 0.804/0.592\n",
      "Top 100: Precision-C/P = 0.044/0.051, Recall-C/P = 0.966/0.559, NDCG-C/P = 0.802/0.590\n"
     ]
    }
   ],
   "source": [
    "def our_method(rules):\n",
    "    rules[\"confidence\"] = (\n",
    "        # np.minimum(0.15, rules[\"confTeyton\"])\n",
    "        # np.log2(rules[\"confTeyton\"] + 1)\n",
    "        rules[\"confTeyton\"]\n",
    "        * rules[\"ruleFreq\"]\n",
    "        # * rules[\"ruleCount\"] / rules[\"concurrence\"]\n",
    "        # * rules[\"concurrenceAdjustment\"]\n",
    "        # * np.minimum(rules[\"ruleFreq\"], rules[\"ruleFreqToLib\"])\n",
    "        * np.maximum(0.1, rules[\"apiSupport\"])\n",
    "        # * rules[\"positionSupport\"] \n",
    "        * rules[\"commitDistance\"]\n",
    "        * np.log2(rules[\"possibleCommitCount\"] + 1)\n",
    "        # * np.minimum(rules[\"similarity\"], 0.1)\n",
    "    )\n",
    "    return rules.sort_values(by=[\"fromGroupArtifact\", \"confidence\"], ascending=[True, False])\n",
    "result = evaluate(\"Our Method\", our_method(rules), possible_rule_set, confirmed_rule_set)\n",
    "print_evaluation_result(result)\n",
    "our_method(rules).to_csv(\"recommend-output.csv\", index=False)"
   ]
  },
  {
   "cell_type": "code",
   "execution_count": 8,
   "metadata": {},
   "outputs": [
    {
     "name": "stdout",
     "output_type": "stream",
     "text": [
      "Result of Teyton et al. 2013 on 180 Library Queries:\n",
      "MRR-C/P = 0.7487575586716304/0.7523562658751796\n",
      "Top   1: Precision-C/P = 0.678/0.683, Recall-C/P = 0.160/0.080, NDCG-C/P = 0.678/0.683\n",
      "Top   2: Precision-C/P = 0.504/0.524, Recall-C/P = 0.237/0.123, NDCG-C/P = 0.608/0.584\n",
      "Top   3: Precision-C/P = 0.448/0.468, Recall-C/P = 0.316/0.165, NDCG-C/P = 0.609/0.563\n",
      "Top   4: Precision-C/P = 0.391/0.410, Recall-C/P = 0.367/0.192, NDCG-C/P = 0.598/0.535\n",
      "Top   5: Precision-C/P = 0.354/0.374, Recall-C/P = 0.415/0.219, NDCG-C/P = 0.596/0.519\n",
      "Top   6: Precision-C/P = 0.337/0.357, Recall-C/P = 0.474/0.251, NDCG-C/P = 0.607/0.516\n",
      "Top   7: Precision-C/P = 0.322/0.340, Recall-C/P = 0.528/0.278, NDCG-C/P = 0.619/0.513\n",
      "Top   8: Precision-C/P = 0.298/0.317, Recall-C/P = 0.560/0.296, NDCG-C/P = 0.621/0.507\n",
      "Top   9: Precision-C/P = 0.279/0.298, Recall-C/P = 0.588/0.314, NDCG-C/P = 0.624/0.504\n",
      "Top  10: Precision-C/P = 0.260/0.279, Recall-C/P = 0.609/0.325, NDCG-C/P = 0.626/0.498\n",
      "Top  20: Precision-C/P = 0.160/0.175, Recall-C/P = 0.747/0.408, NDCG-C/P = 0.662/0.505\n",
      "Top  30: Precision-C/P = 0.118/0.132, Recall-C/P = 0.819/0.458, NDCG-C/P = 0.678/0.520\n",
      "Top  40: Precision-C/P = 0.093/0.107, Recall-C/P = 0.861/0.490, NDCG-C/P = 0.687/0.528\n",
      "Top  50: Precision-C/P = 0.079/0.092, Recall-C/P = 0.900/0.523, NDCG-C/P = 0.692/0.534\n",
      "Top  60: Precision-C/P = 0.067/0.080, Recall-C/P = 0.917/0.541, NDCG-C/P = 0.696/0.540\n",
      "Top  70: Precision-C/P = 0.059/0.071, Recall-C/P = 0.933/0.559, NDCG-C/P = 0.699/0.542\n",
      "Top  80: Precision-C/P = 0.053/0.064, Recall-C/P = 0.948/0.574, NDCG-C/P = 0.700/0.544\n",
      "Top  90: Precision-C/P = 0.047/0.058, Recall-C/P = 0.953/0.584, NDCG-C/P = 0.702/0.547\n",
      "Top 100: Precision-C/P = 0.043/0.054, Recall-C/P = 0.959/0.596, NDCG-C/P = 0.702/0.548\n"
     ]
    }
   ],
   "source": [
    "def teyton_2013(rules):\n",
    "    return rules.sort_values(by=[\"fromGroupArtifact\", \"confTeyton\"], ascending=[True, False])\n",
    "result = evaluate(\"Teyton et al. 2013\", teyton_2013(rules), possible_rule_set, confirmed_rule_set)\n",
    "print_evaluation_result(result)"
   ]
  },
  {
   "cell_type": "code",
   "execution_count": 9,
   "metadata": {},
   "outputs": [
    {
     "name": "stdout",
     "output_type": "stream",
     "text": [
      "Result of Teyton et al. 2014 on 180 Library Queries:\n",
      "MRR-C/P = 0.543908456784227/0.5658621795696003\n",
      "Top   1: Precision-C/P = 0.450/0.467, Recall-C/P = 0.106/0.055, NDCG-C/P = 0.450/0.467\n",
      "Top   2: Precision-C/P = 0.331/0.348, Recall-C/P = 0.156/0.082, NDCG-C/P = 0.403/0.396\n",
      "Top   3: Precision-C/P = 0.270/0.290, Recall-C/P = 0.190/0.102, NDCG-C/P = 0.386/0.367\n",
      "Top   4: Precision-C/P = 0.222/0.248, Recall-C/P = 0.208/0.116, NDCG-C/P = 0.369/0.344\n",
      "Top   5: Precision-C/P = 0.200/0.222, Recall-C/P = 0.235/0.130, NDCG-C/P = 0.368/0.332\n",
      "Top   6: Precision-C/P = 0.177/0.197, Recall-C/P = 0.249/0.139, NDCG-C/P = 0.364/0.319\n",
      "Top   7: Precision-C/P = 0.159/0.179, Recall-C/P = 0.261/0.146, NDCG-C/P = 0.360/0.306\n",
      "Top   8: Precision-C/P = 0.150/0.170, Recall-C/P = 0.280/0.159, NDCG-C/P = 0.363/0.305\n",
      "Top   9: Precision-C/P = 0.145/0.165, Recall-C/P = 0.305/0.173, NDCG-C/P = 0.369/0.307\n",
      "Top  10: Precision-C/P = 0.137/0.158, Recall-C/P = 0.321/0.185, NDCG-C/P = 0.373/0.307\n",
      "Top  20: Precision-C/P = 0.094/0.115, Recall-C/P = 0.439/0.267, NDCG-C/P = 0.405/0.328\n",
      "Top  30: Precision-C/P = 0.074/0.094, Recall-C/P = 0.514/0.327, NDCG-C/P = 0.418/0.348\n",
      "Top  40: Precision-C/P = 0.062/0.081, Recall-C/P = 0.573/0.373, NDCG-C/P = 0.431/0.362\n",
      "Top  50: Precision-C/P = 0.055/0.073, Recall-C/P = 0.626/0.415, NDCG-C/P = 0.439/0.373\n",
      "Top  60: Precision-C/P = 0.048/0.065, Recall-C/P = 0.649/0.439, NDCG-C/P = 0.445/0.382\n",
      "Top  70: Precision-C/P = 0.043/0.058, Recall-C/P = 0.672/0.458, NDCG-C/P = 0.446/0.382\n",
      "Top  80: Precision-C/P = 0.039/0.054, Recall-C/P = 0.706/0.486, NDCG-C/P = 0.453/0.390\n",
      "Top  90: Precision-C/P = 0.036/0.051, Recall-C/P = 0.730/0.508, NDCG-C/P = 0.459/0.397\n",
      "Top 100: Precision-C/P = 0.034/0.047, Recall-C/P = 0.743/0.520, NDCG-C/P = 0.457/0.396\n"
     ]
    }
   ],
   "source": [
    "def teyton_2014(rules):\n",
    "    return rules.sort_values(by=[\"fromGroupArtifact\", \"ruleFreq\"], ascending=[True, False])\n",
    "result = evaluate(\"Teyton et al. 2014\", teyton_2014(rules), possible_rule_set, confirmed_rule_set)\n",
    "print_evaluation_result(result)"
   ]
  },
  {
   "cell_type": "code",
   "execution_count": 10,
   "metadata": {},
   "outputs": [
    {
     "name": "stdout",
     "output_type": "stream",
     "text": [
      "Coef confTeyton: 0.04420272779975144\n",
      "Coef apiSupportMin: 0.0174904253542674\n",
      "Coef ruleFreq: 0.05212389981908839\n",
      "Coef commitDistance: 0.13866919522612015\n",
      "Coef possibleCommitCount: 0.2946686913978037\n",
      "Result of Generalized Linear Model on 180 Library Queries:\n",
      "MRR-C/P = 0.8247356636448312/0.8248543720968727\n",
      "Top   1: Precision-C/P = 0.756/0.756, Recall-C/P = 0.178/0.089, NDCG-C/P = 0.756/0.756\n",
      "Top   2: Precision-C/P = 0.627/0.630, Recall-C/P = 0.295/0.148, NDCG-C/P = 0.731/0.693\n",
      "Top   3: Precision-C/P = 0.522/0.530, Recall-C/P = 0.368/0.186, NDCG-C/P = 0.705/0.643\n",
      "Top   4: Precision-C/P = 0.462/0.469, Recall-C/P = 0.434/0.220, NDCG-C/P = 0.701/0.614\n",
      "Top   5: Precision-C/P = 0.412/0.421, Recall-C/P = 0.484/0.246, NDCG-C/P = 0.696/0.593\n",
      "Top   6: Precision-C/P = 0.376/0.386, Recall-C/P = 0.529/0.271, NDCG-C/P = 0.698/0.581\n",
      "Top   7: Precision-C/P = 0.348/0.357, Recall-C/P = 0.571/0.292, NDCG-C/P = 0.702/0.570\n",
      "Top   8: Precision-C/P = 0.324/0.331, Recall-C/P = 0.607/0.310, NDCG-C/P = 0.705/0.562\n",
      "Top   9: Precision-C/P = 0.301/0.310, Recall-C/P = 0.636/0.325, NDCG-C/P = 0.709/0.557\n",
      "Top  10: Precision-C/P = 0.283/0.292, Recall-C/P = 0.662/0.341, NDCG-C/P = 0.714/0.554\n",
      "Top  20: Precision-C/P = 0.174/0.183, Recall-C/P = 0.813/0.425, NDCG-C/P = 0.748/0.557\n",
      "Top  30: Precision-C/P = 0.126/0.135, Recall-C/P = 0.873/0.467, NDCG-C/P = 0.763/0.569\n",
      "Top  40: Precision-C/P = 0.098/0.106, Recall-C/P = 0.903/0.487, NDCG-C/P = 0.767/0.570\n",
      "Top  50: Precision-C/P = 0.080/0.089, Recall-C/P = 0.917/0.507, NDCG-C/P = 0.768/0.574\n",
      "Top  60: Precision-C/P = 0.068/0.076, Recall-C/P = 0.928/0.520, NDCG-C/P = 0.770/0.579\n",
      "Top  70: Precision-C/P = 0.059/0.067, Recall-C/P = 0.936/0.529, NDCG-C/P = 0.769/0.576\n",
      "Top  80: Precision-C/P = 0.053/0.060, Recall-C/P = 0.942/0.539, NDCG-C/P = 0.768/0.576\n",
      "Top  90: Precision-C/P = 0.047/0.055, Recall-C/P = 0.950/0.552, NDCG-C/P = 0.770/0.581\n",
      "Top 100: Precision-C/P = 0.043/0.051, Recall-C/P = 0.954/0.566, NDCG-C/P = 0.768/0.582\n"
     ]
    }
   ],
   "source": [
    "def regression(rules):\n",
    "    feat_names = [\"confTeyton\", \"apiSupportMin\", \"ruleFreq\", \"commitDistance\", \"possibleCommitCount\"]\n",
    "    rules[\"apiSupportMin\"] = rules[\"apiSupport\"].apply(lambda x: max(0.1, x))\n",
    "    feat_series = {name: np.log2(rules[name] + 1) for name in feat_names}\n",
    "    X = []\n",
    "    for i in range(0, len(rules)):\n",
    "        X.append([feat_series[name].iloc[i] for name in feat_names])      \n",
    "    y = list(map(\n",
    "        lambda x: int(x[0]) + int(x[1]),\n",
    "        zip(rules[\"isConfirmed\"], rules[\"isPossible\"])\n",
    "    ))\n",
    "    sample_weight = list(map(\n",
    "        lambda x: int(x[0]) * 5 + int(x[1]) * 1 + 0.08,\n",
    "        zip(rules[\"isConfirmed\"], rules[\"isPossible\"])\n",
    "    ))\n",
    "    reg = linear_model.TweedieRegressor(power=1, verbose=1)\n",
    "    reg.fit(X, y, sample_weight)\n",
    "    for idx, coef in enumerate(reg.coef_):\n",
    "        print(\"Coef {}: {}\".format(feat_names[idx], coef))\n",
    "    rules[\"confidence\"] = reg.predict(X)\n",
    "    return rules.sort_values(by=[\"fromGroupArtifact\", \"confidence\"], ascending=[True, False])\n",
    "result = evaluate(\"Generalized Linear Model\", regression(rules), possible_rule_set, confirmed_rule_set)\n",
    "print_evaluation_result(result)"
   ]
  },
  {
   "cell_type": "code",
   "execution_count": 11,
   "metadata": {},
   "outputs": [
    {
     "name": "stdout",
     "output_type": "stream",
     "text": [
      "Teyton et al. 2014       : Precision@1 = 0.678, MRR = 0.749, Recall@5 = 0.415, Recall@10 = 0.609, Recall@20 = 0.747, NDCG@10 = 0.626\n",
      "RuleFreq                 : Precision@1 = 0.450, MRR = 0.544, Recall@5 = 0.235, Recall@10 = 0.321, Recall@20 = 0.439, NDCG@10 = 0.373\n",
      "APISupport               : Precision@1 = 0.200, MRR = 0.353, Recall@5 = 0.170, Recall@10 = 0.278, Recall@20 = 0.467, NDCG@10 = 0.287\n",
      "CommitDistance           : Precision@1 = 0.417, MRR = 0.510, Recall@5 = 0.227, Recall@10 = 0.294, Recall@20 = 0.342, NDCG@10 = 0.388\n",
      "PossibleCommitCount      : Precision@1 = 0.728, MRR = 0.803, Recall@5 = 0.490, Recall@10 = 0.666, Recall@20 = 0.820, NDCG@10 = 0.706\n",
      "No Conf Teyton           : Precision@1 = 0.783, MRR = 0.850, Recall@5 = 0.529, Recall@10 = 0.708, Recall@20 = 0.853, NDCG@10 = 0.759\n",
      "No RuleFreq              : Precision@1 = 0.789, MRR = 0.858, Recall@5 = 0.535, Recall@10 = 0.710, Recall@20 = 0.899, NDCG@10 = 0.767\n",
      "No APISupport            : Precision@1 = 0.778, MRR = 0.841, Recall@5 = 0.512, Recall@10 = 0.696, Recall@20 = 0.855, NDCG@10 = 0.750\n",
      "No CommitDistance        : Precision@1 = 0.772, MRR = 0.838, Recall@5 = 0.510, Recall@10 = 0.684, Recall@20 = 0.834, NDCG@10 = 0.740\n",
      "No PossibleCommitCount   : Precision@1 = 0.667, MRR = 0.747, Recall@5 = 0.406, Recall@10 = 0.599, Recall@20 = 0.729, NDCG@10 = 0.617\n",
      "Our Method               : Precision@1 = 0.794, MRR = 0.855, Recall@5 = 0.527, Recall@10 = 0.705, Recall@20 = 0.861, NDCG@10 = 0.760\n",
      "Coef confTeyton: 0.04420272779975144\n",
      "Coef apiSupportMin: 0.0174904253542674\n",
      "Coef ruleFreq: 0.05212389981908839\n",
      "Coef commitDistance: 0.13866919522612015\n",
      "Coef possibleCommitCount: 0.2946686913978037\n",
      "Generalized Linear Model : Precision@1 = 0.756, MRR = 0.825, Recall@5 = 0.484, Recall@10 = 0.662, Recall@20 = 0.813, NDCG@10 = 0.714\n"
     ]
    }
   ],
   "source": [
    "def method(rules, a, b, c, d, e):\n",
    "    rules[\"confidence\"] = (\n",
    "        rules[\"confTeyton\"] ** a\n",
    "        * rules[\"ruleFreq\"] ** b\n",
    "        * np.maximum(0.1, rules[\"apiSupport\"]) ** c\n",
    "        * rules[\"commitDistance\"] ** d\n",
    "        * np.log2(rules[\"possibleCommitCount\"] + 1) ** e\n",
    "    )\n",
    "    return rules.sort_values(by=[\"fromGroupArtifact\", \"confidence\"], ascending=[True, False])\n",
    "def parallel_worker(name, func, params):\n",
    "    return evaluate(name, func(rules, *params), possible_rule_set, confirmed_rule_set)\n",
    "methods = [\n",
    "    (\"Teyton et al. 2014\", teyton_2013, ()),\n",
    "    (\"RuleFreq\", method, (0, 1, 0, 0, 0)),\n",
    "    (\"APISupport\", method, (0, 0, 1, 0, 0)), \n",
    "    (\"CommitDistance\", method, (0, 0, 0, 1, 0)), \n",
    "    (\"PossibleCommitCount\", method, (0, 0, 0, 0, 1)),\n",
    "    (\"No ConfTeyton\", method, (0, 1, 1, 1, 1)),\n",
    "    (\"No RuleFreq\", method, (1, 0, 1, 1, 1)),\n",
    "    (\"No APISupport\", method, (1, 1, 0, 1, 1)), \n",
    "    (\"No CommitDistance\", method, (1, 1, 1, 0, 1)), \n",
    "    (\"No PossibleCommitCount\", method, (1, 1, 1, 1, 0)),\n",
    "    # (\"Generalized Linear Model\", regression, ()),\n",
    "    (\"Our Method\", our_method, ())\n",
    "]\n",
    "pool = multiprocessing.Pool(12)\n",
    "results = pool.starmap(parallel_worker, methods)\n",
    "pool.close()\n",
    "pool.join()\n",
    "for result in results:\n",
    "    print_one_line_evaluation_result(result)\n",
    "print_one_line_evaluation_result(parallel_worker(\"Generalized Linear Model\", regression, ()))"
   ]
  },
  {
   "cell_type": "code",
   "execution_count": 12,
   "metadata": {},
   "outputs": [
    {
     "name": "stdout",
     "output_type": "stream",
     "text": [
      "[0.2, 1, 1, 1, 1]        : Precision@1 = 0.794, MRR = 0.856, Recall@5 = 0.528, Recall@10 = 0.710, Recall@20 = 0.857, NDCG@10 = 0.762\n",
      "[0.4, 1, 1, 1, 1]        : Precision@1 = 0.794, MRR = 0.856, Recall@5 = 0.528, Recall@10 = 0.708, Recall@20 = 0.858, NDCG@10 = 0.762\n",
      "[0.6, 1, 1, 1, 1]        : Precision@1 = 0.800, MRR = 0.859, Recall@5 = 0.528, Recall@10 = 0.706, Recall@20 = 0.861, NDCG@10 = 0.763\n",
      "[0.8, 1, 1, 1, 1]        : Precision@1 = 0.794, MRR = 0.856, Recall@5 = 0.529, Recall@10 = 0.706, Recall@20 = 0.861, NDCG@10 = 0.761\n",
      "[1.0, 1, 1, 1, 1]        : Precision@1 = 0.794, MRR = 0.855, Recall@5 = 0.527, Recall@10 = 0.705, Recall@20 = 0.861, NDCG@10 = 0.760\n",
      "[1.5, 1, 1, 1, 1]        : Precision@1 = 0.789, MRR = 0.852, Recall@5 = 0.526, Recall@10 = 0.704, Recall@20 = 0.861, NDCG@10 = 0.758\n",
      "[2.0, 1, 1, 1, 1]        : Precision@1 = 0.794, MRR = 0.854, Recall@5 = 0.527, Recall@10 = 0.705, Recall@20 = 0.858, NDCG@10 = 0.760\n",
      "[2.5, 1, 1, 1, 1]        : Precision@1 = 0.789, MRR = 0.850, Recall@5 = 0.524, Recall@10 = 0.704, Recall@20 = 0.858, NDCG@10 = 0.758\n",
      "[3.0, 1, 1, 1, 1]        : Precision@1 = 0.789, MRR = 0.849, Recall@5 = 0.522, Recall@10 = 0.706, Recall@20 = 0.858, NDCG@10 = 0.758\n",
      "[3.5, 1, 1, 1, 1]        : Precision@1 = 0.789, MRR = 0.850, Recall@5 = 0.522, Recall@10 = 0.705, Recall@20 = 0.857, NDCG@10 = 0.758\n",
      "[4.0, 1, 1, 1, 1]        : Precision@1 = 0.789, MRR = 0.850, Recall@5 = 0.522, Recall@10 = 0.705, Recall@20 = 0.857, NDCG@10 = 0.758\n",
      "[1, 0.2, 1, 1, 1]        : Precision@1 = 0.789, MRR = 0.856, Recall@5 = 0.535, Recall@10 = 0.717, Recall@20 = 0.891, NDCG@10 = 0.767\n",
      "[1, 0.4, 1, 1, 1]        : Precision@1 = 0.783, MRR = 0.853, Recall@5 = 0.536, Recall@10 = 0.718, Recall@20 = 0.887, NDCG@10 = 0.765\n",
      "[1, 0.6, 1, 1, 1]        : Precision@1 = 0.789, MRR = 0.857, Recall@5 = 0.533, Recall@10 = 0.710, Recall@20 = 0.879, NDCG@10 = 0.763\n",
      "[1, 0.8, 1, 1, 1]        : Precision@1 = 0.789, MRR = 0.856, Recall@5 = 0.533, Recall@10 = 0.706, Recall@20 = 0.875, NDCG@10 = 0.762\n",
      "[1, 1.0, 1, 1, 1]        : Precision@1 = 0.794, MRR = 0.855, Recall@5 = 0.527, Recall@10 = 0.705, Recall@20 = 0.861, NDCG@10 = 0.760\n",
      "[1, 1.5, 1, 1, 1]        : Precision@1 = 0.778, MRR = 0.844, Recall@5 = 0.515, Recall@10 = 0.691, Recall@20 = 0.855, NDCG@10 = 0.746\n",
      "[1, 2.0, 1, 1, 1]        : Precision@1 = 0.772, MRR = 0.839, Recall@5 = 0.512, Recall@10 = 0.688, Recall@20 = 0.837, NDCG@10 = 0.742\n",
      "[1, 2.5, 1, 1, 1]        : Precision@1 = 0.761, MRR = 0.832, Recall@5 = 0.506, Recall@10 = 0.674, Recall@20 = 0.831, NDCG@10 = 0.732\n",
      "[1, 3.0, 1, 1, 1]        : Precision@1 = 0.756, MRR = 0.828, Recall@5 = 0.498, Recall@10 = 0.658, Recall@20 = 0.826, NDCG@10 = 0.723\n",
      "[1, 3.5, 1, 1, 1]        : Precision@1 = 0.756, MRR = 0.827, Recall@5 = 0.495, Recall@10 = 0.653, Recall@20 = 0.820, NDCG@10 = 0.719\n",
      "[1, 4.0, 1, 1, 1]        : Precision@1 = 0.739, MRR = 0.815, Recall@5 = 0.490, Recall@10 = 0.657, Recall@20 = 0.811, NDCG@10 = 0.714\n",
      "[1, 1, 0.2, 1, 1]        : Precision@1 = 0.783, MRR = 0.845, Recall@5 = 0.516, Recall@10 = 0.702, Recall@20 = 0.856, NDCG@10 = 0.754\n",
      "[1, 1, 0.4, 1, 1]        : Precision@1 = 0.783, MRR = 0.846, Recall@5 = 0.519, Recall@10 = 0.704, Recall@20 = 0.856, NDCG@10 = 0.755\n",
      "[1, 1, 0.6, 1, 1]        : Precision@1 = 0.789, MRR = 0.850, Recall@5 = 0.522, Recall@10 = 0.704, Recall@20 = 0.857, NDCG@10 = 0.758\n",
      "[1, 1, 0.8, 1, 1]        : Precision@1 = 0.794, MRR = 0.855, Recall@5 = 0.524, Recall@10 = 0.704, Recall@20 = 0.858, NDCG@10 = 0.760\n",
      "[1, 1, 1.0, 1, 1]        : Precision@1 = 0.794, MRR = 0.855, Recall@5 = 0.527, Recall@10 = 0.705, Recall@20 = 0.861, NDCG@10 = 0.760\n",
      "[1, 1, 1.5, 1, 1]        : Precision@1 = 0.794, MRR = 0.857, Recall@5 = 0.526, Recall@10 = 0.706, Recall@20 = 0.861, NDCG@10 = 0.761\n",
      "[1, 1, 2.0, 1, 1]        : Precision@1 = 0.800, MRR = 0.859, Recall@5 = 0.527, Recall@10 = 0.708, Recall@20 = 0.861, NDCG@10 = 0.763\n",
      "[1, 1, 2.5, 1, 1]        : Precision@1 = 0.800, MRR = 0.858, Recall@5 = 0.527, Recall@10 = 0.710, Recall@20 = 0.861, NDCG@10 = 0.763\n",
      "[1, 1, 3.0, 1, 1]        : Precision@1 = 0.772, MRR = 0.844, Recall@5 = 0.526, Recall@10 = 0.710, Recall@20 = 0.861, NDCG@10 = 0.758\n",
      "[1, 1, 3.5, 1, 1]        : Precision@1 = 0.772, MRR = 0.843, Recall@5 = 0.526, Recall@10 = 0.709, Recall@20 = 0.861, NDCG@10 = 0.758\n",
      "[1, 1, 4.0, 1, 1]        : Precision@1 = 0.772, MRR = 0.843, Recall@5 = 0.524, Recall@10 = 0.709, Recall@20 = 0.861, NDCG@10 = 0.757\n",
      "[1, 1, 1, 0.2, 1]        : Precision@1 = 0.778, MRR = 0.843, Recall@5 = 0.514, Recall@10 = 0.683, Recall@20 = 0.844, NDCG@10 = 0.741\n",
      "[1, 1, 1, 0.4, 1]        : Precision@1 = 0.789, MRR = 0.850, Recall@5 = 0.518, Recall@10 = 0.691, Recall@20 = 0.855, NDCG@10 = 0.748\n",
      "[1, 1, 1, 0.6, 1]        : Precision@1 = 0.789, MRR = 0.851, Recall@5 = 0.519, Recall@10 = 0.696, Recall@20 = 0.857, NDCG@10 = 0.751\n",
      "[1, 1, 1, 0.8, 1]        : Precision@1 = 0.789, MRR = 0.853, Recall@5 = 0.523, Recall@10 = 0.700, Recall@20 = 0.858, NDCG@10 = 0.756\n",
      "[1, 1, 1, 1.0, 1]        : Precision@1 = 0.794, MRR = 0.855, Recall@5 = 0.527, Recall@10 = 0.705, Recall@20 = 0.861, NDCG@10 = 0.760\n",
      "[1, 1, 1, 1.5, 1]        : Precision@1 = 0.783, MRR = 0.851, Recall@5 = 0.535, Recall@10 = 0.709, Recall@20 = 0.877, NDCG@10 = 0.760\n",
      "[1, 1, 1, 2.0, 1]        : Precision@1 = 0.783, MRR = 0.852, Recall@5 = 0.532, Recall@10 = 0.709, Recall@20 = 0.890, NDCG@10 = 0.762\n",
      "[1, 1, 1, 2.5, 1]        : Precision@1 = 0.789, MRR = 0.854, Recall@5 = 0.533, Recall@10 = 0.717, Recall@20 = 0.886, NDCG@10 = 0.766\n",
      "[1, 1, 1, 3.0, 1]        : Precision@1 = 0.794, MRR = 0.859, Recall@5 = 0.527, Recall@10 = 0.709, Recall@20 = 0.895, NDCG@10 = 0.764\n",
      "[1, 1, 1, 3.5, 1]        : Precision@1 = 0.783, MRR = 0.855, Recall@5 = 0.524, Recall@10 = 0.704, Recall@20 = 0.891, NDCG@10 = 0.759\n",
      "[1, 1, 1, 4.0, 1]        : Precision@1 = 0.772, MRR = 0.849, Recall@5 = 0.523, Recall@10 = 0.696, Recall@20 = 0.872, NDCG@10 = 0.751\n",
      "[1, 1, 1, 1, 0.2]        : Precision@1 = 0.789, MRR = 0.852, Recall@5 = 0.527, Recall@10 = 0.702, Recall@20 = 0.857, NDCG@10 = 0.756\n",
      "[1, 1, 1, 1, 0.4]        : Precision@1 = 0.789, MRR = 0.853, Recall@5 = 0.526, Recall@10 = 0.705, Recall@20 = 0.860, NDCG@10 = 0.758\n",
      "[1, 1, 1, 1, 0.6]        : Precision@1 = 0.794, MRR = 0.856, Recall@5 = 0.526, Recall@10 = 0.702, Recall@20 = 0.861, NDCG@10 = 0.759\n",
      "[1, 1, 1, 1, 0.8]        : Precision@1 = 0.794, MRR = 0.856, Recall@5 = 0.526, Recall@10 = 0.704, Recall@20 = 0.861, NDCG@10 = 0.759\n",
      "[1, 1, 1, 1, 1.0]        : Precision@1 = 0.794, MRR = 0.855, Recall@5 = 0.527, Recall@10 = 0.705, Recall@20 = 0.861, NDCG@10 = 0.760\n",
      "[1, 1, 1, 1, 1.5]        : Precision@1 = 0.789, MRR = 0.854, Recall@5 = 0.529, Recall@10 = 0.710, Recall@20 = 0.860, NDCG@10 = 0.763\n",
      "[1, 1, 1, 1, 2.0]        : Precision@1 = 0.794, MRR = 0.855, Recall@5 = 0.528, Recall@10 = 0.713, Recall@20 = 0.856, NDCG@10 = 0.766\n",
      "[1, 1, 1, 1, 2.5]        : Precision@1 = 0.789, MRR = 0.853, Recall@5 = 0.528, Recall@10 = 0.713, Recall@20 = 0.856, NDCG@10 = 0.764\n",
      "[1, 1, 1, 1, 3.0]        : Precision@1 = 0.789, MRR = 0.854, Recall@5 = 0.529, Recall@10 = 0.713, Recall@20 = 0.853, NDCG@10 = 0.764\n",
      "[1, 1, 1, 1, 3.5]        : Precision@1 = 0.789, MRR = 0.856, Recall@5 = 0.528, Recall@10 = 0.713, Recall@20 = 0.857, NDCG@10 = 0.765\n",
      "[1, 1, 1, 1, 4.0]        : Precision@1 = 0.794, MRR = 0.858, Recall@5 = 0.531, Recall@10 = 0.713, Recall@20 = 0.855, NDCG@10 = 0.765\n"
     ]
    }
   ],
   "source": [
    "vals = [0.2, 0.4, 0.6, 0.8, 1.0, 1.5, 2.0, 2.5, 3.0, 3.5, 4.0]\n",
    "params = []\n",
    "for loc in range(0, 5):\n",
    "    for i in vals:\n",
    "        param = [1, 1, 1, 1, 1]\n",
    "        param[loc] = i\n",
    "        params.append((str(param), method, param))\n",
    "pool = multiprocessing.Pool(12)\n",
    "results = pool.starmap(parallel_worker, params)\n",
    "pool.close()\n",
    "for result in results:\n",
    "    print_one_line_evaluation_result(result)"
   ]
  },
  {
   "cell_type": "code",
   "execution_count": null,
   "metadata": {},
   "outputs": [],
   "source": []
  }
 ],
 "metadata": {
  "kernelspec": {
   "display_name": "Python 3",
   "language": "python",
   "name": "python3"
  },
  "language_info": {
   "codemirror_mode": {
    "name": "ipython",
    "version": 3
   },
   "file_extension": ".py",
   "mimetype": "text/x-python",
   "name": "python",
   "nbconvert_exporter": "python",
   "pygments_lexer": "ipython3",
   "version": "3.7.4"
  }
 },
 "nbformat": 4,
 "nbformat_minor": 4
}
