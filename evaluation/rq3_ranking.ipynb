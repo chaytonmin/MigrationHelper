{
 "cells": [
  {
   "cell_type": "code",
   "execution_count": 1,
   "metadata": {},
   "outputs": [],
   "source": [
    "import pandas as pd"
   ]
  },
  {
   "cell_type": "code",
   "execution_count": 2,
   "metadata": {},
   "outputs": [
    {
     "name": "stdout",
     "output_type": "stream",
     "text": [
      "# rules = 316328, # confirmed = 289, # possible = 1588\n"
     ]
    }
   ],
   "source": [
    "rules = pd.read_csv(\"test-recommend-output-wocDepSeq-all.csv\")\n",
    "ground_truth = pd.read_csv(\"possible-ground-truth-2014.csv\")\n",
    "confirmed_rule_set = set(zip(\n",
    "    ground_truth[ground_truth[\"dataConfirmed\"]][\"fromGroupArtifact\"], \n",
    "    ground_truth[ground_truth[\"dataConfirmed\"]][\"toGroupArtifact\"]\n",
    "))\n",
    "possible_rule_set = set(zip(\n",
    "    ground_truth[ground_truth[\"inDepSeq\"] > 0][\"fromGroupArtifact\"], \n",
    "    ground_truth[ground_truth[\"inDepSeq\"] > 0][\"toGroupArtifact\"]\n",
    "))\n",
    "rules[\"isPossible\"] = [x in possible_rule_set for x in zip(rules[\"fromGroupArtifact\"], rules[\"toGroupArtifact\"])]\n",
    "rules[\"isConfirmed\"] = [x in confirmed_rule_set for x in zip(rules[\"fromGroupArtifact\"], rules[\"toGroupArtifact\"])]\n",
    "possible_rules = rules[rules[\"isPossible\"]]\n",
    "confirmed_rules = rules[rules[\"isConfirmed\"]]\n",
    "other_rules = rules[~rules[\"isConfirmed\"] & ~rules[\"isPossible\"]]\n",
    "print(\"# rules = {}, # confirmed = {}, # possible = {}\".format(\n",
    "    len(rules), len(confirmed_rule_set), len(possible_rule_set)))"
   ]
  },
  {
   "cell_type": "code",
   "execution_count": 19,
   "metadata": {},
   "outputs": [
    {
     "name": "stdout",
     "output_type": "stream",
     "text": [
      "Result of Our Method:\n",
      "Top  1: Precision-C/P = 0.398/0.430, Recall-C/P = 0.128/0.025, F-Measure-C/P = 0.194/0.048, NDCG = 0, MRR = 0\n",
      "Top  2: Precision-C/P = 0.339/0.376, Recall-C/P = 0.218/0.044, F-Measure-C/P = 0.265/0.079, NDCG = 0, MRR = 0\n",
      "Top  3: Precision-C/P = 0.290/0.337, Recall-C/P = 0.280/0.059, F-Measure-C/P = 0.285/0.101, NDCG = 0, MRR = 0\n",
      "Top  4: Precision-C/P = 0.261/0.306, Recall-C/P = 0.336/0.072, F-Measure-C/P = 0.293/0.116, NDCG = 0, MRR = 0\n",
      "Top  5: Precision-C/P = 0.235/0.284, Recall-C/P = 0.377/0.083, F-Measure-C/P = 0.290/0.129, NDCG = 0, MRR = 0\n",
      "Top  6: Precision-C/P = 0.210/0.255, Recall-C/P = 0.405/0.089, F-Measure-C/P = 0.277/0.132, NDCG = 0, MRR = 0\n",
      "Top  7: Precision-C/P = 0.201/0.245, Recall-C/P = 0.450/0.100, F-Measure-C/P = 0.277/0.142, NDCG = 0, MRR = 0\n",
      "Top  8: Precision-C/P = 0.189/0.234, Recall-C/P = 0.484/0.109, F-Measure-C/P = 0.272/0.149, NDCG = 0, MRR = 0\n",
      "Top  9: Precision-C/P = 0.181/0.225, Recall-C/P = 0.522/0.118, F-Measure-C/P = 0.269/0.155, NDCG = 0, MRR = 0\n",
      "Top 10: Precision-C/P = 0.168/0.210, Recall-C/P = 0.536/0.122, F-Measure-C/P = 0.256/0.155, NDCG = 0, MRR = 0\n",
      "Top 11: Precision-C/P = 0.159/0.201, Recall-C/P = 0.557/0.128, F-Measure-C/P = 0.247/0.157, NDCG = 0, MRR = 0\n",
      "Top 12: Precision-C/P = 0.156/0.197, Recall-C/P = 0.595/0.137, F-Measure-C/P = 0.247/0.162, NDCG = 0, MRR = 0\n",
      "Top 13: Precision-C/P = 0.145/0.186, Recall-C/P = 0.602/0.140, F-Measure-C/P = 0.234/0.160, NDCG = 0, MRR = 0\n",
      "Top 14: Precision-C/P = 0.138/0.177, Recall-C/P = 0.612/0.144, F-Measure-C/P = 0.225/0.159, NDCG = 0, MRR = 0\n",
      "Top 15: Precision-C/P = 0.131/0.169, Recall-C/P = 0.623/0.147, F-Measure-C/P = 0.216/0.157, NDCG = 0, MRR = 0\n",
      "Top 16: Precision-C/P = 0.125/0.162, Recall-C/P = 0.633/0.149, F-Measure-C/P = 0.208/0.155, NDCG = 0, MRR = 0\n",
      "Top 17: Precision-C/P = 0.118/0.155, Recall-C/P = 0.633/0.152, F-Measure-C/P = 0.198/0.153, NDCG = 0, MRR = 0\n",
      "Top 18: Precision-C/P = 0.114/0.151, Recall-C/P = 0.651/0.156, F-Measure-C/P = 0.194/0.153, NDCG = 0, MRR = 0\n",
      "Top 19: Precision-C/P = 0.112/0.147, Recall-C/P = 0.671/0.161, F-Measure-C/P = 0.192/0.153, NDCG = 0, MRR = 0\n",
      "Top 20: Precision-C/P = 0.107/0.142, Recall-C/P = 0.678/0.163, F-Measure-C/P = 0.185/0.152, NDCG = 0, MRR = 0\n",
      "Top 21: Precision-C/P = 0.103/0.137, Recall-C/P = 0.682/0.166, F-Measure-C/P = 0.179/0.150, NDCG = 0, MRR = 0\n",
      "Top 22: Precision-C/P = 0.099/0.134, Recall-C/P = 0.685/0.169, F-Measure-C/P = 0.172/0.150, NDCG = 0, MRR = 0\n",
      "Top 23: Precision-C/P = 0.095/0.130, Recall-C/P = 0.692/0.172, F-Measure-C/P = 0.168/0.148, NDCG = 0, MRR = 0\n",
      "Top 24: Precision-C/P = 0.092/0.127, Recall-C/P = 0.696/0.175, F-Measure-C/P = 0.162/0.147, NDCG = 0, MRR = 0\n",
      "Top 25: Precision-C/P = 0.090/0.124, Recall-C/P = 0.706/0.178, F-Measure-C/P = 0.159/0.146, NDCG = 0, MRR = 0\n",
      "Top 26: Precision-C/P = 0.088/0.123, Recall-C/P = 0.720/0.183, F-Measure-C/P = 0.157/0.147, NDCG = 0, MRR = 0\n",
      "Top 27: Precision-C/P = 0.085/0.120, Recall-C/P = 0.720/0.185, F-Measure-C/P = 0.151/0.145, NDCG = 0, MRR = 0\n",
      "Top 28: Precision-C/P = 0.082/0.118, Recall-C/P = 0.723/0.190, F-Measure-C/P = 0.147/0.146, NDCG = 0, MRR = 0\n",
      "Top 29: Precision-C/P = 0.082/0.118, Recall-C/P = 0.744/0.195, F-Measure-C/P = 0.147/0.147, NDCG = 0, MRR = 0\n",
      "Top 30: Precision-C/P = 0.079/0.114, Recall-C/P = 0.744/0.196, F-Measure-C/P = 0.143/0.145, NDCG = 0, MRR = 0\n",
      "Top 31: Precision-C/P = 0.077/0.113, Recall-C/P = 0.751/0.200, F-Measure-C/P = 0.140/0.144, NDCG = 0, MRR = 0\n",
      "Top 32: Precision-C/P = 0.075/0.110, Recall-C/P = 0.754/0.201, F-Measure-C/P = 0.136/0.142, NDCG = 0, MRR = 0\n",
      "Top 33: Precision-C/P = 0.073/0.108, Recall-C/P = 0.758/0.203, F-Measure-C/P = 0.133/0.141, NDCG = 0, MRR = 0\n",
      "Top 34: Precision-C/P = 0.072/0.106, Recall-C/P = 0.768/0.205, F-Measure-C/P = 0.132/0.139, NDCG = 0, MRR = 0\n",
      "Top 35: Precision-C/P = 0.070/0.103, Recall-C/P = 0.768/0.205, F-Measure-C/P = 0.128/0.137, NDCG = 0, MRR = 0\n",
      "Top 36: Precision-C/P = 0.069/0.101, Recall-C/P = 0.775/0.207, F-Measure-C/P = 0.126/0.135, NDCG = 0, MRR = 0\n",
      "Top 37: Precision-C/P = 0.067/0.098, Recall-C/P = 0.775/0.207, F-Measure-C/P = 0.123/0.133, NDCG = 0, MRR = 0\n",
      "Top 38: Precision-C/P = 0.065/0.096, Recall-C/P = 0.775/0.208, F-Measure-C/P = 0.120/0.131, NDCG = 0, MRR = 0\n",
      "Top 39: Precision-C/P = 0.064/0.094, Recall-C/P = 0.775/0.209, F-Measure-C/P = 0.117/0.130, NDCG = 0, MRR = 0\n",
      "Top 40: Precision-C/P = 0.062/0.092, Recall-C/P = 0.775/0.210, F-Measure-C/P = 0.115/0.128, NDCG = 0, MRR = 0\n",
      "Top 41: Precision-C/P = 0.061/0.090, Recall-C/P = 0.775/0.211, F-Measure-C/P = 0.112/0.127, NDCG = 0, MRR = 0\n",
      "Top 42: Precision-C/P = 0.060/0.089, Recall-C/P = 0.782/0.213, F-Measure-C/P = 0.111/0.126, NDCG = 0, MRR = 0\n",
      "Top 43: Precision-C/P = 0.059/0.088, Recall-C/P = 0.785/0.215, F-Measure-C/P = 0.109/0.125, NDCG = 0, MRR = 0\n",
      "Top 44: Precision-C/P = 0.058/0.087, Recall-C/P = 0.796/0.217, F-Measure-C/P = 0.108/0.124, NDCG = 0, MRR = 0\n",
      "Top 45: Precision-C/P = 0.057/0.086, Recall-C/P = 0.799/0.220, F-Measure-C/P = 0.106/0.124, NDCG = 0, MRR = 0\n",
      "Top 46: Precision-C/P = 0.056/0.085, Recall-C/P = 0.799/0.220, F-Measure-C/P = 0.104/0.122, NDCG = 0, MRR = 0\n",
      "Top 47: Precision-C/P = 0.055/0.083, Recall-C/P = 0.799/0.220, F-Measure-C/P = 0.102/0.120, NDCG = 0, MRR = 0\n",
      "Top 48: Precision-C/P = 0.054/0.082, Recall-C/P = 0.806/0.222, F-Measure-C/P = 0.101/0.120, NDCG = 0, MRR = 0\n",
      "Top 49: Precision-C/P = 0.053/0.081, Recall-C/P = 0.810/0.224, F-Measure-C/P = 0.100/0.119, NDCG = 0, MRR = 0\n",
      "Top 50: Precision-C/P = 0.053/0.081, Recall-C/P = 0.817/0.228, F-Measure-C/P = 0.099/0.119, NDCG = 0, MRR = 0\n",
      "Top 51: Precision-C/P = 0.052/0.080, Recall-C/P = 0.820/0.229, F-Measure-C/P = 0.098/0.118, NDCG = 0, MRR = 0\n",
      "Top 52: Precision-C/P = 0.051/0.078, Recall-C/P = 0.820/0.230, F-Measure-C/P = 0.096/0.117, NDCG = 0, MRR = 0\n",
      "Top 53: Precision-C/P = 0.050/0.077, Recall-C/P = 0.820/0.230, F-Measure-C/P = 0.094/0.116, NDCG = 0, MRR = 0\n",
      "Top 54: Precision-C/P = 0.049/0.076, Recall-C/P = 0.820/0.230, F-Measure-C/P = 0.093/0.114, NDCG = 0, MRR = 0\n",
      "Top 55: Precision-C/P = 0.048/0.075, Recall-C/P = 0.824/0.232, F-Measure-C/P = 0.091/0.113, NDCG = 0, MRR = 0\n",
      "Top 56: Precision-C/P = 0.048/0.075, Recall-C/P = 0.824/0.235, F-Measure-C/P = 0.090/0.113, NDCG = 0, MRR = 0\n",
      "Top 57: Precision-C/P = 0.047/0.074, Recall-C/P = 0.827/0.238, F-Measure-C/P = 0.089/0.113, NDCG = 0, MRR = 0\n",
      "Top 58: Precision-C/P = 0.046/0.073, Recall-C/P = 0.827/0.239, F-Measure-C/P = 0.088/0.112, NDCG = 0, MRR = 0\n",
      "Top 59: Precision-C/P = 0.046/0.073, Recall-C/P = 0.830/0.241, F-Measure-C/P = 0.087/0.112, NDCG = 0, MRR = 0\n",
      "Top 60: Precision-C/P = 0.045/0.072, Recall-C/P = 0.830/0.242, F-Measure-C/P = 0.085/0.111, NDCG = 0, MRR = 0\n",
      "Top 61: Precision-C/P = 0.044/0.071, Recall-C/P = 0.830/0.242, F-Measure-C/P = 0.084/0.110, NDCG = 0, MRR = 0\n",
      "Top 62: Precision-C/P = 0.044/0.070, Recall-C/P = 0.830/0.243, F-Measure-C/P = 0.083/0.109, NDCG = 0, MRR = 0\n",
      "Top 63: Precision-C/P = 0.043/0.069, Recall-C/P = 0.834/0.244, F-Measure-C/P = 0.082/0.108, NDCG = 0, MRR = 0\n",
      "Top 64: Precision-C/P = 0.042/0.069, Recall-C/P = 0.834/0.246, F-Measure-C/P = 0.081/0.107, NDCG = 0, MRR = 0\n",
      "Top 65: Precision-C/P = 0.042/0.069, Recall-C/P = 0.844/0.249, F-Measure-C/P = 0.081/0.108, NDCG = 0, MRR = 0\n",
      "Top 66: Precision-C/P = 0.042/0.068, Recall-C/P = 0.844/0.251, F-Measure-C/P = 0.079/0.107, NDCG = 0, MRR = 0\n",
      "Top 67: Precision-C/P = 0.041/0.068, Recall-C/P = 0.844/0.254, F-Measure-C/P = 0.078/0.107, NDCG = 0, MRR = 0\n",
      "Top 68: Precision-C/P = 0.041/0.067, Recall-C/P = 0.848/0.254, F-Measure-C/P = 0.078/0.106, NDCG = 0, MRR = 0\n",
      "Top 69: Precision-C/P = 0.040/0.066, Recall-C/P = 0.848/0.254, F-Measure-C/P = 0.077/0.105, NDCG = 0, MRR = 0\n",
      "Top 70: Precision-C/P = 0.040/0.065, Recall-C/P = 0.851/0.255, F-Measure-C/P = 0.076/0.104, NDCG = 0, MRR = 0\n",
      "Top 71: Precision-C/P = 0.039/0.065, Recall-C/P = 0.851/0.257, F-Measure-C/P = 0.075/0.104, NDCG = 0, MRR = 0\n",
      "Top 72: Precision-C/P = 0.039/0.064, Recall-C/P = 0.851/0.258, F-Measure-C/P = 0.074/0.103, NDCG = 0, MRR = 0\n",
      "Top 73: Precision-C/P = 0.038/0.064, Recall-C/P = 0.851/0.259, F-Measure-C/P = 0.073/0.103, NDCG = 0, MRR = 0\n",
      "Top 74: Precision-C/P = 0.038/0.063, Recall-C/P = 0.851/0.260, F-Measure-C/P = 0.072/0.102, NDCG = 0, MRR = 0\n",
      "Top 75: Precision-C/P = 0.037/0.063, Recall-C/P = 0.851/0.261, F-Measure-C/P = 0.071/0.101, NDCG = 0, MRR = 0\n",
      "Top 76: Precision-C/P = 0.037/0.062, Recall-C/P = 0.851/0.261, F-Measure-C/P = 0.070/0.100, NDCG = 0, MRR = 0\n",
      "Top 77: Precision-C/P = 0.036/0.062, Recall-C/P = 0.851/0.263, F-Measure-C/P = 0.070/0.100, NDCG = 0, MRR = 0\n",
      "Top 78: Precision-C/P = 0.036/0.061, Recall-C/P = 0.851/0.263, F-Measure-C/P = 0.069/0.099, NDCG = 0, MRR = 0\n",
      "Top 79: Precision-C/P = 0.035/0.060, Recall-C/P = 0.851/0.263, F-Measure-C/P = 0.068/0.098, NDCG = 0, MRR = 0\n",
      "Top 80: Precision-C/P = 0.035/0.059, Recall-C/P = 0.851/0.263, F-Measure-C/P = 0.067/0.097, NDCG = 0, MRR = 0\n",
      "Top 81: Precision-C/P = 0.035/0.059, Recall-C/P = 0.851/0.264, F-Measure-C/P = 0.066/0.096, NDCG = 0, MRR = 0\n",
      "Top 82: Precision-C/P = 0.034/0.058, Recall-C/P = 0.851/0.264, F-Measure-C/P = 0.066/0.095, NDCG = 0, MRR = 0\n",
      "Top 83: Precision-C/P = 0.034/0.058, Recall-C/P = 0.851/0.265, F-Measure-C/P = 0.065/0.095, NDCG = 0, MRR = 0\n",
      "Top 84: Precision-C/P = 0.034/0.058, Recall-C/P = 0.855/0.267, F-Measure-C/P = 0.065/0.095, NDCG = 0, MRR = 0\n",
      "Top 85: Precision-C/P = 0.033/0.057, Recall-C/P = 0.855/0.268, F-Measure-C/P = 0.064/0.094, NDCG = 0, MRR = 0\n",
      "Top 86: Precision-C/P = 0.033/0.056, Recall-C/P = 0.855/0.268, F-Measure-C/P = 0.063/0.093, NDCG = 0, MRR = 0\n",
      "Top 87: Precision-C/P = 0.032/0.056, Recall-C/P = 0.855/0.268, F-Measure-C/P = 0.062/0.093, NDCG = 0, MRR = 0\n",
      "Top 88: Precision-C/P = 0.032/0.056, Recall-C/P = 0.855/0.270, F-Measure-C/P = 0.062/0.092, NDCG = 0, MRR = 0\n",
      "Top 89: Precision-C/P = 0.032/0.055, Recall-C/P = 0.855/0.270, F-Measure-C/P = 0.061/0.092, NDCG = 0, MRR = 0\n",
      "Top 90: Precision-C/P = 0.031/0.055, Recall-C/P = 0.855/0.271, F-Measure-C/P = 0.061/0.091, NDCG = 0, MRR = 0\n",
      "Top 91: Precision-C/P = 0.031/0.054, Recall-C/P = 0.855/0.273, F-Measure-C/P = 0.060/0.091, NDCG = 0, MRR = 0\n",
      "Top 92: Precision-C/P = 0.031/0.054, Recall-C/P = 0.855/0.273, F-Measure-C/P = 0.059/0.090, NDCG = 0, MRR = 0\n",
      "Top 93: Precision-C/P = 0.030/0.053, Recall-C/P = 0.855/0.273, F-Measure-C/P = 0.059/0.089, NDCG = 0, MRR = 0\n",
      "Top 94: Precision-C/P = 0.030/0.053, Recall-C/P = 0.855/0.273, F-Measure-C/P = 0.058/0.089, NDCG = 0, MRR = 0\n",
      "Top 95: Precision-C/P = 0.030/0.053, Recall-C/P = 0.858/0.275, F-Measure-C/P = 0.058/0.088, NDCG = 0, MRR = 0\n",
      "Top 96: Precision-C/P = 0.030/0.052, Recall-C/P = 0.858/0.275, F-Measure-C/P = 0.057/0.088, NDCG = 0, MRR = 0\n",
      "Top 97: Precision-C/P = 0.029/0.052, Recall-C/P = 0.858/0.275, F-Measure-C/P = 0.057/0.087, NDCG = 0, MRR = 0\n",
      "Top 98: Precision-C/P = 0.029/0.051, Recall-C/P = 0.862/0.276, F-Measure-C/P = 0.056/0.087, NDCG = 0, MRR = 0\n",
      "Top 99: Precision-C/P = 0.029/0.051, Recall-C/P = 0.865/0.278, F-Measure-C/P = 0.056/0.086, NDCG = 0, MRR = 0\n",
      "Top 100: Precision-C/P = 0.029/0.051, Recall-C/P = 0.865/0.278, F-Measure-C/P = 0.056/0.086, NDCG = 0, MRR = 0\n"
     ]
    }
   ],
   "source": [
    "def evaluate(method, rules, possible_rules, confirmed_rules):\n",
    "    top_k = 100\n",
    "    top_rules = [list() for x in range(0, top_k)]\n",
    "    from_lib_set = set(x for x, y in confirmed_rules)\n",
    "    for from_lib, candidates in rules.groupby(by=\"fromGroupArtifact\"):\n",
    "        if from_lib not in from_lib_set:\n",
    "            continue\n",
    "        #if all(isConfirmed is False or ruleFreq < 25 for isConfirmed, ruleFreq in zip(candidates[\"isConfirmed\"], candidates[\"ruleFreq\"])):\n",
    "            #continue\n",
    "        this_rules = [(from_lib, to_lib) for to_lib in candidates[\"toGroupArtifact\"]]\n",
    "        for k, (from_lib, to_lib) in enumerate(this_rules):\n",
    "            if k >= top_k:\n",
    "                continue\n",
    "            top_rules[k].append((from_lib, to_lib))\n",
    "    for k in range(1, top_k):\n",
    "        top_rules[k] += top_rules[k - 1]\n",
    "    print(\"Result of {}:\".format(method))\n",
    "    for k in range(0, top_k):\n",
    "        precision = len([x for x in top_rules[k] if x in confirmed_rules]) / len(top_rules[k])\n",
    "        recall = len([x for x in top_rules[k] if x in confirmed_rules]) / len(confirmed_rules)\n",
    "        f_measure = 2 * precision * recall / (precision + recall)\n",
    "        precision_possible = len([x for x in top_rules[k] if x in possible_rules]) / len(top_rules[k])\n",
    "        recall_possible = len([x for x in top_rules[k] if x in possible_rules]) / len(possible_rules)\n",
    "        f_measure_possible = 2 * precision_possible * recall_possible / (precision_possible + recall_possible)\n",
    "        print(\"Top {:2}: Precision-C/P = {:0.3f}/{:0.3f}, Recall-C/P = {:0.3f}/{:0.3f}, F-Measure-C/P = {:0.3f}/{:0.3f}, NDCG = {}, MRR = {}\"\n",
    "              .format(k + 1, precision, precision_possible, recall, recall_possible, f_measure, f_measure_possible, 0, 0))\n",
    "def filter_and_sort1(rules):\n",
    "    return rules[rules[\"ruleFreq\"] > 25].sort_values(by=[\"fromLib\", \"ruleFreq\"], ascending=[True, False])\n",
    "def teyton2(rules):\n",
    "    return rules[rules[\"relativeRuleFrequency\"] > 0.07].sort_values(by=[\"fromLib\", \"ruleFreq\"], ascending=[True, False])\n",
    "def teyton(rules):\n",
    "    return rules.sort_values(by=[\"fromLib\", \"relativeRuleFrequency\"], ascending=[True, False])\n",
    "def our_method(rules):\n",
    "    rules[\"confidence\"] = (rules[\"relativeRuleFreq\"] * (rules[\"concurrenceAdjustment\"] ** 0.5)\n",
    "                           * rules[\"apiSupport\"].apply(lambda x: max(0.1, x)) ** 0.5\n",
    "                           * rules[\"commitDistance\"] ** 2)\n",
    "    return rules[(rules[\"concurrence\"] >= 10) & (rules[\"ruleFreq\"] >= 1)].sort_values(\n",
    "        by=[\"fromGroupArtifact\", \"confidence\"], ascending=[True, False])\n",
    "evaluate(\"Our Method\", our_method(rules), possible_rule_set, confirmed_rule_set)"
   ]
  },
  {
   "cell_type": "code",
   "execution_count": 4,
   "metadata": {},
   "outputs": [],
   "source": [
    "our_method(rules).to_csv(\"test.csv\", index=False)"
   ]
  },
  {
   "cell_type": "code",
   "execution_count": 16,
   "metadata": {},
   "outputs": [
    {
     "data": {
      "text/plain": [
       "0.6206896551724138"
      ]
     },
     "execution_count": 16,
     "metadata": {},
     "output_type": "execute_result"
    }
   ],
   "source": [
    "a = []\n",
    "for from_lib, candidates in rules[rules[\"ruleFreq\"] >= 8].groupby(by=\"fromGroupArtifact\"):\n",
    "    a.append(candidates[\"isCorrect\"].iloc[0])\n",
    "len([x for x in a if x]) / len(a)"
   ]
  },
  {
   "cell_type": "code",
   "execution_count": null,
   "metadata": {},
   "outputs": [],
   "source": []
  }
 ],
 "metadata": {
  "kernelspec": {
   "display_name": "Python 3",
   "language": "python",
   "name": "python3"
  },
  "language_info": {
   "codemirror_mode": {
    "name": "ipython",
    "version": 3
   },
   "file_extension": ".py",
   "mimetype": "text/x-python",
   "name": "python",
   "nbconvert_exporter": "python",
   "pygments_lexer": "ipython3",
   "version": "3.7.4"
  }
 },
 "nbformat": 4,
 "nbformat_minor": 4
}
