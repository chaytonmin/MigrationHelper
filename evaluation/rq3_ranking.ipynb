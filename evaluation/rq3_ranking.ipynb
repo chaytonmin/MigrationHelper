{
 "cells": [
  {
   "cell_type": "code",
   "execution_count": 1,
   "metadata": {},
   "outputs": [],
   "source": [
    "import pandas as pd\n",
    "import numpy as np\n",
    "import multiprocessing\n",
    "import matplotlib.pyplot as plt\n",
    "import seaborn as sns\n",
    "from sklearn import linear_model"
   ]
  },
  {
   "cell_type": "code",
   "execution_count": 2,
   "metadata": {},
   "outputs": [],
   "source": [
    "rules = pd.read_csv(\"test-recommend-output-wocDepSeq3-all.csv\")\n",
    "to_lib2max_freq = {to_lib: max(row[\"ruleFreqSameCommit\"]) for to_lib, row in rules.groupby(by=\"toLib\")}\n",
    "rules[\"ruleFreqToLibSameCommit\"] = rules[\"ruleFreqSameCommit\"] / rules[\"toLib\"].apply(lambda x: to_lib2max_freq[x])\n",
    "rules.insert(4, \"confTeyton\", np.minimum(rules[\"ruleFreqSameCommit\"], rules[\"ruleFreqToLibSameCommit\"]).fillna(0))\n",
    "# to_lib2max_freq = {to_lib: max(row[\"ruleFreq\"]) for to_lib, row in rules.groupby(by=\"toLib\")}\n",
    "# rules[\"ruleFreqToLib\"] = rules[\"ruleFreq\"] / rules[\"toLib\"].apply(lambda x: to_lib2max_freq[x])\n",
    "# rules[\"popularityRegularization\"] = rules[\"ruleFreq\"] * rules[\"concurrenceAdjustment\"]\n",
    "# from_lib2max_count = {from_lib: max(row[\"possibleCommitCount\"]) for from_lib, row in rules.groupby(by=\"fromLib\")}\n",
    "# rules[\"commitMessageSupport\"] = [x / (from_lib2max_count[from_lib] + 1) for from_lib, x in zip(rules[\"fromLib\"], rules[\"possibleCommitCount\"])]"
   ]
  },
  {
   "cell_type": "code",
   "execution_count": 3,
   "metadata": {},
   "outputs": [
    {
     "data": {
      "text/plain": [
       "(195, 1)"
      ]
     },
     "execution_count": 3,
     "metadata": {},
     "output_type": "execute_result"
    }
   ],
   "source": [
    "from_libs = set()\n",
    "with open(\"from-lib-confirmed.txt\", \"r\") as f:\n",
    "    from_libs = set(x.strip() for x in f)\n",
    "len(from_libs), len(from_libs - set(rules[\"fromLib\"]))"
   ]
  },
  {
   "cell_type": "code",
   "execution_count": 4,
   "metadata": {},
   "outputs": [
    {
     "name": "stdout",
     "output_type": "stream",
     "text": [
      "115026\n"
     ]
    }
   ],
   "source": [
    "import2vecs = dict()\n",
    "with open(\"../embedding/java_w2v_dim100.txt\", \"r\") as f:\n",
    "    num_lib, num_dim = tuple(f.readline().split(\" \"))\n",
    "    num_lib, num_dim = int(num_lib), int(num_dim)\n",
    "    for line in f:\n",
    "        vals = line.split(\" \")\n",
    "        import2vecs[vals[0]] = [float(x) for x in vals[1:]]\n",
    "similarities = []\n",
    "for f, t in zip(rules[\"fromLib\"], rules[\"toLib\"]):\n",
    "    if f in import2vecs and t in import2vecs:\n",
    "        similarities.append(\n",
    "            np.dot(import2vecs[f], import2vecs[t]) \n",
    "            / (np.linalg.norm(import2vecs[f]) * np.linalg.norm(import2vecs[t])))\n",
    "    else:\n",
    "        similarities.append(0)\n",
    "rules[\"similarity\"] = similarities\n",
    "print(len(rules[rules[\"similarity\"] != 0]))"
   ]
  },
  {
   "cell_type": "code",
   "execution_count": 5,
   "metadata": {},
   "outputs": [
    {
     "name": "stdout",
     "output_type": "stream",
     "text": [
      "# rules = 243152, # confirmed = 773, # possible = 1446, # confirmed from libs = 190\n"
     ]
    }
   ],
   "source": [
    "ground_truth = pd.read_excel(\"manual/ground-truth.xlsx\")\n",
    "rules_existed = set(zip(rules[\"fromLib\"], rules[\"toLib\"]))\n",
    "confirmed_rule_set = set(zip(\n",
    "    ground_truth[ground_truth[\"isConfirmed\"]][\"fromLib\"], \n",
    "    ground_truth[ground_truth[\"isConfirmed\"]][\"toLib\"]\n",
    ")) & rules_existed\n",
    "possible_rule_set = (set(zip(\n",
    "    ground_truth[ground_truth[\"ruleCount\"] > 0][\"fromLib\"], \n",
    "    ground_truth[ground_truth[\"ruleCount\"] > 0][\"toLib\"]\n",
    ")) | confirmed_rule_set) & rules_existed\n",
    "\n",
    "rules[\"isPossible\"] = [x in possible_rule_set for x in zip(rules[\"fromLib\"], rules[\"toLib\"])]\n",
    "rules.insert(2, \"isConfirmed\", [x in confirmed_rule_set for x in zip(rules[\"fromLib\"], rules[\"toLib\"])])\n",
    "possible_rules = rules[rules[\"isPossible\"]]\n",
    "confirmed_rules = rules[rules[\"isConfirmed\"]]\n",
    "other_rules = rules[~rules[\"isConfirmed\"] & ~rules[\"isPossible\"]]\n",
    "print(\"# rules = {}, # confirmed = {}, # possible = {}, # confirmed from libs = {}\".format(\n",
    "    len(rules), len(confirmed_rule_set), len(possible_rule_set), \n",
    "    len(set(x[0] for x in confirmed_rule_set))\n",
    "))"
   ]
  },
  {
   "cell_type": "code",
   "execution_count": 6,
   "metadata": {},
   "outputs": [],
   "source": [
    "def evaluate(method, rules, possible_rules, confirmed_rules):\n",
    "    top_k = 100\n",
    "    top_rules = [list() for x in range(0, top_k)]\n",
    "    ndcg_possible_at_k = [list() for x in range(0, top_k)]\n",
    "    ndcg_confirmed_at_k = [list() for x in range(0, top_k)]\n",
    "    from_lib_set = set(x for x, y in confirmed_rules)\n",
    "    reciprocal_ranks_confirmed = {}\n",
    "    reciprocal_ranks_possible = {}\n",
    "    for from_lib, candidates in rules.groupby(by=\"fromLib\"):\n",
    "        if from_lib not in from_lib_set:\n",
    "            continue\n",
    "        this_rules = [(from_lib, to_lib) for to_lib in candidates[\"toLib\"]]\n",
    "        this_possible_rules = [(from_lib, to_lib) for from_lib, to_lib in this_rules if (from_lib, to_lib) in possible_rules]\n",
    "        this_confirmed_rules = [(from_lib, to_lib) for from_lib, to_lib in this_rules if (from_lib, to_lib) in confirmed_rules]\n",
    "        for k, (from_lib, to_lib) in enumerate(this_rules):\n",
    "            if k >= top_k:\n",
    "                continue\n",
    "            top_rules[k].append((from_lib, to_lib))\n",
    "            if (from_lib, to_lib) in possible_rules and from_lib not in reciprocal_ranks_possible:\n",
    "                reciprocal_ranks_possible[from_lib] = 1 / (k + 1)\n",
    "            if (from_lib, to_lib) in confirmed_rules and from_lib not in reciprocal_ranks_confirmed:\n",
    "                reciprocal_ranks_confirmed[from_lib] = 1 / (k + 1)\n",
    "            dcg_p = sum(int((from_lib, to_lib) in possible_rules) / np.log2(i+2) for i, (from_lib, to_lib) in enumerate(this_rules[0:k+1]))\n",
    "            idcg_p = sum(1 / np.log2(i+2) for i in range(0, min(k + 1, len(this_possible_rules))))\n",
    "            ndcg_possible_at_k[k].append(dcg_p / idcg_p)\n",
    "            dcg_c = sum(int((from_lib, to_lib) in confirmed_rules) / np.log2(i+2) for i, (from_lib, to_lib) in enumerate(this_rules[0:k+1]))\n",
    "            idcg_c = sum(1 / np.log2(i+2) for i in range(0, min(k + 1, len(this_confirmed_rules))))\n",
    "            ndcg_confirmed_at_k[k].append(dcg_c / idcg_c)\n",
    "        if from_lib not in reciprocal_ranks_possible:\n",
    "            reciprocal_ranks_possible[from_lib] = 0\n",
    "        if from_lib not in reciprocal_ranks_confirmed:\n",
    "            reciprocal_ranks_confirmed[from_lib] = 0\n",
    "    for k in range(1, top_k):\n",
    "        top_rules[k] += top_rules[k - 1] \n",
    "    result = {\n",
    "        \"Name\": method,\n",
    "        \"FromLibCount\": len(from_lib_set & set(rules[\"fromLib\"])),\n",
    "        \"MRR-C\": np.mean(list(reciprocal_ranks_confirmed.values())),\n",
    "        \"MRR-P\": np.mean(list(reciprocal_ranks_possible.values())),\n",
    "        \"Precision-C@k\": [],\n",
    "        \"Precision-P@k\": [],\n",
    "        \"Recall-C@k\": [],\n",
    "        \"Recall-P@k\": [],\n",
    "        \"NDCG-C@k\": [],\n",
    "        \"NDCG-P@k\": [],\n",
    "    }\n",
    "    for k in range(0, top_k):\n",
    "        precision = len([x for x in top_rules[k] if x in confirmed_rules]) / len(top_rules[k])\n",
    "        recall = len([x for x in top_rules[k] if x in confirmed_rules]) / len(confirmed_rules)\n",
    "        precision_possible = len([x for x in top_rules[k] if x in possible_rules]) / len(top_rules[k])\n",
    "        recall_possible = len([x for x in top_rules[k] if x in possible_rules]) / len(possible_rules)\n",
    "        result[\"Precision-C@k\"].append(precision)\n",
    "        result[\"Precision-P@k\"].append(precision_possible)\n",
    "        result[\"Recall-C@k\"].append(recall)\n",
    "        result[\"Recall-P@k\"].append(recall_possible)\n",
    "        result[\"NDCG-C@k\"].append(np.mean(ndcg_confirmed_at_k[k]))\n",
    "        result[\"NDCG-P@k\"].append(np.mean(ndcg_possible_at_k[k]))\n",
    "    return result\n",
    "def print_evaluation_result(result):\n",
    "    print(\"Result of {} on {} Library Queries:\".format(result[\"Name\"], result[\"FromLibCount\"]))\n",
    "    print(\"MRR-C/P = {}/{}\".format(result[\"MRR-C\"], result[\"MRR-P\"]))\n",
    "    for k in range(0, len(result[\"Precision-C@k\"])):\n",
    "        if k + 1 > 10 and (k + 1) % 10 != 0:\n",
    "            continue\n",
    "        print(\"Top {:3}: Precision-C/P = {:0.3f}/{:0.3f}, Recall-C/P = {:0.3f}/{:0.3f}, NDCG-C/P = {:0.3f}/{:0.3f}\"\n",
    "              .format(k + 1, \n",
    "                      result[\"Precision-C@k\"][k],\n",
    "                      result[\"Precision-P@k\"][k],\n",
    "                      result[\"Recall-C@k\"][k],\n",
    "                      result[\"Recall-P@k\"][k],\n",
    "                      result[\"NDCG-C@k\"][k], \n",
    "                      result[\"NDCG-P@k\"][k]))\n",
    "def print_one_line_evaluation_result(result):\n",
    "    print(\"{:30}: Precision@1 = {:0.3f}, MRR = {:0.3f}, Recall@5 = {:0.3f}, Recall@10 = {:0.3f}, \"\n",
    "         \"Recall@20 = {:0.3f}, NDCG@10 = {:0.3f}\".format(\n",
    "             result[\"Name\"],\n",
    "             result[\"Precision-C@k\"][0],\n",
    "             result[\"MRR-C\"],\n",
    "             result[\"Recall-C@k\"][4],\n",
    "             result[\"Recall-C@k\"][9],\n",
    "             result[\"Recall-C@k\"][19],\n",
    "             result[\"NDCG-C@k\"][9]\n",
    "         ))"
   ]
  },
  {
   "cell_type": "code",
   "execution_count": 7,
   "metadata": {},
   "outputs": [
    {
     "name": "stdout",
     "output_type": "stream",
     "text": [
      "Result of Our Method on 190 Library Queries:\n",
      "MRR-C/P = 0.8565813287461487/0.8565813287461487\n",
      "Top   1: Precision-C/P = 0.795/0.795, Recall-C/P = 0.195/0.104, NDCG-C/P = 0.795/0.795\n",
      "Top   2: Precision-C/P = 0.661/0.664, Recall-C/P = 0.323/0.174, NDCG-C/P = 0.781/0.740\n",
      "Top   3: Precision-C/P = 0.558/0.564, Recall-C/P = 0.409/0.221, NDCG-C/P = 0.764/0.694\n",
      "Top   4: Precision-C/P = 0.491/0.499, Recall-C/P = 0.479/0.260, NDCG-C/P = 0.761/0.667\n",
      "Top   5: Precision-C/P = 0.437/0.447, Recall-C/P = 0.533/0.291, NDCG-C/P = 0.759/0.647\n",
      "Top   6: Precision-C/P = 0.391/0.400, Recall-C/P = 0.572/0.313, NDCG-C/P = 0.755/0.627\n",
      "Top   7: Precision-C/P = 0.358/0.367, Recall-C/P = 0.611/0.334, NDCG-C/P = 0.756/0.613\n",
      "Top   8: Precision-C/P = 0.335/0.343, Recall-C/P = 0.652/0.357, NDCG-C/P = 0.760/0.607\n",
      "Top   9: Precision-C/P = 0.315/0.322, Recall-C/P = 0.688/0.377, NDCG-C/P = 0.765/0.603\n",
      "Top  10: Precision-C/P = 0.292/0.300, Recall-C/P = 0.709/0.389, NDCG-C/P = 0.767/0.599\n",
      "Top  20: Precision-C/P = 0.185/0.194, Recall-C/P = 0.894/0.501, NDCG-C/P = 0.808/0.607\n",
      "Top  30: Precision-C/P = 0.129/0.136, Recall-C/P = 0.928/0.526, NDCG-C/P = 0.815/0.609\n",
      "Top  40: Precision-C/P = 0.099/0.106, Recall-C/P = 0.940/0.541, NDCG-C/P = 0.816/0.608\n",
      "Top  50: Precision-C/P = 0.080/0.088, Recall-C/P = 0.948/0.558, NDCG-C/P = 0.814/0.609\n",
      "Top  60: Precision-C/P = 0.068/0.076, Recall-C/P = 0.955/0.571, NDCG-C/P = 0.816/0.614\n",
      "Top  70: Precision-C/P = 0.059/0.067, Recall-C/P = 0.964/0.582, NDCG-C/P = 0.813/0.609\n",
      "Top  80: Precision-C/P = 0.052/0.060, Recall-C/P = 0.969/0.593, NDCG-C/P = 0.814/0.610\n",
      "Top  90: Precision-C/P = 0.047/0.055, Recall-C/P = 0.970/0.604, NDCG-C/P = 0.814/0.614\n",
      "Top 100: Precision-C/P = 0.042/0.050, Recall-C/P = 0.970/0.615, NDCG-C/P = 0.812/0.613\n"
     ]
    }
   ],
   "source": [
    "def our_method(rules):\n",
    "    rules[\"confidence\"] = (\n",
    "        # np.minimum(0.15, rules[\"confTeyton\"])\n",
    "        # np.log2(rules[\"confTeyton\"] + 1)\n",
    "        rules[\"confTeyton\"]\n",
    "        # * rules[\"ruleFreq\"]\n",
    "        # * rules[\"ruleCount\"] / rules[\"concurrence\"]\n",
    "        # * rules[\"concurrenceAdjustment\"]\n",
    "        # * np.minimum(rules[\"ruleFreq\"], rules[\"ruleFreqToLib\"])\n",
    "        * np.maximum(0.1, rules[\"apiSupport\"])\n",
    "        # * rules[\"positionSupport\"] \n",
    "        * rules[\"commitDistance\"]\n",
    "        * np.log2(rules[\"possibleCommitCount\"] + 1)\n",
    "        # * np.maximum(0.2, rules[\"commitMessageSupport\"])\n",
    "        # * np.minimum(rules[\"similarity\"], 0.1)\n",
    "    )\n",
    "    return rules.sort_values(by=[\"fromLib\", \"confidence\"], ascending=[True, False])\n",
    "result = evaluate(\"Our Method\", our_method(rules), possible_rule_set, confirmed_rule_set)\n",
    "print_evaluation_result(result)\n",
    "our_method(rules).to_csv(\"recommend-output.csv\", index=False)"
   ]
  },
  {
   "cell_type": "code",
   "execution_count": 8,
   "metadata": {},
   "outputs": [
    {
     "name": "stdout",
     "output_type": "stream",
     "text": [
      "Result of Teyton et al. 2013 on 190 Library Queries:\n",
      "MRR-C/P = 0.7257657912753291/0.7309045267080756\n",
      "Top   1: Precision-C/P = 0.658/0.663, Recall-C/P = 0.162/0.087, NDCG-C/P = 0.658/0.663\n",
      "Top   2: Precision-C/P = 0.495/0.511, Recall-C/P = 0.242/0.133, NDCG-C/P = 0.601/0.580\n",
      "Top   3: Precision-C/P = 0.420/0.438, Recall-C/P = 0.308/0.172, NDCG-C/P = 0.590/0.547\n",
      "Top   4: Precision-C/P = 0.378/0.394, Recall-C/P = 0.369/0.205, NDCG-C/P = 0.589/0.529\n",
      "Top   5: Precision-C/P = 0.332/0.352, Recall-C/P = 0.405/0.230, NDCG-C/P = 0.580/0.511\n",
      "Top   6: Precision-C/P = 0.311/0.329, Recall-C/P = 0.454/0.257, NDCG-C/P = 0.584/0.504\n",
      "Top   7: Precision-C/P = 0.289/0.306, Recall-C/P = 0.493/0.279, NDCG-C/P = 0.586/0.492\n",
      "Top   8: Precision-C/P = 0.271/0.291, Recall-C/P = 0.528/0.303, NDCG-C/P = 0.592/0.492\n",
      "Top   9: Precision-C/P = 0.253/0.273, Recall-C/P = 0.554/0.319, NDCG-C/P = 0.593/0.487\n",
      "Top  10: Precision-C/P = 0.238/0.256, Recall-C/P = 0.578/0.333, NDCG-C/P = 0.597/0.482\n",
      "Top  20: Precision-C/P = 0.148/0.163, Recall-C/P = 0.718/0.423, NDCG-C/P = 0.631/0.492\n",
      "Top  30: Precision-C/P = 0.110/0.124, Recall-C/P = 0.794/0.477, NDCG-C/P = 0.650/0.504\n",
      "Top  40: Precision-C/P = 0.088/0.101, Recall-C/P = 0.842/0.515, NDCG-C/P = 0.663/0.515\n",
      "Top  50: Precision-C/P = 0.074/0.086, Recall-C/P = 0.872/0.545, NDCG-C/P = 0.664/0.518\n",
      "Top  60: Precision-C/P = 0.064/0.075, Recall-C/P = 0.899/0.567, NDCG-C/P = 0.669/0.526\n",
      "Top  70: Precision-C/P = 0.056/0.067, Recall-C/P = 0.912/0.582, NDCG-C/P = 0.671/0.526\n",
      "Top  80: Precision-C/P = 0.050/0.061, Recall-C/P = 0.922/0.600, NDCG-C/P = 0.672/0.528\n",
      "Top  90: Precision-C/P = 0.045/0.055, Recall-C/P = 0.930/0.611, NDCG-C/P = 0.674/0.532\n",
      "Top 100: Precision-C/P = 0.041/0.051, Recall-C/P = 0.935/0.622, NDCG-C/P = 0.672/0.532\n"
     ]
    }
   ],
   "source": [
    "def teyton_2013(rules):\n",
    "    return rules.sample(frac=1).sort_values(by=[\"fromLib\", \"confTeyton\"], ascending=[True, False])\n",
    "result = evaluate(\"Teyton et al. 2013\", teyton_2013(rules), possible_rule_set, confirmed_rule_set)\n",
    "print_evaluation_result(result)"
   ]
  },
  {
   "cell_type": "code",
   "execution_count": 9,
   "metadata": {},
   "outputs": [
    {
     "name": "stdout",
     "output_type": "stream",
     "text": [
      "Result of Teyton et al. 2014 on 190 Library Queries:\n",
      "MRR-C/P = 0.5210146449020914/0.5475251522983586\n",
      "Top   1: Precision-C/P = 0.432/0.453, Recall-C/P = 0.106/0.059, NDCG-C/P = 0.432/0.453\n",
      "Top   2: Precision-C/P = 0.312/0.328, Recall-C/P = 0.153/0.086, NDCG-C/P = 0.381/0.378\n",
      "Top   3: Precision-C/P = 0.256/0.277, Recall-C/P = 0.188/0.109, NDCG-C/P = 0.369/0.356\n",
      "Top   4: Precision-C/P = 0.214/0.235, Recall-C/P = 0.208/0.122, NDCG-C/P = 0.358/0.334\n",
      "Top   5: Precision-C/P = 0.180/0.202, Recall-C/P = 0.220/0.131, NDCG-C/P = 0.347/0.316\n",
      "Top   6: Precision-C/P = 0.162/0.185, Recall-C/P = 0.237/0.145, NDCG-C/P = 0.345/0.310\n",
      "Top   7: Precision-C/P = 0.147/0.169, Recall-C/P = 0.250/0.154, NDCG-C/P = 0.341/0.302\n",
      "Top   8: Precision-C/P = 0.138/0.159, Recall-C/P = 0.269/0.165, NDCG-C/P = 0.345/0.299\n",
      "Top   9: Precision-C/P = 0.132/0.153, Recall-C/P = 0.290/0.178, NDCG-C/P = 0.351/0.299\n",
      "Top  10: Precision-C/P = 0.127/0.147, Recall-C/P = 0.308/0.191, NDCG-C/P = 0.356/0.299\n",
      "Top  20: Precision-C/P = 0.087/0.107, Recall-C/P = 0.423/0.277, NDCG-C/P = 0.385/0.320\n",
      "Top  30: Precision-C/P = 0.068/0.088, Recall-C/P = 0.490/0.340, NDCG-C/P = 0.390/0.330\n",
      "Top  40: Precision-C/P = 0.057/0.076, Recall-C/P = 0.541/0.385, NDCG-C/P = 0.406/0.348\n",
      "Top  50: Precision-C/P = 0.049/0.067, Recall-C/P = 0.583/0.420, NDCG-C/P = 0.411/0.356\n",
      "Top  60: Precision-C/P = 0.043/0.060, Recall-C/P = 0.611/0.448, NDCG-C/P = 0.418/0.366\n",
      "Top  70: Precision-C/P = 0.038/0.054, Recall-C/P = 0.627/0.470, NDCG-C/P = 0.417/0.367\n",
      "Top  80: Precision-C/P = 0.035/0.050, Recall-C/P = 0.648/0.490, NDCG-C/P = 0.421/0.372\n",
      "Top  90: Precision-C/P = 0.032/0.046, Recall-C/P = 0.670/0.511, NDCG-C/P = 0.426/0.378\n",
      "Top 100: Precision-C/P = 0.030/0.044, Recall-C/P = 0.693/0.536, NDCG-C/P = 0.428/0.382\n"
     ]
    }
   ],
   "source": [
    "def teyton_2014(rules):\n",
    "    return rules.sample(frac=1).sort_values(by=[\"fromLib\", \"ruleFreq\"], ascending=[True, False])\n",
    "result = evaluate(\"Teyton et al. 2014\", teyton_2014(rules), possible_rule_set, confirmed_rule_set)\n",
    "print_evaluation_result(result)"
   ]
  },
  {
   "cell_type": "code",
   "execution_count": 10,
   "metadata": {},
   "outputs": [
    {
     "name": "stdout",
     "output_type": "stream",
     "text": [
      "Coef confTeyton: 0.046728421929042405\n",
      "Coef apiSupportMin: 0.017542977405545175\n",
      "Coef commitDistance: 0.1405301997499716\n",
      "Coef possibleCommitCount: 0.2995012862769456\n",
      "Result of Generalized Linear Model on 190 Library Queries:\n",
      "MRR-C/P = 0.815912157448874/0.8159956996376794\n",
      "Top   1: Precision-C/P = 0.747/0.747, Recall-C/P = 0.184/0.098, NDCG-C/P = 0.747/0.747\n",
      "Top   2: Precision-C/P = 0.619/0.622, Recall-C/P = 0.303/0.163, NDCG-C/P = 0.726/0.692\n",
      "Top   3: Precision-C/P = 0.509/0.516, Recall-C/P = 0.373/0.202, NDCG-C/P = 0.700/0.642\n",
      "Top   4: Precision-C/P = 0.440/0.447, Recall-C/P = 0.429/0.233, NDCG-C/P = 0.689/0.608\n",
      "Top   5: Precision-C/P = 0.400/0.409, Recall-C/P = 0.488/0.266, NDCG-C/P = 0.695/0.597\n",
      "Top   6: Precision-C/P = 0.364/0.373, Recall-C/P = 0.532/0.291, NDCG-C/P = 0.695/0.584\n",
      "Top   7: Precision-C/P = 0.334/0.342, Recall-C/P = 0.569/0.312, NDCG-C/P = 0.695/0.571\n",
      "Top   8: Precision-C/P = 0.311/0.318, Recall-C/P = 0.605/0.331, NDCG-C/P = 0.702/0.565\n",
      "Top   9: Precision-C/P = 0.286/0.294, Recall-C/P = 0.626/0.344, NDCG-C/P = 0.702/0.558\n",
      "Top  10: Precision-C/P = 0.269/0.277, Recall-C/P = 0.653/0.360, NDCG-C/P = 0.706/0.556\n",
      "Top  20: Precision-C/P = 0.166/0.175, Recall-C/P = 0.805/0.452, NDCG-C/P = 0.741/0.561\n",
      "Top  30: Precision-C/P = 0.120/0.128, Recall-C/P = 0.867/0.494, NDCG-C/P = 0.751/0.566\n",
      "Top  40: Precision-C/P = 0.094/0.101, Recall-C/P = 0.897/0.517, NDCG-C/P = 0.755/0.568\n",
      "Top  50: Precision-C/P = 0.077/0.085, Recall-C/P = 0.913/0.539, NDCG-C/P = 0.756/0.570\n",
      "Top  60: Precision-C/P = 0.066/0.073, Recall-C/P = 0.928/0.552, NDCG-C/P = 0.759/0.575\n",
      "Top  70: Precision-C/P = 0.057/0.065, Recall-C/P = 0.933/0.563, NDCG-C/P = 0.757/0.572\n",
      "Top  80: Precision-C/P = 0.051/0.058, Recall-C/P = 0.942/0.577, NDCG-C/P = 0.758/0.575\n",
      "Top  90: Precision-C/P = 0.046/0.053, Recall-C/P = 0.951/0.591, NDCG-C/P = 0.760/0.579\n",
      "Top 100: Precision-C/P = 0.042/0.049, Recall-C/P = 0.955/0.600, NDCG-C/P = 0.758/0.578\n"
     ]
    }
   ],
   "source": [
    "def regression(rules):\n",
    "    feat_names = [\"confTeyton\", \"apiSupportMin\", \"commitDistance\", \"possibleCommitCount\"]\n",
    "    rules[\"apiSupportMin\"] = rules[\"apiSupport\"].apply(lambda x: max(0.1, x))\n",
    "    feat_series = {name: np.log2(rules[name] + 1) for name in feat_names}\n",
    "    X = []\n",
    "    for i in range(0, len(rules)):\n",
    "        X.append([feat_series[name].iloc[i] for name in feat_names])      \n",
    "    y = list(map(\n",
    "        lambda x: int(x[0]) + int(x[1]),\n",
    "        zip(rules[\"isConfirmed\"], rules[\"isPossible\"])\n",
    "    ))\n",
    "    sample_weight = list(map(\n",
    "        lambda x: int(x[0]) * 5 + int(x[1]) * 1 + 0.08,\n",
    "        zip(rules[\"isConfirmed\"], rules[\"isPossible\"])\n",
    "    ))\n",
    "    reg = linear_model.TweedieRegressor(power=1, verbose=1)\n",
    "    reg.fit(X, y, sample_weight)\n",
    "    for idx, coef in enumerate(reg.coef_):\n",
    "        print(\"Coef {}: {}\".format(feat_names[idx], coef))\n",
    "    rules[\"confidence\"] = reg.predict(X)\n",
    "    return rules.sort_values(by=[\"fromLib\", \"confidence\"], ascending=[True, False])\n",
    "result = evaluate(\"Generalized Linear Model\", regression(rules), possible_rule_set, confirmed_rule_set)\n",
    "print_evaluation_result(result)"
   ]
  },
  {
   "cell_type": "code",
   "execution_count": 14,
   "metadata": {},
   "outputs": [
    {
     "name": "stdout",
     "output_type": "stream",
     "text": [
      "RuleFreq                      : Precision@1 = 0.426, MRR = 0.520, Recall@5 = 0.228, Recall@10 = 0.308, Recall@20 = 0.423, NDCG@10 = 0.357\n",
      "Teyton et al. 2013            : Precision@1 = 0.663, MRR = 0.728, Recall@5 = 0.410, Recall@10 = 0.573, Recall@20 = 0.713, NDCG@10 = 0.589\n",
      "Message                       : Precision@1 = 0.668, MRR = 0.753, Recall@5 = 0.442, Recall@10 = 0.611, Recall@20 = 0.752, NDCG@10 = 0.642\n",
      "Teyton * Message              : Precision@1 = 0.753, MRR = 0.822, Recall@5 = 0.511, Recall@10 = 0.701, Recall@20 = 0.856, NDCG@10 = 0.736\n",
      "Teyton * Message * Distance   : Precision@1 = 0.779, MRR = 0.843, Recall@5 = 0.528, Recall@10 = 0.715, Recall@20 = 0.862, NDCG@10 = 0.756\n",
      "Teyton * Message * APISupport : Precision@1 = 0.768, MRR = 0.833, Recall@5 = 0.512, Recall@10 = 0.697, Recall@20 = 0.871, NDCG@10 = 0.740\n",
      "Our Method                    : Precision@1 = 0.795, MRR = 0.857, Recall@5 = 0.533, Recall@10 = 0.709, Recall@20 = 0.894, NDCG@10 = 0.767\n"
     ]
    }
   ],
   "source": [
    "def rule_freq(rules):\n",
    "    return rules.sample(frac=1).sort_values(by=[\"fromLib\", \"ruleFreq\"], ascending=[True, False])\n",
    "def rule_freq_same_commit(rules):\n",
    "    return rules.sample(frac=1).sort_values(by=[\"fromLib\", \"ruleFreqSameCommit\"], ascending=[True, False])\n",
    "def rule_freq_to_lib_same_commit(rules):\n",
    "    return rules.sample(frac=1).sort_values(by=[\"fromLib\", \"ruleFreqToLibSameCommit\"], ascending=[True, False])\n",
    "def method(rules, a, b, c, d):\n",
    "    rules[\"confidence\"] = (\n",
    "        rules[\"confTeyton\"] ** a\n",
    "        * np.maximum(0.1, rules[\"apiSupport\"]) ** b\n",
    "        * rules[\"commitDistance\"] ** c\n",
    "        * np.log2(rules[\"possibleCommitCount\"] + 1) ** d\n",
    "    )\n",
    "    return rules.sample(frac=1).sort_values(by=[\"fromLib\", \"confidence\"], ascending=[True, False])\n",
    "def parallel_worker(name, func, params):\n",
    "    return evaluate(name, func(rules, *params), possible_rule_set, confirmed_rule_set)\n",
    "methods = [\n",
    "    (\"RuleFreq\", rule_freq, ()),\n",
    "    (\"Teyton et al. 2013\", teyton_2013, ()),\n",
    "    # (\"APISupport\", method, (0, 1, 0, 0)), \n",
    "    # (\"CommitDistance\", method, (0, 0, 1, 0)), \n",
    "    (\"Message\", method, (0, 0, 0, 1)),\n",
    "    # (\"ConfTeyton * APISupport\", method, (1, 1, 0, 0)),\n",
    "    # (\"ConfTeyton * CommitDistance\", method, (1, 1, 1, 0)),\n",
    "    (\"Teyton * Message\", method, (1, 0, 0, 1)),\n",
    "    (\"Teyton * Message * Distance\", method, (1, 1, 0, 1)),\n",
    "    (\"Teyton * Message * APISupport\", method, (1, 0, 1, 1)),\n",
    "    (\"Our Method\", our_method, ())\n",
    "]\n",
    "pool = multiprocessing.Pool(12)\n",
    "results = pool.starmap(parallel_worker, methods)\n",
    "pool.close()\n",
    "pool.join()\n",
    "for result in results:\n",
    "    print_one_line_evaluation_result(result)\n",
    "# print_one_line_evaluation_result(parallel_worker(\"Generalized Linear Model\", regression, ()))"
   ]
  },
  {
   "cell_type": "code",
   "execution_count": 19,
   "metadata": {},
   "outputs": [
    {
     "data": {
      "image/png": "[encoded data removed]",
      "text/plain": [
       "<Figure size 1764x216 with 7 Axes>"
      ]
     },
     "metadata": {
      "needs_background": "light"
     },
     "output_type": "display_data"
    }
   ],
   "source": [
    "fig, axes = plt.subplots(1, len(methods), figsize=(3.5 * len(methods), 3))\n",
    "for i, result in enumerate(results):\n",
    "    x = list(range(1, len(result[\"Precision-C@k\"]) + 1))\n",
    "    axes[i].plot(x, result[\"Precision-C@k\"], label=\"Precision@k\")\n",
    "    axes[i].plot(x, result[\"Recall-C@k\"], label=\"Recall@k\")\n",
    "    axes[i].plot(x, result[\"NDCG-C@k\"], label=\"NDCG@k\")\n",
    "    axes[i].set_xlabel(result[\"Name\"])\n",
    "    axes[i].set_ylim([0, 1])\n",
    "    if i == 0:\n",
    "        axes[i].set_ylabel(\"Value\")\n",
    "        axes[i].legend()\n",
    "fig.show()\n",
    "fig.savefig(\"pic/metric-trend.pdf\", bbox_inches=\"tight\")"
   ]
  },
  {
   "cell_type": "code",
   "execution_count": 12,
   "metadata": {},
   "outputs": [
    {
     "name": "stdout",
     "output_type": "stream",
     "text": [
      "[0.2, 1, 1, 1]                : Precision@1 = 0.763, MRR = 0.836, Recall@5 = 0.514, Recall@10 = 0.682, Recall@20 = 0.832, NDCG@10 = 0.735\n",
      "[0.4, 1, 1, 1]                : Precision@1 = 0.784, MRR = 0.850, Recall@5 = 0.525, Recall@10 = 0.691, Recall@20 = 0.846, NDCG@10 = 0.750\n",
      "[0.6, 1, 1, 1]                : Precision@1 = 0.789, MRR = 0.852, Recall@5 = 0.530, Recall@10 = 0.700, Recall@20 = 0.860, NDCG@10 = 0.756\n",
      "[0.8, 1, 1, 1]                : Precision@1 = 0.784, MRR = 0.848, Recall@5 = 0.533, Recall@10 = 0.706, Recall@20 = 0.871, NDCG@10 = 0.759\n",
      "[1.0, 1, 1, 1]                : Precision@1 = 0.784, MRR = 0.848, Recall@5 = 0.533, Recall@10 = 0.708, Recall@20 = 0.881, NDCG@10 = 0.760\n",
      "[1.5, 1, 1, 1]                : Precision@1 = 0.784, MRR = 0.846, Recall@5 = 0.534, Recall@10 = 0.713, Recall@20 = 0.877, NDCG@10 = 0.760\n",
      "[2.0, 1, 1, 1]                : Precision@1 = 0.779, MRR = 0.843, Recall@5 = 0.532, Recall@10 = 0.712, Recall@20 = 0.873, NDCG@10 = 0.758\n",
      "[2.5, 1, 1, 1]                : Precision@1 = 0.779, MRR = 0.842, Recall@5 = 0.529, Recall@10 = 0.706, Recall@20 = 0.872, NDCG@10 = 0.756\n",
      "[3.0, 1, 1, 1]                : Precision@1 = 0.784, MRR = 0.845, Recall@5 = 0.529, Recall@10 = 0.706, Recall@20 = 0.867, NDCG@10 = 0.757\n",
      "[3.5, 1, 1, 1]                : Precision@1 = 0.784, MRR = 0.844, Recall@5 = 0.532, Recall@10 = 0.706, Recall@20 = 0.859, NDCG@10 = 0.756\n",
      "[4.0, 1, 1, 1]                : Precision@1 = 0.784, MRR = 0.844, Recall@5 = 0.532, Recall@10 = 0.706, Recall@20 = 0.859, NDCG@10 = 0.755\n",
      "[1, 0.2, 1, 1]                : Precision@1 = 0.784, MRR = 0.843, Recall@5 = 0.521, Recall@10 = 0.702, Recall@20 = 0.871, NDCG@10 = 0.751\n",
      "[1, 0.4, 1, 1]                : Precision@1 = 0.789, MRR = 0.848, Recall@5 = 0.523, Recall@10 = 0.704, Recall@20 = 0.878, NDCG@10 = 0.757\n",
      "[1, 0.6, 1, 1]                : Precision@1 = 0.784, MRR = 0.845, Recall@5 = 0.527, Recall@10 = 0.706, Recall@20 = 0.878, NDCG@10 = 0.757\n",
      "[1, 0.8, 1, 1]                : Precision@1 = 0.779, MRR = 0.843, Recall@5 = 0.529, Recall@10 = 0.706, Recall@20 = 0.881, NDCG@10 = 0.757\n",
      "[1, 1.0, 1, 1]                : Precision@1 = 0.779, MRR = 0.845, Recall@5 = 0.532, Recall@10 = 0.706, Recall@20 = 0.882, NDCG@10 = 0.758\n",
      "[1, 1.5, 1, 1]                : Precision@1 = 0.779, MRR = 0.846, Recall@5 = 0.533, Recall@10 = 0.706, Recall@20 = 0.882, NDCG@10 = 0.757\n",
      "[1, 2.0, 1, 1]                : Precision@1 = 0.763, MRR = 0.838, Recall@5 = 0.532, Recall@10 = 0.706, Recall@20 = 0.884, NDCG@10 = 0.755\n",
      "[1, 2.5, 1, 1]                : Precision@1 = 0.758, MRR = 0.833, Recall@5 = 0.529, Recall@10 = 0.706, Recall@20 = 0.884, NDCG@10 = 0.754\n",
      "[1, 3.0, 1, 1]                : Precision@1 = 0.758, MRR = 0.833, Recall@5 = 0.530, Recall@10 = 0.706, Recall@20 = 0.884, NDCG@10 = 0.754\n",
      "[1, 3.5, 1, 1]                : Precision@1 = 0.747, MRR = 0.827, Recall@5 = 0.530, Recall@10 = 0.704, Recall@20 = 0.884, NDCG@10 = 0.751\n",
      "[1, 4.0, 1, 1]                : Precision@1 = 0.747, MRR = 0.827, Recall@5 = 0.527, Recall@10 = 0.702, Recall@20 = 0.884, NDCG@10 = 0.750\n",
      "[1, 1, 0.2, 1]                : Precision@1 = 0.779, MRR = 0.844, Recall@5 = 0.534, Recall@10 = 0.708, Recall@20 = 0.869, NDCG@10 = 0.755\n",
      "[1, 1, 0.4, 1]                : Precision@1 = 0.779, MRR = 0.845, Recall@5 = 0.537, Recall@10 = 0.710, Recall@20 = 0.876, NDCG@10 = 0.758\n",
      "[1, 1, 0.6, 1]                : Precision@1 = 0.784, MRR = 0.850, Recall@5 = 0.542, Recall@10 = 0.717, Recall@20 = 0.880, NDCG@10 = 0.767\n",
      "[1, 1, 0.8, 1]                : Precision@1 = 0.789, MRR = 0.853, Recall@5 = 0.539, Recall@10 = 0.717, Recall@20 = 0.885, NDCG@10 = 0.768\n",
      "[1, 1, 1.0, 1]                : Precision@1 = 0.795, MRR = 0.856, Recall@5 = 0.539, Recall@10 = 0.710, Recall@20 = 0.886, NDCG@10 = 0.768\n",
      "[1, 1, 1.5, 1]                : Precision@1 = 0.784, MRR = 0.849, Recall@5 = 0.530, Recall@10 = 0.704, Recall@20 = 0.867, NDCG@10 = 0.760\n",
      "[1, 1, 2.0, 1]                : Precision@1 = 0.784, MRR = 0.850, Recall@5 = 0.532, Recall@10 = 0.686, Recall@20 = 0.846, NDCG@10 = 0.752\n",
      "[1, 1, 2.5, 1]                : Precision@1 = 0.768, MRR = 0.839, Recall@5 = 0.525, Recall@10 = 0.679, Recall@20 = 0.836, NDCG@10 = 0.742\n",
      "[1, 1, 3.0, 1]                : Precision@1 = 0.758, MRR = 0.825, Recall@5 = 0.508, Recall@10 = 0.674, Recall@20 = 0.821, NDCG@10 = 0.725\n",
      "[1, 1, 3.5, 1]                : Precision@1 = 0.742, MRR = 0.811, Recall@5 = 0.497, Recall@10 = 0.666, Recall@20 = 0.815, NDCG@10 = 0.710\n",
      "[1, 1, 4.0, 1]                : Precision@1 = 0.742, MRR = 0.807, Recall@5 = 0.490, Recall@10 = 0.657, Recall@20 = 0.805, NDCG@10 = 0.704\n",
      "[1, 1, 1, 0.2]                : Precision@1 = 0.789, MRR = 0.854, Recall@5 = 0.542, Recall@10 = 0.714, Recall@20 = 0.878, NDCG@10 = 0.766\n",
      "[1, 1, 1, 0.4]                : Precision@1 = 0.789, MRR = 0.854, Recall@5 = 0.539, Recall@10 = 0.713, Recall@20 = 0.885, NDCG@10 = 0.766\n",
      "[1, 1, 1, 0.6]                : Precision@1 = 0.795, MRR = 0.856, Recall@5 = 0.538, Recall@10 = 0.710, Recall@20 = 0.886, NDCG@10 = 0.767\n",
      "[1, 1, 1, 0.8]                : Precision@1 = 0.784, MRR = 0.847, Recall@5 = 0.534, Recall@10 = 0.705, Recall@20 = 0.885, NDCG@10 = 0.758\n",
      "[1, 1, 1, 1.0]                : Precision@1 = 0.784, MRR = 0.847, Recall@5 = 0.534, Recall@10 = 0.704, Recall@20 = 0.885, NDCG@10 = 0.758\n",
      "[1, 1, 1, 1.5]                : Precision@1 = 0.789, MRR = 0.849, Recall@5 = 0.534, Recall@10 = 0.708, Recall@20 = 0.876, NDCG@10 = 0.759\n",
      "[1, 1, 1, 2.0]                : Precision@1 = 0.789, MRR = 0.851, Recall@5 = 0.528, Recall@10 = 0.710, Recall@20 = 0.872, NDCG@10 = 0.760\n",
      "[1, 1, 1, 2.5]                : Precision@1 = 0.795, MRR = 0.853, Recall@5 = 0.527, Recall@10 = 0.709, Recall@20 = 0.869, NDCG@10 = 0.758\n",
      "[1, 1, 1, 3.0]                : Precision@1 = 0.779, MRR = 0.845, Recall@5 = 0.525, Recall@10 = 0.706, Recall@20 = 0.865, NDCG@10 = 0.752\n",
      "[1, 1, 1, 3.5]                : Precision@1 = 0.784, MRR = 0.848, Recall@5 = 0.527, Recall@10 = 0.709, Recall@20 = 0.864, NDCG@10 = 0.755\n",
      "[1, 1, 1, 4.0]                : Precision@1 = 0.784, MRR = 0.848, Recall@5 = 0.525, Recall@10 = 0.706, Recall@20 = 0.862, NDCG@10 = 0.755\n"
     ]
    }
   ],
   "source": [
    "vals = [0.2, 0.4, 0.6, 0.8, 1.0, 1.5, 2.0, 2.5, 3.0, 3.5, 4.0]\n",
    "params = []\n",
    "for loc in range(0, 4):\n",
    "    for i in vals:\n",
    "        param = [1, 1, 1, 1]\n",
    "        param[loc] = i\n",
    "        params.append((str(param), method, param))\n",
    "pool = multiprocessing.Pool(12)\n",
    "results = pool.starmap(parallel_worker, params)\n",
    "pool.close()\n",
    "for result in results:\n",
    "    print_one_line_evaluation_result(result)"
   ]
  },
  {
   "cell_type": "code",
   "execution_count": null,
   "metadata": {},
   "outputs": [],
   "source": []
  }
 ],
 "metadata": {
  "kernelspec": {
   "display_name": "Python 3",
   "language": "python",
   "name": "python3"
  },
  "language_info": {
   "codemirror_mode": {
    "name": "ipython",
    "version": 3
   },
   "file_extension": ".py",
   "mimetype": "text/x-python",
   "name": "python",
   "nbconvert_exporter": "python",
   "pygments_lexer": "ipython3",
   "version": "3.7.4"
  }
 },
 "nbformat": 4,
 "nbformat_minor": 4
}
