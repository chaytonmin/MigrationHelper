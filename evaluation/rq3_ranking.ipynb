{
 "cells": [
  {
   "cell_type": "code",
   "execution_count": 1,
   "metadata": {},
   "outputs": [],
   "source": [
    "import pandas as pd\n",
    "import numpy as np\n",
    "import multiprocessing\n",
    "import matplotlib.pyplot as plt\n",
    "import seaborn as sns\n",
    "from sklearn import linear_model"
   ]
  },
  {
   "cell_type": "code",
   "execution_count": 2,
   "metadata": {},
   "outputs": [],
   "source": [
    "rules = pd.read_csv(\"test-recommend-output-wocDepSeq3-all.csv\")\n",
    "#to_lib2max_freq = {to_lib: max(row[\"ruleFreqSameCommit\"]) for to_lib, row in rules.groupby(by=\"toLib\")}\n",
    "#rules[\"ruleFreqToLibSameCommit\"] = rules[\"ruleFreqSameCommit\"] / rules[\"toLib\"].apply(lambda x: to_lib2max_freq[x])\n",
    "#rules.insert(4, \"confTeyton\", np.minimum(rules[\"ruleFreqSameCommit\"], rules[\"ruleFreqToLibSameCommit\"]).fillna(0))\n",
    "to_lib2cnt = {to_lib: len(rows) for to_lib, rows in rules.groupby(by=\"toLib\")}\n",
    "from_lib2cnt = {from_lib: len(rows) for from_lib, rows in rules.groupby(by=\"fromLib\")}\n",
    "rules[\"confTeyton\"] = (rules[\"ruleCountSameCommit\"] / np.maximum(\n",
    "    rules[\"toLib\"].apply(lambda x: to_lib2cnt[x]),\n",
    "    rules[\"fromLib\"].apply(lambda x: from_lib2cnt[x])\n",
    ")).fillna(0)\n",
    "# to_lib2max_freq = {to_lib: max(row[\"ruleFreq\"]) for to_lib, row in rules.groupby(by=\"toLib\")}\n",
    "# rules[\"ruleFreqToLib\"] = rules[\"ruleFreq\"] / rules[\"toLib\"].apply(lambda x: to_lib2max_freq[x])\n",
    "# rules[\"popularityRegularization\"] = rules[\"ruleFreq\"] * rules[\"concurrenceAdjustment\"]\n",
    "# from_lib2max_count = {from_lib: max(row[\"possibleCommitCount\"]) for from_lib, row in rules.groupby(by=\"fromLib\")}\n",
    "# rules[\"commitMessageSupport\"] = [x / (from_lib2max_count[from_lib] + 1) for from_lib, x in zip(rules[\"fromLib\"], rules[\"possibleCommitCount\"])]"
   ]
  },
  {
   "cell_type": "code",
   "execution_count": 3,
   "metadata": {},
   "outputs": [
    {
     "data": {
      "text/plain": [
       "(195, 1)"
      ]
     },
     "execution_count": 3,
     "metadata": {},
     "output_type": "execute_result"
    }
   ],
   "source": [
    "from_libs = set()\n",
    "with open(\"from-lib-confirmed.txt\", \"r\") as f:\n",
    "    from_libs = set(x.strip() for x in f)\n",
    "len(from_libs), len(from_libs - set(rules[\"fromLib\"]))"
   ]
  },
  {
   "cell_type": "code",
   "execution_count": 4,
   "metadata": {},
   "outputs": [
    {
     "name": "stdout",
     "output_type": "stream",
     "text": [
      "115026\n"
     ]
    }
   ],
   "source": [
    "import2vecs = dict()\n",
    "with open(\"../embedding/java_w2v_dim100.txt\", \"r\") as f:\n",
    "    num_lib, num_dim = tuple(f.readline().split(\" \"))\n",
    "    num_lib, num_dim = int(num_lib), int(num_dim)\n",
    "    for line in f:\n",
    "        vals = line.split(\" \")\n",
    "        import2vecs[vals[0]] = [float(x) for x in vals[1:]]\n",
    "similarities = []\n",
    "for f, t in zip(rules[\"fromLib\"], rules[\"toLib\"]):\n",
    "    if f in import2vecs and t in import2vecs:\n",
    "        similarities.append(\n",
    "            np.dot(import2vecs[f], import2vecs[t]) \n",
    "            / (np.linalg.norm(import2vecs[f]) * np.linalg.norm(import2vecs[t])))\n",
    "    else:\n",
    "        similarities.append(0)\n",
    "rules[\"similarity\"] = similarities\n",
    "print(len(rules[rules[\"similarity\"] != 0]))"
   ]
  },
  {
   "cell_type": "code",
   "execution_count": 5,
   "metadata": {},
   "outputs": [
    {
     "name": "stdout",
     "output_type": "stream",
     "text": [
      "# rules = 243152, # confirmed = 773, # possible = 1446, # confirmed from libs = 190\n"
     ]
    }
   ],
   "source": [
    "ground_truth = pd.read_excel(\"manual/ground-truth.xlsx\")\n",
    "rules_existed = set(zip(rules[\"fromLib\"], rules[\"toLib\"]))\n",
    "confirmed_rule_set = set(zip(\n",
    "    ground_truth[ground_truth[\"isConfirmed\"]][\"fromLib\"], \n",
    "    ground_truth[ground_truth[\"isConfirmed\"]][\"toLib\"]\n",
    ")) & rules_existed\n",
    "possible_rule_set = (set(zip(\n",
    "    ground_truth[ground_truth[\"ruleCount\"] > 0][\"fromLib\"], \n",
    "    ground_truth[ground_truth[\"ruleCount\"] > 0][\"toLib\"]\n",
    ")) | confirmed_rule_set) & rules_existed\n",
    "\n",
    "rules[\"isPossible\"] = [x in possible_rule_set for x in zip(rules[\"fromLib\"], rules[\"toLib\"])]\n",
    "rules.insert(2, \"isConfirmed\", [x in confirmed_rule_set for x in zip(rules[\"fromLib\"], rules[\"toLib\"])])\n",
    "possible_rules = rules[rules[\"isPossible\"]]\n",
    "confirmed_rules = rules[rules[\"isConfirmed\"]]\n",
    "other_rules = rules[~rules[\"isConfirmed\"] & ~rules[\"isPossible\"]]\n",
    "print(\"# rules = {}, # confirmed = {}, # possible = {}, # confirmed from libs = {}\".format(\n",
    "    len(rules), len(confirmed_rule_set), len(possible_rule_set), \n",
    "    len(set(x[0] for x in confirmed_rule_set))\n",
    "))"
   ]
  },
  {
   "cell_type": "code",
   "execution_count": 6,
   "metadata": {},
   "outputs": [],
   "source": [
    "def evaluate(method, rules, possible_rules, confirmed_rules):\n",
    "    top_k = 100\n",
    "    top_rules = [list() for x in range(0, top_k)]\n",
    "    ndcg_possible_at_k = [list() for x in range(0, top_k)]\n",
    "    ndcg_confirmed_at_k = [list() for x in range(0, top_k)]\n",
    "    from_lib_set = set(x for x, y in confirmed_rules)\n",
    "    reciprocal_ranks_confirmed = {}\n",
    "    reciprocal_ranks_possible = {}\n",
    "    for from_lib, candidates in rules.groupby(by=\"fromLib\"):\n",
    "        if from_lib not in from_lib_set:\n",
    "            continue\n",
    "        this_rules = [(from_lib, to_lib) for to_lib in candidates[\"toLib\"]]\n",
    "        this_possible_rules = [(from_lib, to_lib) for from_lib, to_lib in this_rules if (from_lib, to_lib) in possible_rules]\n",
    "        this_confirmed_rules = [(from_lib, to_lib) for from_lib, to_lib in this_rules if (from_lib, to_lib) in confirmed_rules]\n",
    "        for k, (from_lib, to_lib) in enumerate(this_rules):\n",
    "            if k >= top_k:\n",
    "                continue\n",
    "            top_rules[k].append((from_lib, to_lib))\n",
    "            if (from_lib, to_lib) in possible_rules and from_lib not in reciprocal_ranks_possible:\n",
    "                reciprocal_ranks_possible[from_lib] = 1 / (k + 1)\n",
    "            if (from_lib, to_lib) in confirmed_rules and from_lib not in reciprocal_ranks_confirmed:\n",
    "                reciprocal_ranks_confirmed[from_lib] = 1 / (k + 1)\n",
    "            dcg_p = sum(int((from_lib, to_lib) in possible_rules) / np.log2(i+2) for i, (from_lib, to_lib) in enumerate(this_rules[0:k+1]))\n",
    "            idcg_p = sum(1 / np.log2(i+2) for i in range(0, min(k + 1, len(this_possible_rules))))\n",
    "            if idcg_p == 0:\n",
    "                ndcg_possible_at_k[k].append(0)\n",
    "            else:\n",
    "                ndcg_possible_at_k[k].append(dcg_p / idcg_p)\n",
    "            dcg_c = sum(int((from_lib, to_lib) in confirmed_rules) / np.log2(i+2) for i, (from_lib, to_lib) in enumerate(this_rules[0:k+1]))\n",
    "            idcg_c = sum(1 / np.log2(i+2) for i in range(0, min(k + 1, len(this_confirmed_rules))))\n",
    "            if idcg_c == 0:\n",
    "                ndcg_confirmed_at_k[k].append(0)\n",
    "            else:\n",
    "                ndcg_confirmed_at_k[k].append(dcg_c / idcg_c)\n",
    "        if from_lib not in reciprocal_ranks_possible:\n",
    "            reciprocal_ranks_possible[from_lib] = 0\n",
    "        if from_lib not in reciprocal_ranks_confirmed:\n",
    "            reciprocal_ranks_confirmed[from_lib] = 0\n",
    "    for k in range(1, top_k):\n",
    "        top_rules[k] += top_rules[k - 1] \n",
    "    result = {\n",
    "        \"Name\": method,\n",
    "        \"FromLibCount\": len(from_lib_set & set(rules[\"fromLib\"])),\n",
    "        \"MRR-C\": np.mean(list(reciprocal_ranks_confirmed.values())),\n",
    "        \"MRR-P\": np.mean(list(reciprocal_ranks_possible.values())),\n",
    "        \"Precision-C@k\": [],\n",
    "        \"Precision-P@k\": [],\n",
    "        \"Recall-C@k\": [],\n",
    "        \"Recall-P@k\": [],\n",
    "        \"NDCG-C@k\": [],\n",
    "        \"NDCG-P@k\": [],\n",
    "    }\n",
    "    for k in range(0, top_k):\n",
    "        precision = len([x for x in top_rules[k] if x in confirmed_rules]) / len(top_rules[k])\n",
    "        recall = len([x for x in top_rules[k] if x in confirmed_rules]) / len(confirmed_rules)\n",
    "        precision_possible = len([x for x in top_rules[k] if x in possible_rules]) / len(top_rules[k])\n",
    "        recall_possible = len([x for x in top_rules[k] if x in possible_rules]) / len(possible_rules)\n",
    "        result[\"Precision-C@k\"].append(precision)\n",
    "        result[\"Precision-P@k\"].append(precision_possible)\n",
    "        result[\"Recall-C@k\"].append(recall)\n",
    "        result[\"Recall-P@k\"].append(recall_possible)\n",
    "        result[\"NDCG-C@k\"].append(np.mean(ndcg_confirmed_at_k[k]))\n",
    "        result[\"NDCG-P@k\"].append(np.mean(ndcg_possible_at_k[k]))\n",
    "    return result\n",
    "def print_evaluation_result(result):\n",
    "    print(\"Result of {} on {} Library Queries:\".format(result[\"Name\"], result[\"FromLibCount\"]))\n",
    "    print(\"MRR-C/P = {}/{}\".format(result[\"MRR-C\"], result[\"MRR-P\"]))\n",
    "    for k in range(0, len(result[\"Precision-C@k\"])):\n",
    "        if k + 1 > 10 and (k + 1) % 10 != 0:\n",
    "            continue\n",
    "        print(\"Top {:3}: Precision-C/P = {:0.4f}/{:0.4f}, Recall-C/P = {:0.4f}/{:0.4f}, NDCG-C/P = {:0.4f}/{:0.4f}\"\n",
    "              .format(k + 1, \n",
    "                      result[\"Precision-C@k\"][k],\n",
    "                      result[\"Precision-P@k\"][k],\n",
    "                      result[\"Recall-C@k\"][k],\n",
    "                      result[\"Recall-P@k\"][k],\n",
    "                      result[\"NDCG-C@k\"][k], \n",
    "                      result[\"NDCG-P@k\"][k]))\n",
    "def print_one_line_evaluation_result(result):\n",
    "    print(\"{:30}: Precision@1 = {:0.4f}, MRR = {:0.4f}, Recall@5 = {:0.4f}, Recall@10 = {:0.4f}, \"\n",
    "         \"Recall@20 = {:0.4f}, NDCG@10 = {:0.4f}\".format(\n",
    "             result[\"Name\"],\n",
    "             result[\"Precision-C@k\"][0],\n",
    "             result[\"MRR-C\"],\n",
    "             result[\"Recall-C@k\"][4],\n",
    "             result[\"Recall-C@k\"][9],\n",
    "             result[\"Recall-C@k\"][19],\n",
    "             result[\"NDCG-C@k\"][9]\n",
    "         ))"
   ]
  },
  {
   "cell_type": "code",
   "execution_count": 30,
   "metadata": {},
   "outputs": [
    {
     "name": "stdout",
     "output_type": "stream",
     "text": [
      "Result of Our Method on 190 Library Queries:\n",
      "MRR-C/P = 0.8565813287461487/0.8565813287461487\n",
      "Top   1: Precision-C/P = 0.7947/0.7947, Recall-C/P = 0.1953/0.1044, NDCG-C/P = 0.7947/0.7947\n",
      "Top   2: Precision-C/P = 0.6614/0.6640, Recall-C/P = 0.3234/0.1736, NDCG-C/P = 0.7813/0.7396\n",
      "Top   3: Precision-C/P = 0.5583/0.5636, Recall-C/P = 0.4088/0.2206, NDCG-C/P = 0.7644/0.6941\n",
      "Top   4: Precision-C/P = 0.4907/0.4987, Recall-C/P = 0.4787/0.2600, NDCG-C/P = 0.7615/0.6670\n",
      "Top   5: Precision-C/P = 0.4374/0.4469, Recall-C/P = 0.5330/0.2911, NDCG-C/P = 0.7586/0.6467\n",
      "Top   6: Precision-C/P = 0.3912/0.4000, Recall-C/P = 0.5718/0.3126, NDCG-C/P = 0.7555/0.6275\n",
      "Top   7: Precision-C/P = 0.3584/0.3667, Recall-C/P = 0.6106/0.3340, NDCG-C/P = 0.7555/0.6131\n",
      "Top   8: Precision-C/P = 0.3351/0.3431, Recall-C/P = 0.6520/0.3568, NDCG-C/P = 0.7601/0.6073\n",
      "Top   9: Precision-C/P = 0.3146/0.3223, Recall-C/P = 0.6882/0.3769, NDCG-C/P = 0.7653/0.6035\n",
      "Top  10: Precision-C/P = 0.2918/0.2998, Recall-C/P = 0.7089/0.3893, NDCG-C/P = 0.7665/0.5988\n",
      "Top  20: Precision-C/P = 0.1849/0.1937, Recall-C/P = 0.8939/0.5007, NDCG-C/P = 0.8082/0.6068\n",
      "Top  30: Precision-C/P = 0.1288/0.1365, Recall-C/P = 0.9276/0.5256, NDCG-C/P = 0.8152/0.6085\n",
      "Top  40: Precision-C/P = 0.0986/0.1062, Recall-C/P = 0.9405/0.5415, NDCG-C/P = 0.8155/0.6083\n",
      "Top  50: Precision-C/P = 0.0803/0.0884, Recall-C/P = 0.9483/0.5581, NDCG-C/P = 0.8140/0.6086\n",
      "Top  60: Precision-C/P = 0.0678/0.0759, Recall-C/P = 0.9547/0.5712, NDCG-C/P = 0.8159/0.6137\n",
      "Top  70: Precision-C/P = 0.0591/0.0668, Recall-C/P = 0.9638/0.5823, NDCG-C/P = 0.8134/0.6090\n",
      "Top  80: Precision-C/P = 0.0524/0.0600, Recall-C/P = 0.9690/0.5934, NDCG-C/P = 0.8136/0.6101\n",
      "Top  90: Precision-C/P = 0.0469/0.0546, Recall-C/P = 0.9702/0.6037, NDCG-C/P = 0.8140/0.6137\n",
      "Top 100: Precision-C/P = 0.0425/0.0503, Recall-C/P = 0.9702/0.6148, NDCG-C/P = 0.8116/0.6132\n"
     ]
    }
   ],
   "source": [
    "def our_method(rules):\n",
    "    rules[\"confidence\"] = (\n",
    "        # np.minimum(0.15, rules[\"confTeyton\"])\n",
    "        # np.log2(rules[\"confTeyton\"] + 1)\n",
    "        # rules[\"confTeyton\"]\n",
    "        rules[\"ruleFreqSameCommit\"]\n",
    "        # * rules[\"ruleFreq\"]\n",
    "        # * rules[\"ruleCount\"] / rules[\"concurrence\"]\n",
    "        # * rules[\"concurrenceAdjustment\"]\n",
    "        # * np.minimum(rules[\"ruleFreq\"], rules[\"ruleFreqToLib\"])\n",
    "        * np.maximum(0.1, rules[\"apiSupport\"])\n",
    "        # * rules[\"positionSupport\"] \n",
    "        * rules[\"commitDistance\"]\n",
    "        * np.log2(rules[\"possibleCommitCount\"] + 1)\n",
    "        # * np.maximum(0.2, rules[\"commitMessageSupport\"])\n",
    "        # * np.minimum(rules[\"similarity\"], 0.1)\n",
    "    )\n",
    "    return rules.sort_values(by=[\"fromLib\", \"confidence\"], ascending=[True, False])\n",
    "result = evaluate(\"Our Method\", our_method(rules), possible_rule_set, confirmed_rule_set)\n",
    "print_evaluation_result(result)\n",
    "our_method(rules).to_csv(\"recommend-output.csv\", index=False)"
   ]
  },
  {
   "cell_type": "code",
   "execution_count": 9,
   "metadata": {},
   "outputs": [
    {
     "name": "stdout",
     "output_type": "stream",
     "text": [
      "Result of Teyton et al. 2013 on 190 Library Queries:\n",
      "MRR-C/P = 0.7224884151880818/0.7320604117831048\n",
      "Top   1: Precision-C/P = 0.6474/0.6632, Recall-C/P = 0.1591/0.0871, NDCG-C/P = 0.6474/0.6632\n",
      "Top   2: Precision-C/P = 0.4974/0.5132, Recall-C/P = 0.2432/0.1342, NDCG-C/P = 0.5945/0.5791\n",
      "Top   3: Precision-C/P = 0.4276/0.4470, Recall-C/P = 0.3131/0.1750, NDCG-C/P = 0.5871/0.5507\n",
      "Top   4: Precision-C/P = 0.3727/0.3899, Recall-C/P = 0.3635/0.2033, NDCG-C/P = 0.5775/0.5233\n",
      "Top   5: Precision-C/P = 0.3365/0.3577, Recall-C/P = 0.4101/0.2331, NDCG-C/P = 0.5733/0.5094\n",
      "Top   6: Precision-C/P = 0.3150/0.3336, Recall-C/P = 0.4605/0.2607, NDCG-C/P = 0.5791/0.5018\n",
      "Top   7: Precision-C/P = 0.2961/0.3136, Recall-C/P = 0.5045/0.2856, NDCG-C/P = 0.5841/0.4945\n",
      "Top   8: Precision-C/P = 0.2779/0.2952, Recall-C/P = 0.5408/0.3071, NDCG-C/P = 0.5896/0.4898\n",
      "Top   9: Precision-C/P = 0.2590/0.2762, Recall-C/P = 0.5666/0.3230, NDCG-C/P = 0.5925/0.4849\n",
      "Top  10: Precision-C/P = 0.2423/0.2593, Recall-C/P = 0.5886/0.3368, NDCG-C/P = 0.5971/0.4831\n",
      "Top  20: Precision-C/P = 0.1490/0.1637, Recall-C/P = 0.7206/0.4232, NDCG-C/P = 0.6281/0.4877\n",
      "Top  30: Precision-C/P = 0.1103/0.1243, Recall-C/P = 0.7943/0.4786, NDCG-C/P = 0.6421/0.5012\n",
      "Top  40: Precision-C/P = 0.0884/0.1013, Recall-C/P = 0.8435/0.5166, NDCG-C/P = 0.6605/0.5158\n",
      "Top  50: Precision-C/P = 0.0742/0.0869, Recall-C/P = 0.8771/0.5491, NDCG-C/P = 0.6642/0.5209\n",
      "Top  60: Precision-C/P = 0.0640/0.0762, Recall-C/P = 0.9017/0.5733, NDCG-C/P = 0.6697/0.5286\n",
      "Top  70: Precision-C/P = 0.0560/0.0673, Recall-C/P = 0.9133/0.5871, NDCG-C/P = 0.6687/0.5262\n",
      "Top  80: Precision-C/P = 0.0499/0.0605, Recall-C/P = 0.9224/0.5982, NDCG-C/P = 0.6690/0.5274\n",
      "Top  90: Precision-C/P = 0.0450/0.0552, Recall-C/P = 0.9314/0.6100, NDCG-C/P = 0.6715/0.5317\n",
      "Top 100: Precision-C/P = 0.0410/0.0510, Recall-C/P = 0.9379/0.6231, NDCG-C/P = 0.6688/0.5314\n"
     ]
    }
   ],
   "source": [
    "def teyton_2013(rules):\n",
    "    return rules.sample(frac=1).sort_values(by=[\"fromLib\", \"confTeyton\"], ascending=[True, False])\n",
    "result = evaluate(\"Teyton et al. 2013\", teyton_2013(rules), possible_rule_set, confirmed_rule_set)\n",
    "print_evaluation_result(result)"
   ]
  },
  {
   "cell_type": "code",
   "execution_count": 9,
   "metadata": {},
   "outputs": [
    {
     "name": "stdout",
     "output_type": "stream",
     "text": [
      "Result of Alrubaye et al. 2019 on 13 Library Queries:\n",
      "MRR-C/P = 0.8461538461538461/0.8461538461538461\n",
      "Top   1: Precision-C/P = 0.8462/0.8462, Recall-C/P = 0.0142/0.0076, NDCG-C/P = 0.8462/0.8462\n",
      "Top   2: Precision-C/P = 0.7857/0.7857, Recall-C/P = 0.0142/0.0076, NDCG-C/P = 0.0000/0.0000\n",
      "Top   3: Precision-C/P = 0.7857/0.7857, Recall-C/P = 0.0142/0.0076, NDCG-C/P = nan/nan\n",
      "Top   4: Precision-C/P = 0.7857/0.7857, Recall-C/P = 0.0142/0.0076, NDCG-C/P = nan/nan\n",
      "Top   5: Precision-C/P = 0.7857/0.7857, Recall-C/P = 0.0142/0.0076, NDCG-C/P = nan/nan\n",
      "Top   6: Precision-C/P = 0.7857/0.7857, Recall-C/P = 0.0142/0.0076, NDCG-C/P = nan/nan\n",
      "Top   7: Precision-C/P = 0.7857/0.7857, Recall-C/P = 0.0142/0.0076, NDCG-C/P = nan/nan\n",
      "Top   8: Precision-C/P = 0.7857/0.7857, Recall-C/P = 0.0142/0.0076, NDCG-C/P = nan/nan\n",
      "Top   9: Precision-C/P = 0.7857/0.7857, Recall-C/P = 0.0142/0.0076, NDCG-C/P = nan/nan\n",
      "Top  10: Precision-C/P = 0.7857/0.7857, Recall-C/P = 0.0142/0.0076, NDCG-C/P = nan/nan\n",
      "Top  20: Precision-C/P = 0.7857/0.7857, Recall-C/P = 0.0142/0.0076, NDCG-C/P = nan/nan\n",
      "Top  30: Precision-C/P = 0.7857/0.7857, Recall-C/P = 0.0142/0.0076, NDCG-C/P = nan/nan\n",
      "Top  40: Precision-C/P = 0.7857/0.7857, Recall-C/P = 0.0142/0.0076, NDCG-C/P = nan/nan\n",
      "Top  50: Precision-C/P = 0.7857/0.7857, Recall-C/P = 0.0142/0.0076, NDCG-C/P = nan/nan\n",
      "Top  60: Precision-C/P = 0.7857/0.7857, Recall-C/P = 0.0142/0.0076, NDCG-C/P = nan/nan\n",
      "Top  70: Precision-C/P = 0.7857/0.7857, Recall-C/P = 0.0142/0.0076, NDCG-C/P = nan/nan\n",
      "Top  80: Precision-C/P = 0.7857/0.7857, Recall-C/P = 0.0142/0.0076, NDCG-C/P = nan/nan\n",
      "Top  90: Precision-C/P = 0.7857/0.7857, Recall-C/P = 0.0142/0.0076, NDCG-C/P = nan/nan\n",
      "Top 100: Precision-C/P = 0.7857/0.7857, Recall-C/P = 0.0142/0.0076, NDCG-C/P = nan/nan\n"
     ]
    },
    {
     "name": "stderr",
     "output_type": "stream",
     "text": [
      "/home/heh/anaconda3/lib/python3.7/site-packages/numpy/core/fromnumeric.py:3257: RuntimeWarning: Mean of empty slice.\n",
      "  out=out, **kwargs)\n",
      "/home/heh/anaconda3/lib/python3.7/site-packages/numpy/core/_methods.py:161: RuntimeWarning: invalid value encountered in double_scalars\n",
      "  ret = ret.dtype.type(ret / rcount)\n"
     ]
    }
   ],
   "source": [
    "def alrubaye_2019(rules):\n",
    "    return rules[\n",
    "        (rules[\"methodChangeCount\"] > 0) & (rules[\"ruleFreqSameCommit\"] == 1)\n",
    "    ].sort_values(by=[\"fromLib\", \"ruleFreqSameCommit\"], ascending=[True, False])\n",
    "result = evaluate(\"Alrubaye et al. 2019\", alrubaye_2019(rules), possible_rule_set, confirmed_rule_set)\n",
    "print_evaluation_result(result)"
   ]
  },
  {
   "cell_type": "code",
   "execution_count": 11,
   "metadata": {},
   "outputs": [
    {
     "name": "stdout",
     "output_type": "stream",
     "text": [
      "Coef confTeyton: 0.0020397890837172837\n",
      "Coef apiSupportMin: 0.01768948475118095\n",
      "Coef commitDistance: 0.1411219074734114\n",
      "Coef possibleCommitCount: 0.3026174543921507\n",
      "Result of Generalized Linear Model on 190 Library Queries:\n",
      "MRR-C/P = 0.8104735609576461/0.8105571031464515\n",
      "Top   1: Precision-C/P = 0.7368/0.7368, Recall-C/P = 0.1811/0.0968, NDCG-C/P = 0.7368/0.7368\n",
      "Top   2: Precision-C/P = 0.6190/0.6217, Recall-C/P = 0.3027/0.1625, NDCG-C/P = 0.7241/0.6893\n",
      "Top   3: Precision-C/P = 0.5106/0.5159, Recall-C/P = 0.3739/0.2019, NDCG-C/P = 0.6991/0.6397\n",
      "Top   4: Precision-C/P = 0.4403/0.4469, Recall-C/P = 0.4295/0.2331, NDCG-C/P = 0.6871/0.6067\n",
      "Top   5: Precision-C/P = 0.3992/0.4076, Recall-C/P = 0.4864/0.2656, NDCG-C/P = 0.6917/0.5948\n",
      "Top   6: Precision-C/P = 0.3637/0.3726, Recall-C/P = 0.5317/0.2911, NDCG-C/P = 0.6933/0.5822\n",
      "Top   7: Precision-C/P = 0.3326/0.3402, Recall-C/P = 0.5666/0.3098, NDCG-C/P = 0.6920/0.5673\n",
      "Top   8: Precision-C/P = 0.3092/0.3165, Recall-C/P = 0.6016/0.3292, NDCG-C/P = 0.6983/0.5621\n",
      "Top   9: Precision-C/P = 0.2850/0.2927, Recall-C/P = 0.6235/0.3423, NDCG-C/P = 0.6988/0.5552\n",
      "Top  10: Precision-C/P = 0.2678/0.2758, Recall-C/P = 0.6507/0.3582, NDCG-C/P = 0.7035/0.5532\n",
      "Top  20: Precision-C/P = 0.1659/0.1742, Recall-C/P = 0.8021/0.4502, NDCG-C/P = 0.7381/0.5579\n",
      "Top  30: Precision-C/P = 0.1202/0.1279, Recall-C/P = 0.8655/0.4924, NDCG-C/P = 0.7484/0.5633\n",
      "Top  40: Precision-C/P = 0.0940/0.1013, Recall-C/P = 0.8965/0.5166, NDCG-C/P = 0.7527/0.5653\n",
      "Top  50: Precision-C/P = 0.0773/0.0854, Recall-C/P = 0.9133/0.5394, NDCG-C/P = 0.7530/0.5675\n",
      "Top  60: Precision-C/P = 0.0658/0.0732, Recall-C/P = 0.9263/0.5512, NDCG-C/P = 0.7560/0.5724\n",
      "Top  70: Precision-C/P = 0.0571/0.0645, Recall-C/P = 0.9314/0.5622, NDCG-C/P = 0.7540/0.5694\n",
      "Top  80: Precision-C/P = 0.0508/0.0582, Recall-C/P = 0.9405/0.5754, NDCG-C/P = 0.7552/0.5723\n",
      "Top  90: Precision-C/P = 0.0458/0.0532, Recall-C/P = 0.9483/0.5885, NDCG-C/P = 0.7572/0.5761\n",
      "Top 100: Precision-C/P = 0.0417/0.0489, Recall-C/P = 0.9521/0.5975, NDCG-C/P = 0.7551/0.5750\n"
     ]
    }
   ],
   "source": [
    "def regression(rules):\n",
    "    feat_names = [\"confTeyton\", \"apiSupportMin\", \"commitDistance\", \"possibleCommitCount\"]\n",
    "    rules[\"apiSupportMin\"] = rules[\"apiSupport\"].apply(lambda x: max(0.1, x))\n",
    "    feat_series = {name: np.log2(rules[name] + 1) for name in feat_names}\n",
    "    X = []\n",
    "    for i in range(0, len(rules)):\n",
    "        X.append([feat_series[name].iloc[i] for name in feat_names])      \n",
    "    y = list(map(\n",
    "        lambda x: int(x[0]) + int(x[1]),\n",
    "        zip(rules[\"isConfirmed\"], rules[\"isPossible\"])\n",
    "    ))\n",
    "    sample_weight = list(map(\n",
    "        lambda x: int(x[0]) * 5 + int(x[1]) * 1 + 0.08,\n",
    "        zip(rules[\"isConfirmed\"], rules[\"isPossible\"])\n",
    "    ))\n",
    "    reg = linear_model.TweedieRegressor(power=1, verbose=1)\n",
    "    reg.fit(X, y, sample_weight)\n",
    "    for idx, coef in enumerate(reg.coef_):\n",
    "        print(\"Coef {}: {}\".format(feat_names[idx], coef))\n",
    "    rules[\"confidence\"] = reg.predict(X)\n",
    "    return rules.sort_values(by=[\"fromLib\", \"confidence\"], ascending=[True, False])\n",
    "result = evaluate(\"Generalized Linear Model\", regression(rules), possible_rule_set, confirmed_rule_set)\n",
    "print_evaluation_result(result)"
   ]
  },
  {
   "cell_type": "code",
   "execution_count": 27,
   "metadata": {},
   "outputs": [
    {
     "name": "stdout",
     "output_type": "stream",
     "text": [
      "RuleFreq                      : Precision@1 = 0.4474, MRR = 0.5324, Recall@5 = 0.2225, Recall@10 = 0.3040, Recall@20 = 0.4256, NDCG@10 = 0.3595\n",
      "RuleFreqSameCommit            : Precision@1 = 0.6474, MRR = 0.7208, Recall@5 = 0.4140, Recall@10 = 0.5951, Recall@20 = 0.7270, NDCG@10 = 0.6025\n",
      "Teyton et al. 2013            : Precision@1 = 0.6368, MRR = 0.7133, Recall@5 = 0.4153, Recall@10 = 0.5951, Recall@20 = 0.7257, NDCG@10 = 0.5972\n",
      "Alrubaye et al. 2019          : Precision@1 = 0.4611, MRR = 0.5004, Recall@5 = 0.2109, Recall@10 = 0.2497, Recall@20 = 0.2704, NDCG@10 = 0.5440\n",
      "Message                       : Precision@1 = 0.6737, MRR = 0.7619, Recall@5 = 0.4554, Recall@10 = 0.6197, Recall@20 = 0.7736, NDCG@10 = 0.6548\n",
      "RFSC * Message                : Precision@1 = 0.7579, MRR = 0.8275, Recall@5 = 0.5213, Recall@10 = 0.7115, Recall@20 = 0.8616, NDCG@10 = 0.7481\n",
      "RFSC * Message * Distance     : Precision@1 = 0.7737, MRR = 0.8401, Recall@5 = 0.5382, Recall@10 = 0.7245, Recall@20 = 0.8680, NDCG@10 = 0.7630\n",
      "RFSC * Message * APISupport   : Precision@1 = 0.7737, MRR = 0.8379, Recall@5 = 0.5175, Recall@10 = 0.7089, Recall@20 = 0.8745, NDCG@10 = 0.7490\n",
      "Our Method                    : Precision@1 = 0.7947, MRR = 0.8566, Recall@5 = 0.5330, Recall@10 = 0.7089, Recall@20 = 0.8939, NDCG@10 = 0.7665\n"
     ]
    }
   ],
   "source": [
    "def rule_freq(rules):\n",
    "    return rules.sample(frac=1).sort_values(by=[\"fromLib\", \"ruleFreq\"], ascending=[True, False])\n",
    "def rule_freq_same_commit(rules):\n",
    "    return rules.sample(frac=1).sort_values(by=[\"fromLib\", \"ruleFreqSameCommit\"], ascending=[True, False])\n",
    "def rule_freq_to_lib_same_commit(rules):\n",
    "    return rules.sample(frac=1).sort_values(by=[\"fromLib\", \"ruleFreqToLibSameCommit\"], ascending=[True, False])\n",
    "def method(rules, a, b, c, d):\n",
    "    rules[\"confidence\"] = (\n",
    "        rules[\"ruleFreqSameCommit\"] ** a\n",
    "        * np.maximum(0.1, rules[\"apiSupport\"]) ** b\n",
    "        * rules[\"commitDistance\"] ** c\n",
    "        * np.log2(rules[\"possibleCommitCount\"] + 1) ** d\n",
    "    )\n",
    "    return rules.sample(frac=1).sort_values(by=[\"fromLib\", \"confidence\"], ascending=[True, False])\n",
    "def parallel_worker(name, func, params):\n",
    "    return evaluate(name, func(rules, *params), possible_rule_set, confirmed_rule_set)\n",
    "methods = [\n",
    "    (\"RuleFreq\", rule_freq, ()),\n",
    "    (\"RuleFreqSameCommit\", rule_freq_same_commit, ()),\n",
    "    (\"Teyton et al. 2013\", teyton_2013, ()),\n",
    "    (\"Alrubaye et al. 2019\", alrubaye_2019, ()),\n",
    "    # (\"APISupport\", method, (0, 1, 0, 0)), \n",
    "    # (\"CommitDistance\", method, (0, 0, 1, 0)), \n",
    "    (\"Message\", method, (0, 0, 0, 1)),\n",
    "    # (\"ConfTeyton * APISupport\", method, (1, 1, 0, 0)),\n",
    "    # (\"ConfTeyton * CommitDistance\", method, (1, 1, 1, 0)),\n",
    "    (\"RFSC * Message\", method, (1, 0, 0, 1)),\n",
    "    (\"RFSC * Message * Distance\", method, (1, 1, 0, 1)),\n",
    "    (\"RFSC * Message * APISupport\", method, (1, 0, 1, 1)),\n",
    "    (\"Our Method\", our_method, ())\n",
    "]\n",
    "pool = multiprocessing.Pool(12)\n",
    "results = pool.starmap(parallel_worker, methods)\n",
    "pool.close()\n",
    "pool.join()\n",
    "for result in results:\n",
    "    print_one_line_evaluation_result(result)\n",
    "# print_one_line_evaluation_result(parallel_worker(\"Generalized Linear Model\", regression, ()))"
   ]
  },
  {
   "cell_type": "code",
   "execution_count": 13,
   "metadata": {},
   "outputs": [
    {
     "data": {
      "image/png": "[encoded data removed]",
      "text/plain": [
       "<Figure size 2016x216 with 8 Axes>"
      ]
     },
     "metadata": {
      "needs_background": "light"
     },
     "output_type": "display_data"
    }
   ],
   "source": [
    "fig, axes = plt.subplots(1, len(methods), figsize=(3.5 * len(methods), 3))\n",
    "for i, result in enumerate(results):\n",
    "    x = list(range(1, len(result[\"Precision-C@k\"]) + 1))\n",
    "    axes[i].plot(x, result[\"Precision-C@k\"], label=\"Precision@k\")\n",
    "    axes[i].plot(x, result[\"Recall-C@k\"], label=\"Recall@k\")\n",
    "    axes[i].plot(x, result[\"NDCG-C@k\"], label=\"NDCG@k\")\n",
    "    axes[i].set_xlabel(result[\"Name\"])\n",
    "    axes[i].set_ylim([0, 1])\n",
    "    if i == 0:\n",
    "        axes[i].set_ylabel(\"Value\")\n",
    "        axes[i].legend()\n",
    "fig.show()\n",
    "fig.savefig(\"pic/metric-trend.pdf\", bbox_inches=\"tight\")"
   ]
  },
  {
   "cell_type": "code",
   "execution_count": 14,
   "metadata": {},
   "outputs": [
    {
     "name": "stdout",
     "output_type": "stream",
     "text": [
      "[0.2, 1, 1, 1]                : Precision@1 = 0.7632, MRR = 0.8350, Recall@5 = 0.5149, Recall@10 = 0.6869, Recall@20 = 0.8344, NDCG@10 = 0.7408\n",
      "[0.4, 1, 1, 1]                : Precision@1 = 0.7895, MRR = 0.8513, Recall@5 = 0.5252, Recall@10 = 0.6908, Recall@20 = 0.8486, NDCG@10 = 0.7537\n",
      "[0.6, 1, 1, 1]                : Precision@1 = 0.7947, MRR = 0.8528, Recall@5 = 0.5304, Recall@10 = 0.6999, Recall@20 = 0.8629, NDCG@10 = 0.7593\n",
      "[0.8, 1, 1, 1]                : Precision@1 = 0.7842, MRR = 0.8473, Recall@5 = 0.5317, Recall@10 = 0.7076, Recall@20 = 0.8745, NDCG@10 = 0.7622\n",
      "[1.0, 1, 1, 1]                : Precision@1 = 0.7842, MRR = 0.8465, Recall@5 = 0.5304, Recall@10 = 0.7089, Recall@20 = 0.8810, NDCG@10 = 0.7621\n",
      "[1.5, 1, 1, 1]                : Precision@1 = 0.7842, MRR = 0.8448, Recall@5 = 0.5317, Recall@10 = 0.7115, Recall@20 = 0.8823, NDCG@10 = 0.7610\n",
      "[2.0, 1, 1, 1]                : Precision@1 = 0.7842, MRR = 0.8441, Recall@5 = 0.5278, Recall@10 = 0.7115, Recall@20 = 0.8797, NDCG@10 = 0.7605\n",
      "[2.5, 1, 1, 1]                : Precision@1 = 0.7842, MRR = 0.8435, Recall@5 = 0.5252, Recall@10 = 0.7050, Recall@20 = 0.8784, NDCG@10 = 0.7574\n",
      "[3.0, 1, 1, 1]                : Precision@1 = 0.7895, MRR = 0.8459, Recall@5 = 0.5252, Recall@10 = 0.7050, Recall@20 = 0.8732, NDCG@10 = 0.7584\n",
      "[3.5, 1, 1, 1]                : Precision@1 = 0.7895, MRR = 0.8450, Recall@5 = 0.5278, Recall@10 = 0.7050, Recall@20 = 0.8655, NDCG@10 = 0.7573\n",
      "[4.0, 1, 1, 1]                : Precision@1 = 0.7895, MRR = 0.8450, Recall@5 = 0.5278, Recall@10 = 0.7050, Recall@20 = 0.8655, NDCG@10 = 0.7564\n",
      "[1, 0.2, 1, 1]                : Precision@1 = 0.7842, MRR = 0.8420, Recall@5 = 0.5201, Recall@10 = 0.7050, Recall@20 = 0.8732, NDCG@10 = 0.7542\n",
      "[1, 0.4, 1, 1]                : Precision@1 = 0.7895, MRR = 0.8488, Recall@5 = 0.5278, Recall@10 = 0.7063, Recall@20 = 0.8810, NDCG@10 = 0.7583\n",
      "[1, 0.6, 1, 1]                : Precision@1 = 0.7842, MRR = 0.8462, Recall@5 = 0.5317, Recall@10 = 0.7089, Recall@20 = 0.8810, NDCG@10 = 0.7581\n",
      "[1, 0.8, 1, 1]                : Precision@1 = 0.7789, MRR = 0.8441, Recall@5 = 0.5343, Recall@10 = 0.7089, Recall@20 = 0.8823, NDCG@10 = 0.7578\n",
      "[1, 1.0, 1, 1]                : Precision@1 = 0.7789, MRR = 0.8454, Recall@5 = 0.5369, Recall@10 = 0.7089, Recall@20 = 0.8823, NDCG@10 = 0.7591\n",
      "[1, 1.5, 1, 1]                : Precision@1 = 0.7789, MRR = 0.8463, Recall@5 = 0.5382, Recall@10 = 0.7102, Recall@20 = 0.8823, NDCG@10 = 0.7590\n",
      "[1, 2.0, 1, 1]                : Precision@1 = 0.7632, MRR = 0.8384, Recall@5 = 0.5369, Recall@10 = 0.7102, Recall@20 = 0.8836, NDCG@10 = 0.7566\n",
      "[1, 2.5, 1, 1]                : Precision@1 = 0.7579, MRR = 0.8333, Recall@5 = 0.5356, Recall@10 = 0.7102, Recall@20 = 0.8823, NDCG@10 = 0.7551\n",
      "[1, 3.0, 1, 1]                : Precision@1 = 0.7579, MRR = 0.8333, Recall@5 = 0.5369, Recall@10 = 0.7102, Recall@20 = 0.8823, NDCG@10 = 0.7550\n",
      "[1, 3.5, 1, 1]                : Precision@1 = 0.7474, MRR = 0.8280, Recall@5 = 0.5369, Recall@10 = 0.7076, Recall@20 = 0.8823, NDCG@10 = 0.7521\n",
      "[1, 4.0, 1, 1]                : Precision@1 = 0.7474, MRR = 0.8280, Recall@5 = 0.5330, Recall@10 = 0.7063, Recall@20 = 0.8823, NDCG@10 = 0.7513\n",
      "[1, 1, 0.2, 1]                : Precision@1 = 0.7789, MRR = 0.8443, Recall@5 = 0.5356, Recall@10 = 0.7154, Recall@20 = 0.8719, NDCG@10 = 0.7581\n",
      "[1, 1, 0.4, 1]                : Precision@1 = 0.7789, MRR = 0.8452, Recall@5 = 0.5382, Recall@10 = 0.7180, Recall@20 = 0.8771, NDCG@10 = 0.7613\n",
      "[1, 1, 0.6, 1]                : Precision@1 = 0.7842, MRR = 0.8469, Recall@5 = 0.5356, Recall@10 = 0.7154, Recall@20 = 0.8745, NDCG@10 = 0.7622\n",
      "[1, 1, 0.8, 1]                : Precision@1 = 0.7895, MRR = 0.8498, Recall@5 = 0.5330, Recall@10 = 0.7154, Recall@20 = 0.8758, NDCG@10 = 0.7635\n",
      "[1, 1, 1.0, 1]                : Precision@1 = 0.7895, MRR = 0.8506, Recall@5 = 0.5343, Recall@10 = 0.7102, Recall@20 = 0.8758, NDCG@10 = 0.7624\n",
      "[1, 1, 1.5, 1]                : Precision@1 = 0.7789, MRR = 0.8441, Recall@5 = 0.5265, Recall@10 = 0.7050, Recall@20 = 0.8616, NDCG@10 = 0.7560\n",
      "[1, 1, 2.0, 1]                : Precision@1 = 0.7789, MRR = 0.8443, Recall@5 = 0.5265, Recall@10 = 0.6843, Recall@20 = 0.8435, NDCG@10 = 0.7469\n",
      "[1, 1, 2.5, 1]                : Precision@1 = 0.7632, MRR = 0.8329, Recall@5 = 0.5213, Recall@10 = 0.6766, Recall@20 = 0.8331, NDCG@10 = 0.7362\n",
      "[1, 1, 3.0, 1]                : Precision@1 = 0.7526, MRR = 0.8194, Recall@5 = 0.5045, Recall@10 = 0.6714, Recall@20 = 0.8189, NDCG@10 = 0.7195\n",
      "[1, 1, 3.5, 1]                : Precision@1 = 0.7368, MRR = 0.8034, Recall@5 = 0.4929, Recall@10 = 0.6636, Recall@20 = 0.8124, NDCG@10 = 0.7053\n",
      "[1, 1, 4.0, 1]                : Precision@1 = 0.7368, MRR = 0.7994, Recall@5 = 0.4864, Recall@10 = 0.6546, Recall@20 = 0.8060, NDCG@10 = 0.6992\n",
      "[1, 1, 1, 0.2]                : Precision@1 = 0.7842, MRR = 0.8486, Recall@5 = 0.5369, Recall@10 = 0.7128, Recall@20 = 0.8732, NDCG@10 = 0.7607\n",
      "[1, 1, 1, 0.4]                : Precision@1 = 0.7842, MRR = 0.8482, Recall@5 = 0.5343, Recall@10 = 0.7115, Recall@20 = 0.8784, NDCG@10 = 0.7602\n",
      "[1, 1, 1, 0.6]                : Precision@1 = 0.7895, MRR = 0.8506, Recall@5 = 0.5330, Recall@10 = 0.7089, Recall@20 = 0.8797, NDCG@10 = 0.7612\n",
      "[1, 1, 1, 0.8]                : Precision@1 = 0.7789, MRR = 0.8456, Recall@5 = 0.5317, Recall@10 = 0.7063, Recall@20 = 0.8849, NDCG@10 = 0.7580\n",
      "[1, 1, 1, 1.0]                : Precision@1 = 0.7789, MRR = 0.8456, Recall@5 = 0.5317, Recall@10 = 0.7050, Recall@20 = 0.8849, NDCG@10 = 0.7580\n",
      "[1, 1, 1, 1.5]                : Precision@1 = 0.7789, MRR = 0.8451, Recall@5 = 0.5317, Recall@10 = 0.7076, Recall@20 = 0.8745, NDCG@10 = 0.7568\n",
      "[1, 1, 1, 2.0]                : Precision@1 = 0.7789, MRR = 0.8466, Recall@5 = 0.5252, Recall@10 = 0.7102, Recall@20 = 0.8745, NDCG@10 = 0.7582\n",
      "[1, 1, 1, 2.5]                : Precision@1 = 0.7842, MRR = 0.8493, Recall@5 = 0.5252, Recall@10 = 0.7089, Recall@20 = 0.8719, NDCG@10 = 0.7563\n",
      "[1, 1, 1, 3.0]                : Precision@1 = 0.7737, MRR = 0.8441, Recall@5 = 0.5239, Recall@10 = 0.7063, Recall@20 = 0.8693, NDCG@10 = 0.7507\n",
      "[1, 1, 1, 3.5]                : Precision@1 = 0.7789, MRR = 0.8467, Recall@5 = 0.5252, Recall@10 = 0.7089, Recall@20 = 0.8680, NDCG@10 = 0.7536\n",
      "[1, 1, 1, 4.0]                : Precision@1 = 0.7789, MRR = 0.8467, Recall@5 = 0.5239, Recall@10 = 0.7063, Recall@20 = 0.8655, NDCG@10 = 0.7528\n"
     ]
    }
   ],
   "source": [
    "vals = [0.2, 0.4, 0.6, 0.8, 1.0, 1.5, 2.0, 2.5, 3.0, 3.5, 4.0]\n",
    "params = []\n",
    "for loc in range(0, 4):\n",
    "    for i in vals:\n",
    "        param = [1, 1, 1, 1]\n",
    "        param[loc] = i\n",
    "        params.append((str(param), method, param))\n",
    "pool = multiprocessing.Pool(12)\n",
    "results = pool.starmap(parallel_worker, params)\n",
    "pool.close()\n",
    "for result in results:\n",
    "    print_one_line_evaluation_result(result)"
   ]
  },
  {
   "cell_type": "code",
   "execution_count": null,
   "metadata": {},
   "outputs": [],
   "source": []
  }
 ],
 "metadata": {
  "kernelspec": {
   "display_name": "Python 3",
   "language": "python",
   "name": "python3"
  },
  "language_info": {
   "codemirror_mode": {
    "name": "ipython",
    "version": 3
   },
   "file_extension": ".py",
   "mimetype": "text/x-python",
   "name": "python",
   "nbconvert_exporter": "python",
   "pygments_lexer": "ipython3",
   "version": "3.7.4"
  }
 },
 "nbformat": 4,
 "nbformat_minor": 4
}
