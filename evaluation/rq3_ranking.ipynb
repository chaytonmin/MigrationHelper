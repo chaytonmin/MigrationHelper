{
 "cells": [
  {
   "cell_type": "code",
   "execution_count": 1,
   "metadata": {},
   "outputs": [],
   "source": [
    "import pandas as pd\n",
    "import numpy as np\n",
    "from sklearn import linear_model"
   ]
  },
  {
   "cell_type": "code",
   "execution_count": 10,
   "metadata": {},
   "outputs": [
    {
     "name": "stdout",
     "output_type": "stream",
     "text": [
      "# rules = 475022, # confirmed = 289, # possible = 1588\n"
     ]
    }
   ],
   "source": [
    "rules = pd.read_csv(\"test-recommend-output-wocDepSeq-all.csv\")\n",
    "to_lib2max_freq = {to_lib: max(row[\"ruleFreqSameCommit\"]) for to_lib, row in rules.groupby(by=\"toGroupArtifact\")}\n",
    "rules[\"ruleFreqToLibSameCommit\"] = rules[\"ruleFreqSameCommit\"] / rules[\"toGroupArtifact\"].apply(lambda x: to_lib2max_freq[x])\n",
    "rules[\"confTeyton\"] = np.minimum(rules[\"ruleFreqSameCommit\"], rules[\"ruleFreqToLibSameCommit\"]).fillna(0)\n",
    "to_lib2max_freq = {to_lib: max(row[\"ruleFreq\"]) for to_lib, row in rules.groupby(by=\"toGroupArtifact\")}\n",
    "rules[\"ruleFreqToLib\"] = rules[\"ruleFreq\"] / rules[\"toGroupArtifact\"].apply(lambda x: to_lib2max_freq[x])\n",
    "    \n",
    "ground_truth = pd.read_csv(\"possible-ground-truth-2014.csv\")\n",
    "confirmed_rule_set = set(zip(\n",
    "    ground_truth[ground_truth[\"dataConfirmed\"]][\"fromGroupArtifact\"], \n",
    "    ground_truth[ground_truth[\"dataConfirmed\"]][\"toGroupArtifact\"]\n",
    "))\n",
    "possible_rule_set = set(zip(\n",
    "    ground_truth[ground_truth[\"inDepSeq\"] > 0][\"fromGroupArtifact\"], \n",
    "    ground_truth[ground_truth[\"inDepSeq\"] > 0][\"toGroupArtifact\"]\n",
    "))\n",
    "\n",
    "rules[\"isPossible\"] = [x in possible_rule_set for x in zip(rules[\"fromGroupArtifact\"], rules[\"toGroupArtifact\"])]\n",
    "rules[\"isConfirmed\"] = [x in confirmed_rule_set for x in zip(rules[\"fromGroupArtifact\"], rules[\"toGroupArtifact\"])]\n",
    "possible_rules = rules[rules[\"isPossible\"]]\n",
    "confirmed_rules = rules[rules[\"isConfirmed\"]]\n",
    "other_rules = rules[~rules[\"isConfirmed\"] & ~rules[\"isPossible\"]]\n",
    "print(\"# rules = {}, # confirmed = {}, # possible = {}\".format(\n",
    "    len(rules), len(confirmed_rule_set), len(possible_rule_set)))"
   ]
  },
  {
   "cell_type": "code",
   "execution_count": 3,
   "metadata": {},
   "outputs": [],
   "source": [
    "def evaluate(method, rules, possible_rules, confirmed_rules):\n",
    "    top_k = 100\n",
    "    top_rules = [list() for x in range(0, top_k)]\n",
    "    ndcg_possible_at_k = [list() for x in range(0, top_k)]\n",
    "    ndcg_confirmed_at_k = [list() for x in range(0, top_k)]\n",
    "    from_lib_set = set(x for x, y in confirmed_rules)\n",
    "    reciprocal_ranks_confirmed = {}\n",
    "    reciprocal_ranks_possible = {}\n",
    "    for from_lib, candidates in rules.groupby(by=\"fromGroupArtifact\"):\n",
    "        if from_lib not in from_lib_set:\n",
    "            continue\n",
    "        #if all(isConfirmed is False or ruleFreq < 25 for isConfirmed, ruleFreq in zip(candidates[\"isConfirmed\"], candidates[\"ruleFreq\"])):\n",
    "            #continue\n",
    "        this_rules = [(from_lib, to_lib) for to_lib in candidates[\"toGroupArtifact\"]]\n",
    "        this_possible_rules = [(from_lib, to_lib) for from_lib, to_lib in this_rules if (from_lib, to_lib) in possible_rules]\n",
    "        this_confirmed_rules = [(from_lib, to_lib) for from_lib, to_lib in this_rules if (from_lib, to_lib) in confirmed_rules]\n",
    "        for k, (from_lib, to_lib) in enumerate(this_rules):\n",
    "            if k >= top_k:\n",
    "                continue\n",
    "            top_rules[k].append((from_lib, to_lib))\n",
    "            if (from_lib, to_lib) in possible_rules and from_lib not in reciprocal_ranks_possible:\n",
    "                reciprocal_ranks_possible[from_lib] = 1 / (k + 1)\n",
    "            if (from_lib, to_lib) in confirmed_rules and from_lib not in reciprocal_ranks_confirmed:\n",
    "                reciprocal_ranks_confirmed[from_lib] = 1 / (k + 1)\n",
    "            dcg_p = sum(int((from_lib, to_lib) in possible_rules) / np.log2(i+2) for i, (from_lib, to_lib) in enumerate(this_rules[0:k+1]))\n",
    "            idcg_p = sum(1 / np.log2(i+2) for i in range(0, min(k + 1, len(this_possible_rules))))\n",
    "            ndcg_possible_at_k[k].append(dcg_p / idcg_p)\n",
    "            dcg_c = sum(int((from_lib, to_lib) in confirmed_rules) / np.log2(i+2) for i, (from_lib, to_lib) in enumerate(this_rules[0:k+1]))\n",
    "            idcg_c = sum(1 / np.log2(i+2) for i in range(0, min(k + 1, len(this_confirmed_rules))))\n",
    "            ndcg_confirmed_at_k[k].append(dcg_c / idcg_c)\n",
    "        if from_lib not in reciprocal_ranks_possible:\n",
    "            reciprocal_ranks_possible[from_lib] = 0\n",
    "        if from_lib not in reciprocal_ranks_confirmed:\n",
    "            reciprocal_ranks_confirmed[from_lib] = 0\n",
    "    for k in range(1, top_k):\n",
    "        top_rules[k] += top_rules[k - 1]\n",
    "    print(\"Result of {}:\".format(method))\n",
    "    print(\"MRR-C/P = {}/{}\".format(\n",
    "        np.mean(list(reciprocal_ranks_confirmed.values())), \n",
    "        np.mean(list(reciprocal_ranks_possible.values()))\n",
    "    ))\n",
    "    for k in range(0, top_k):\n",
    "        if k + 1 > 10 and (k + 1) % 10 != 0:\n",
    "            continue\n",
    "        precision = len([x for x in top_rules[k] if x in confirmed_rules]) / len(top_rules[k])\n",
    "        recall = len([x for x in top_rules[k] if x in confirmed_rules]) / len(confirmed_rules)\n",
    "        # f_measure = 2 * precision * recall / (precision + recall)\n",
    "        precision_possible = len([x for x in top_rules[k] if x in possible_rules]) / len(top_rules[k])\n",
    "        recall_possible = len([x for x in top_rules[k] if x in possible_rules]) / len(possible_rules)\n",
    "        # f_measure_possible = 2 * precision_possible * recall_possible / (precision_possible + recall_possible)\n",
    "        print(\"Top {:3}: Precision-C/P = {:0.3f}/{:0.3f}, Recall-C/P = {:0.3f}/{:0.3f}, NDCG-C/P = {:0.3f}/{:0.3f}\"\n",
    "              .format(k + 1, precision, precision_possible, recall, recall_possible, np.mean(ndcg_confirmed_at_k[k]), np.mean(ndcg_possible_at_k[k])))"
   ]
  },
  {
   "cell_type": "code",
   "execution_count": 16,
   "metadata": {},
   "outputs": [
    {
     "name": "stdout",
     "output_type": "stream",
     "text": [
      "Result of Our Method:\n",
      "MRR-C/P = 0.5639573285870546/0.6060196293341326\n",
      "Top   1: Precision-C/P = 0.468/0.500, Recall-C/P = 0.152/0.030, NDCG-C/P = 0.468/0.500\n",
      "Top   2: Precision-C/P = 0.380/0.422, Recall-C/P = 0.246/0.050, NDCG-C/P = 0.438/0.443\n",
      "Top   3: Precision-C/P = 0.343/0.382, Recall-C/P = 0.332/0.067, NDCG-C/P = 0.451/0.418\n",
      "Top   4: Precision-C/P = 0.316/0.357, Recall-C/P = 0.408/0.084, NDCG-C/P = 0.464/0.411\n",
      "Top   5: Precision-C/P = 0.281/0.337, Recall-C/P = 0.453/0.099, NDCG-C/P = 0.464/0.406\n",
      "Top   6: Precision-C/P = 0.259/0.309, Recall-C/P = 0.502/0.109, NDCG-C/P = 0.469/0.391\n",
      "Top   7: Precision-C/P = 0.239/0.287, Recall-C/P = 0.540/0.118, NDCG-C/P = 0.473/0.382\n",
      "Top   8: Precision-C/P = 0.224/0.267, Recall-C/P = 0.578/0.125, NDCG-C/P = 0.480/0.372\n",
      "Top   9: Precision-C/P = 0.208/0.251, Recall-C/P = 0.602/0.132, NDCG-C/P = 0.487/0.370\n",
      "Top  10: Precision-C/P = 0.193/0.236, Recall-C/P = 0.623/0.139, NDCG-C/P = 0.493/0.367\n",
      "Top  20: Precision-C/P = 0.111/0.140, Recall-C/P = 0.716/0.164, NDCG-C/P = 0.517/0.364\n",
      "Top  30: Precision-C/P = 0.080/0.107, Recall-C/P = 0.768/0.188, NDCG-C/P = 0.529/0.383\n",
      "Top  40: Precision-C/P = 0.062/0.086, Recall-C/P = 0.803/0.202, NDCG-C/P = 0.542/0.392\n",
      "Top  50: Precision-C/P = 0.052/0.073, Recall-C/P = 0.830/0.215, NDCG-C/P = 0.552/0.403\n",
      "Top  60: Precision-C/P = 0.044/0.064, Recall-C/P = 0.848/0.224, NDCG-C/P = 0.556/0.408\n",
      "Top  70: Precision-C/P = 0.038/0.057, Recall-C/P = 0.858/0.234, NDCG-C/P = 0.557/0.414\n",
      "Top  80: Precision-C/P = 0.034/0.051, Recall-C/P = 0.865/0.238, NDCG-C/P = 0.558/0.416\n",
      "Top  90: Precision-C/P = 0.030/0.047, Recall-C/P = 0.869/0.246, NDCG-C/P = 0.560/0.422\n",
      "Top 100: Precision-C/P = 0.027/0.043, Recall-C/P = 0.882/0.251, NDCG-C/P = 0.563/0.424\n"
     ]
    }
   ],
   "source": [
    "def our_method(rules):\n",
    "    rules[\"confidence\"] = (rules[\"confTeyton\"] ** 2\n",
    "                           #* rules[\"ruleFreq\"] * (rules[\"concurrenceAdjustment\"] ** 0.25)\n",
    "                           #* np.minimum(rules[\"ruleFreq\"], rules[\"ruleFreqToLib\"])\n",
    "                           * rules[\"apiSupport\"].apply(lambda x: max(0.1, x)) ** 0.5\n",
    "                           * rules[\"commitDistance\"])\n",
    "    return rules.sort_values(by=[\"fromGroupArtifact\", \"confidence\"], ascending=[True, False])\n",
    "evaluate(\"Our Method\", our_method(rules), possible_rule_set, confirmed_rule_set)"
   ]
  },
  {
   "cell_type": "code",
   "execution_count": 5,
   "metadata": {},
   "outputs": [
    {
     "name": "stdout",
     "output_type": "stream",
     "text": [
      "Result of Teyton et al. 2013:\n",
      "MRR-C/P = 0.5342681364642328/0.5749173454498131\n",
      "Top   1: Precision-C/P = 0.436/0.468, Recall-C/P = 0.142/0.028, NDCG-C/P = 0.436/0.468\n",
      "Top   2: Precision-C/P = 0.332/0.369, Recall-C/P = 0.215/0.043, NDCG-C/P = 0.395/0.396\n",
      "Top   3: Precision-C/P = 0.304/0.346, Recall-C/P = 0.294/0.061, NDCG-C/P = 0.412/0.383\n",
      "Top   4: Precision-C/P = 0.287/0.327, Recall-C/P = 0.370/0.077, NDCG-C/P = 0.425/0.377\n",
      "Top   5: Precision-C/P = 0.266/0.311, Recall-C/P = 0.429/0.091, NDCG-C/P = 0.435/0.373\n",
      "Top   6: Precision-C/P = 0.252/0.295, Recall-C/P = 0.488/0.104, NDCG-C/P = 0.449/0.369\n",
      "Top   7: Precision-C/P = 0.230/0.273, Recall-C/P = 0.519/0.112, NDCG-C/P = 0.455/0.362\n",
      "Top   8: Precision-C/P = 0.212/0.254, Recall-C/P = 0.547/0.119, NDCG-C/P = 0.459/0.354\n",
      "Top   9: Precision-C/P = 0.204/0.243, Recall-C/P = 0.592/0.128, NDCG-C/P = 0.469/0.355\n",
      "Top  10: Precision-C/P = 0.188/0.227, Recall-C/P = 0.606/0.133, NDCG-C/P = 0.471/0.351\n",
      "Top  20: Precision-C/P = 0.109/0.136, Recall-C/P = 0.702/0.159, NDCG-C/P = 0.501/0.351\n",
      "Top  30: Precision-C/P = 0.080/0.105, Recall-C/P = 0.772/0.185, NDCG-C/P = 0.519/0.369\n",
      "Top  40: Precision-C/P = 0.062/0.087, Recall-C/P = 0.799/0.203, NDCG-C/P = 0.528/0.385\n",
      "Top  50: Precision-C/P = 0.051/0.073, Recall-C/P = 0.817/0.213, NDCG-C/P = 0.534/0.392\n",
      "Top  60: Precision-C/P = 0.043/0.064, Recall-C/P = 0.837/0.224, NDCG-C/P = 0.539/0.397\n",
      "Top  70: Precision-C/P = 0.038/0.057, Recall-C/P = 0.855/0.235, NDCG-C/P = 0.543/0.404\n",
      "Top  80: Precision-C/P = 0.034/0.052, Recall-C/P = 0.872/0.246, NDCG-C/P = 0.546/0.411\n",
      "Top  90: Precision-C/P = 0.030/0.048, Recall-C/P = 0.879/0.252, NDCG-C/P = 0.551/0.416\n",
      "Top 100: Precision-C/P = 0.027/0.044, Recall-C/P = 0.882/0.256, NDCG-C/P = 0.551/0.418\n"
     ]
    }
   ],
   "source": [
    "def teyton_2013(rules):\n",
    "    return rules.sort_values(by=[\"fromGroupArtifact\", \"confTeyton\"], ascending=[True, False])\n",
    "evaluate(\"Teyton et al. 2013\", teyton_2013(rules), possible_rule_set, confirmed_rule_set)"
   ]
  },
  {
   "cell_type": "code",
   "execution_count": 6,
   "metadata": {},
   "outputs": [
    {
     "name": "stdout",
     "output_type": "stream",
     "text": [
      "Result of Teyton et al. 2014:\n",
      "MRR-C/P = 0.4299921017245659/0.4587639961038828\n",
      "Top   1: Precision-C/P = 0.319/0.330, Recall-C/P = 0.104/0.020, NDCG-C/P = 0.319/0.330\n",
      "Top   2: Precision-C/P = 0.230/0.246, Recall-C/P = 0.149/0.029, NDCG-C/P = 0.275/0.264\n",
      "Top   3: Precision-C/P = 0.214/0.246, Recall-C/P = 0.208/0.043, NDCG-C/P = 0.295/0.269\n",
      "Top   4: Precision-C/P = 0.196/0.231, Recall-C/P = 0.253/0.054, NDCG-C/P = 0.304/0.265\n",
      "Top   5: Precision-C/P = 0.178/0.217, Recall-C/P = 0.287/0.064, NDCG-C/P = 0.305/0.258\n",
      "Top   6: Precision-C/P = 0.161/0.193, Recall-C/P = 0.311/0.068, NDCG-C/P = 0.306/0.244\n",
      "Top   7: Precision-C/P = 0.149/0.178, Recall-C/P = 0.336/0.073, NDCG-C/P = 0.310/0.235\n",
      "Top   8: Precision-C/P = 0.137/0.166, Recall-C/P = 0.353/0.078, NDCG-C/P = 0.314/0.230\n",
      "Top   9: Precision-C/P = 0.123/0.150, Recall-C/P = 0.356/0.079, NDCG-C/P = 0.313/0.224\n",
      "Top  10: Precision-C/P = 0.119/0.145, Recall-C/P = 0.384/0.085, NDCG-C/P = 0.323/0.224\n",
      "Top  20: Precision-C/P = 0.085/0.117, Recall-C/P = 0.547/0.137, NDCG-C/P = 0.368/0.259\n",
      "Top  30: Precision-C/P = 0.068/0.100, Recall-C/P = 0.657/0.176, NDCG-C/P = 0.399/0.292\n",
      "Top  40: Precision-C/P = 0.055/0.083, Recall-C/P = 0.706/0.195, NDCG-C/P = 0.414/0.307\n",
      "Top  50: Precision-C/P = 0.047/0.073, Recall-C/P = 0.754/0.215, NDCG-C/P = 0.425/0.319\n",
      "Top  60: Precision-C/P = 0.040/0.063, Recall-C/P = 0.779/0.223, NDCG-C/P = 0.431/0.326\n",
      "Top  70: Precision-C/P = 0.037/0.058, Recall-C/P = 0.824/0.239, NDCG-C/P = 0.442/0.338\n",
      "Top  80: Precision-C/P = 0.032/0.054, Recall-C/P = 0.834/0.253, NDCG-C/P = 0.443/0.345\n",
      "Top  90: Precision-C/P = 0.029/0.049, Recall-C/P = 0.841/0.259, NDCG-C/P = 0.447/0.351\n",
      "Top 100: Precision-C/P = 0.027/0.046, Recall-C/P = 0.858/0.267, NDCG-C/P = 0.452/0.355\n"
     ]
    }
   ],
   "source": [
    "def teyton_2014(rules):\n",
    "    return rules.sort_values(by=[\"fromGroupArtifact\", \"ruleFreq\"], ascending=[True, False])\n",
    "evaluate(\"Teyton et al. 2014\", teyton_2014(rules), possible_rule_set, confirmed_rule_set)"
   ]
  },
  {
   "cell_type": "code",
   "execution_count": 7,
   "metadata": {},
   "outputs": [
    {
     "name": "stdout",
     "output_type": "stream",
     "text": [
      "Coef confTeyton: 0.04874140046755714\n",
      "Coef apiSupportMin: 0.020765070348091084\n",
      "Coef commitDistance: 0.04974788599754907\n",
      "Result of Logistic Regression:\n",
      "MRR-C/P = 0.49600468509341167/0.5270856159885579\n",
      "Top   1: Precision-C/P = 0.436/0.447, Recall-C/P = 0.142/0.026, NDCG-C/P = 0.436/0.447\n",
      "Top   2: Precision-C/P = 0.299/0.332, Recall-C/P = 0.194/0.039, NDCG-C/P = 0.370/0.364\n",
      "Top   3: Precision-C/P = 0.254/0.300, Recall-C/P = 0.246/0.053, NDCG-C/P = 0.360/0.343\n",
      "Top   4: Precision-C/P = 0.225/0.265, Recall-C/P = 0.291/0.062, NDCG-C/P = 0.369/0.326\n",
      "Top   5: Precision-C/P = 0.204/0.240, Recall-C/P = 0.329/0.071, NDCG-C/P = 0.371/0.315\n",
      "Top   6: Precision-C/P = 0.182/0.216, Recall-C/P = 0.353/0.076, NDCG-C/P = 0.368/0.301\n",
      "Top   7: Precision-C/P = 0.163/0.196, Recall-C/P = 0.367/0.081, NDCG-C/P = 0.365/0.289\n",
      "Top   8: Precision-C/P = 0.148/0.183, Recall-C/P = 0.381/0.086, NDCG-C/P = 0.369/0.282\n",
      "Top   9: Precision-C/P = 0.140/0.171, Recall-C/P = 0.405/0.090, NDCG-C/P = 0.374/0.279\n",
      "Top  10: Precision-C/P = 0.128/0.156, Recall-C/P = 0.412/0.091, NDCG-C/P = 0.374/0.273\n",
      "Top  20: Precision-C/P = 0.070/0.088, Recall-C/P = 0.450/0.103, NDCG-C/P = 0.380/0.266\n",
      "Top  30: Precision-C/P = 0.048/0.062, Recall-C/P = 0.460/0.110, NDCG-C/P = 0.381/0.272\n",
      "Top  40: Precision-C/P = 0.036/0.047, Recall-C/P = 0.464/0.111, NDCG-C/P = 0.383/0.273\n",
      "Top  50: Precision-C/P = 0.029/0.038, Recall-C/P = 0.471/0.113, NDCG-C/P = 0.387/0.275\n",
      "Top  60: Precision-C/P = 0.025/0.033, Recall-C/P = 0.481/0.115, NDCG-C/P = 0.389/0.277\n",
      "Top  70: Precision-C/P = 0.022/0.029, Recall-C/P = 0.484/0.118, NDCG-C/P = 0.391/0.280\n",
      "Top  80: Precision-C/P = 0.019/0.026, Recall-C/P = 0.484/0.120, NDCG-C/P = 0.391/0.280\n",
      "Top  90: Precision-C/P = 0.017/0.023, Recall-C/P = 0.484/0.121, NDCG-C/P = 0.391/0.280\n",
      "Top 100: Precision-C/P = 0.015/0.021, Recall-C/P = 0.484/0.122, NDCG-C/P = 0.391/0.280\n"
     ]
    }
   ],
   "source": [
    "def regression(rules):\n",
    "    feat_names = [\"confTeyton\", \"apiSupportMin\", \"commitDistance\"]\n",
    "    rules[\"apiSupportMin\"] = rules[\"apiSupport\"].apply(lambda x: max(0.1, x))\n",
    "    feat_series = {name: np.log2(rules[name] + 1) for name in feat_names}\n",
    "    X = []\n",
    "    for i in range(0, len(rules)):\n",
    "        X.append([feat_series[name].iloc[i] for name in feat_names])      \n",
    "    y = list(map(\n",
    "        lambda x: int(x[0]) + int(x[1]),\n",
    "        zip(rules[\"isConfirmed\"], rules[\"isPossible\"])\n",
    "    ))\n",
    "    sample_weight = list(map(\n",
    "        lambda x: int(x[0]) * 5 + int(x[1]) * 1 + 0.03,\n",
    "        zip(rules[\"isConfirmed\"], rules[\"isPossible\"])\n",
    "    ))\n",
    "    reg = linear_model.TweedieRegressor(power=1, verbose=1)\n",
    "    reg.fit(X, y, sample_weight)\n",
    "    for idx, coef in enumerate(reg.coef_):\n",
    "        print(\"Coef {}: {}\".format(feat_names[idx], coef))\n",
    "    rules[\"confidence\"] = reg.predict(X)\n",
    "    return rules.sort_values(by=[\"fromGroupArtifact\", \"confidence\"], ascending=[True, False])\n",
    "evaluate(\"Logistic Regression\", regression(rules), possible_rule_set, confirmed_rule_set)"
   ]
  },
  {
   "cell_type": "code",
   "execution_count": null,
   "metadata": {},
   "outputs": [],
   "source": []
  }
 ],
 "metadata": {
  "kernelspec": {
   "display_name": "Python 3",
   "language": "python",
   "name": "python3"
  },
  "language_info": {
   "codemirror_mode": {
    "name": "ipython",
    "version": 3
   },
   "file_extension": ".py",
   "mimetype": "text/x-python",
   "name": "python",
   "nbconvert_exporter": "python",
   "pygments_lexer": "ipython3",
   "version": "3.7.4"
  }
 },
 "nbformat": 4,
 "nbformat_minor": 4
}
