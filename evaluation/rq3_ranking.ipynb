{
 "cells": [
  {
   "cell_type": "code",
   "execution_count": 1,
   "metadata": {},
   "outputs": [],
   "source": [
    "import pandas as pd\n",
    "import numpy as np"
   ]
  },
  {
   "cell_type": "code",
   "execution_count": 2,
   "metadata": {},
   "outputs": [
    {
     "name": "stdout",
     "output_type": "stream",
     "text": [
      "# rules = 316328, # confirmed = 289, # possible = 1588\n"
     ]
    }
   ],
   "source": [
    "rules = pd.read_csv(\"test-recommend-output-wocDepSeq-all.csv\")\n",
    "ground_truth = pd.read_csv(\"possible-ground-truth-2014.csv\")\n",
    "confirmed_rule_set = set(zip(\n",
    "    ground_truth[ground_truth[\"dataConfirmed\"]][\"fromGroupArtifact\"], \n",
    "    ground_truth[ground_truth[\"dataConfirmed\"]][\"toGroupArtifact\"]\n",
    "))\n",
    "possible_rule_set = set(zip(\n",
    "    ground_truth[ground_truth[\"inDepSeq\"] > 0][\"fromGroupArtifact\"], \n",
    "    ground_truth[ground_truth[\"inDepSeq\"] > 0][\"toGroupArtifact\"]\n",
    "))\n",
    "rules[\"isPossible\"] = [x in possible_rule_set for x in zip(rules[\"fromGroupArtifact\"], rules[\"toGroupArtifact\"])]\n",
    "rules[\"isConfirmed\"] = [x in confirmed_rule_set for x in zip(rules[\"fromGroupArtifact\"], rules[\"toGroupArtifact\"])]\n",
    "possible_rules = rules[rules[\"isPossible\"]]\n",
    "confirmed_rules = rules[rules[\"isConfirmed\"]]\n",
    "other_rules = rules[~rules[\"isConfirmed\"] & ~rules[\"isPossible\"]]\n",
    "print(\"# rules = {}, # confirmed = {}, # possible = {}\".format(\n",
    "    len(rules), len(confirmed_rule_set), len(possible_rule_set)))"
   ]
  },
  {
   "cell_type": "code",
   "execution_count": 5,
   "metadata": {},
   "outputs": [
    {
     "name": "stdout",
     "output_type": "stream",
     "text": [
      "Result of Our Method:\n",
      "MRR-C/P = 0.5412051372771891/0.5770438120889152\n",
      "Top   1: Precision-C/P = 0.447/0.468, Recall-C/P = 0.145/0.028, NDCG-C/P = 0.447/0.468\n",
      "Top   2: Precision-C/P = 0.353/0.396, Recall-C/P = 0.228/0.047, NDCG-C/P = 0.415/0.419\n",
      "Top   3: Precision-C/P = 0.286/0.321, Recall-C/P = 0.277/0.057, NDCG-C/P = 0.402/0.375\n",
      "Top   4: Precision-C/P = 0.244/0.282, Recall-C/P = 0.315/0.066, NDCG-C/P = 0.396/0.350\n",
      "Top   5: Precision-C/P = 0.232/0.275, Recall-C/P = 0.374/0.081, NDCG-C/P = 0.403/0.347\n",
      "Top   6: Precision-C/P = 0.211/0.256, Recall-C/P = 0.408/0.090, NDCG-C/P = 0.402/0.336\n",
      "Top   7: Precision-C/P = 0.198/0.241, Recall-C/P = 0.446/0.099, NDCG-C/P = 0.411/0.329\n",
      "Top   8: Precision-C/P = 0.196/0.242, Recall-C/P = 0.505/0.113, NDCG-C/P = 0.429/0.332\n",
      "Top   9: Precision-C/P = 0.180/0.222, Recall-C/P = 0.522/0.117, NDCG-C/P = 0.431/0.325\n",
      "Top  10: Precision-C/P = 0.168/0.206, Recall-C/P = 0.540/0.121, NDCG-C/P = 0.435/0.320\n",
      "Top  20: Precision-C/P = 0.106/0.139, Recall-C/P = 0.682/0.162, NDCG-C/P = 0.479/0.334\n",
      "Top  30: Precision-C/P = 0.078/0.107, Recall-C/P = 0.754/0.188, NDCG-C/P = 0.502/0.357\n",
      "Top  40: Precision-C/P = 0.061/0.087, Recall-C/P = 0.789/0.203, NDCG-C/P = 0.512/0.372\n",
      "Top  50: Precision-C/P = 0.051/0.075, Recall-C/P = 0.817/0.221, NDCG-C/P = 0.519/0.384\n",
      "Top  60: Precision-C/P = 0.044/0.066, Recall-C/P = 0.841/0.232, NDCG-C/P = 0.524/0.390\n",
      "Top  70: Precision-C/P = 0.038/0.059, Recall-C/P = 0.851/0.240, NDCG-C/P = 0.528/0.396\n",
      "Top  80: Precision-C/P = 0.033/0.052, Recall-C/P = 0.858/0.246, NDCG-C/P = 0.529/0.400\n",
      "Top  90: Precision-C/P = 0.030/0.049, Recall-C/P = 0.869/0.258, NDCG-C/P = 0.536/0.409\n",
      "Top 100: Precision-C/P = 0.027/0.045, Recall-C/P = 0.879/0.264, NDCG-C/P = 0.539/0.413\n"
     ]
    }
   ],
   "source": [
    "def evaluate(method, rules, possible_rules, confirmed_rules):\n",
    "    top_k = 100\n",
    "    top_rules = [list() for x in range(0, top_k)]\n",
    "    ndcg_possible_at_k = [list() for x in range(0, top_k)]\n",
    "    ndcg_confirmed_at_k = [list() for x in range(0, top_k)]\n",
    "    from_lib_set = set(x for x, y in confirmed_rules)\n",
    "    reciprocal_ranks_confirmed = {}\n",
    "    reciprocal_ranks_possible = {}\n",
    "    for from_lib, candidates in rules.groupby(by=\"fromGroupArtifact\"):\n",
    "        if from_lib not in from_lib_set:\n",
    "            continue\n",
    "        #if all(isConfirmed is False or ruleFreq < 25 for isConfirmed, ruleFreq in zip(candidates[\"isConfirmed\"], candidates[\"ruleFreq\"])):\n",
    "            #continue\n",
    "        this_rules = [(from_lib, to_lib) for to_lib in candidates[\"toGroupArtifact\"]]\n",
    "        this_possible_rules = [(from_lib, to_lib) for from_lib, to_lib in this_rules if (from_lib, to_lib) in possible_rules]\n",
    "        this_confirmed_rules = [(from_lib, to_lib) for from_lib, to_lib in this_rules if (from_lib, to_lib) in confirmed_rules]\n",
    "        for k, (from_lib, to_lib) in enumerate(this_rules):\n",
    "            if k >= top_k:\n",
    "                continue\n",
    "            top_rules[k].append((from_lib, to_lib))\n",
    "            if (from_lib, to_lib) in possible_rules and from_lib not in reciprocal_ranks_possible:\n",
    "                reciprocal_ranks_possible[from_lib] = 1 / (k + 1)\n",
    "            if (from_lib, to_lib) in confirmed_rules and from_lib not in reciprocal_ranks_confirmed:\n",
    "                reciprocal_ranks_confirmed[from_lib] = 1 / (k + 1)\n",
    "            dcg_p = sum(int((from_lib, to_lib) in possible_rules) / np.log2(i+2) for i, (from_lib, to_lib) in enumerate(this_rules[0:k+1]))\n",
    "            idcg_p = sum(1 / np.log2(i+2) for i in range(0, min(k + 1, len(this_possible_rules))))\n",
    "            ndcg_possible_at_k[k].append(dcg_p / idcg_p)\n",
    "            dcg_c = sum(int((from_lib, to_lib) in confirmed_rules) / np.log2(i+2) for i, (from_lib, to_lib) in enumerate(this_rules[0:k+1]))\n",
    "            idcg_c = sum(1 / np.log2(i+2) for i in range(0, min(k + 1, len(this_confirmed_rules))))\n",
    "            ndcg_confirmed_at_k[k].append(dcg_c / idcg_c)\n",
    "        if from_lib not in reciprocal_ranks_possible:\n",
    "            reciprocal_ranks_possible[from_lib] = 0\n",
    "        if from_lib not in reciprocal_ranks_confirmed:\n",
    "            reciprocal_ranks_confirmed[from_lib] = 0\n",
    "    for k in range(1, top_k):\n",
    "        top_rules[k] += top_rules[k - 1]\n",
    "    print(\"Result of {}:\".format(method))\n",
    "    print(\"MRR-C/P = {}/{}\".format(\n",
    "        np.mean(list(reciprocal_ranks_confirmed.values())), \n",
    "        np.mean(list(reciprocal_ranks_possible.values()))\n",
    "    ))\n",
    "    for k in range(0, top_k):\n",
    "        if k + 1 > 10 and (k + 1) % 10 != 0:\n",
    "            continue\n",
    "        precision = len([x for x in top_rules[k] if x in confirmed_rules]) / len(top_rules[k])\n",
    "        recall = len([x for x in top_rules[k] if x in confirmed_rules]) / len(confirmed_rules)\n",
    "        # f_measure = 2 * precision * recall / (precision + recall)\n",
    "        precision_possible = len([x for x in top_rules[k] if x in possible_rules]) / len(top_rules[k])\n",
    "        recall_possible = len([x for x in top_rules[k] if x in possible_rules]) / len(possible_rules)\n",
    "        # f_measure_possible = 2 * precision_possible * recall_possible / (precision_possible + recall_possible)\n",
    "        print(\"Top {:3}: Precision-C/P = {:0.3f}/{:0.3f}, Recall-C/P = {:0.3f}/{:0.3f}, NDCG-C/P = {:0.3f}/{:0.3f}\"\n",
    "              .format(k + 1, precision, precision_possible, recall, recall_possible, np.mean(ndcg_confirmed_at_k[k]), np.mean(ndcg_possible_at_k[k])))\n",
    "def filter_and_sort1(rules):\n",
    "    return rules[rules[\"ruleFreq\"] > 25].sort_values(by=[\"fromLib\", \"ruleFreq\"], ascending=[True, False])\n",
    "def teyton2(rules):\n",
    "    return rules[rules[\"relativeRuleFrequency\"] > 0.07].sort_values(by=[\"fromLib\", \"ruleFreq\"], ascending=[True, False])\n",
    "def teyton(rules):\n",
    "    return rules.sort_values(by=[\"fromGroupArtifact\", \"relativeRuleFreq\"], ascending=[True, False])\n",
    "def our_method(rules):\n",
    "    rules[\"confidence\"] = (rules[\"relativeRuleFreq\"] * (rules[\"concurrenceAdjustment\"] ** 0.25)\n",
    "                           * rules[\"apiSupport\"].apply(lambda x: max(0.1, x)) ** 0.5\n",
    "                           * rules[\"commitDistance\"] ** 2)\n",
    "    return rules.sort_values(by=[\"fromGroupArtifact\", \"confidence\"], ascending=[True, False])\n",
    "evaluate(\"Our Method\", our_method(rules), possible_rule_set, confirmed_rule_set)"
   ]
  },
  {
   "cell_type": "code",
   "execution_count": null,
   "metadata": {},
   "outputs": [],
   "source": [
    "our_method(rules).to_csv(\"test.csv\", index=False)"
   ]
  },
  {
   "cell_type": "code",
   "execution_count": 6,
   "metadata": {},
   "outputs": [
    {
     "name": "stdout",
     "output_type": "stream",
     "text": [
      "Result of Teyton et al 2014.:\n",
      "MRR-C/P = 0.4299921017245659/0.4587639961038828\n",
      "Top   1: Precision-C/P = 0.319/0.330, Recall-C/P = 0.104/0.020, NDCG-C/P = 0.319/0.330\n",
      "Top   2: Precision-C/P = 0.230/0.246, Recall-C/P = 0.149/0.029, NDCG-C/P = 0.275/0.264\n",
      "Top   3: Precision-C/P = 0.214/0.246, Recall-C/P = 0.208/0.043, NDCG-C/P = 0.295/0.269\n",
      "Top   4: Precision-C/P = 0.196/0.231, Recall-C/P = 0.253/0.054, NDCG-C/P = 0.304/0.265\n",
      "Top   5: Precision-C/P = 0.178/0.217, Recall-C/P = 0.287/0.064, NDCG-C/P = 0.305/0.258\n",
      "Top   6: Precision-C/P = 0.161/0.193, Recall-C/P = 0.311/0.068, NDCG-C/P = 0.306/0.244\n",
      "Top   7: Precision-C/P = 0.149/0.178, Recall-C/P = 0.336/0.073, NDCG-C/P = 0.310/0.235\n",
      "Top   8: Precision-C/P = 0.137/0.166, Recall-C/P = 0.353/0.078, NDCG-C/P = 0.314/0.230\n",
      "Top   9: Precision-C/P = 0.123/0.150, Recall-C/P = 0.356/0.079, NDCG-C/P = 0.313/0.224\n",
      "Top  10: Precision-C/P = 0.119/0.145, Recall-C/P = 0.384/0.085, NDCG-C/P = 0.323/0.224\n",
      "Top  20: Precision-C/P = 0.085/0.117, Recall-C/P = 0.547/0.137, NDCG-C/P = 0.368/0.259\n",
      "Top  30: Precision-C/P = 0.068/0.100, Recall-C/P = 0.657/0.176, NDCG-C/P = 0.399/0.292\n",
      "Top  40: Precision-C/P = 0.055/0.083, Recall-C/P = 0.706/0.195, NDCG-C/P = 0.414/0.307\n",
      "Top  50: Precision-C/P = 0.047/0.073, Recall-C/P = 0.754/0.215, NDCG-C/P = 0.425/0.319\n",
      "Top  60: Precision-C/P = 0.040/0.063, Recall-C/P = 0.779/0.223, NDCG-C/P = 0.431/0.326\n",
      "Top  70: Precision-C/P = 0.037/0.058, Recall-C/P = 0.824/0.239, NDCG-C/P = 0.442/0.338\n",
      "Top  80: Precision-C/P = 0.032/0.054, Recall-C/P = 0.834/0.253, NDCG-C/P = 0.443/0.345\n",
      "Top  90: Precision-C/P = 0.029/0.049, Recall-C/P = 0.841/0.259, NDCG-C/P = 0.447/0.351\n",
      "Top 100: Precision-C/P = 0.027/0.046, Recall-C/P = 0.858/0.267, NDCG-C/P = 0.452/0.355\n"
     ]
    }
   ],
   "source": [
    "evaluate(\"Teyton et al 2014.\", teyton(rules), possible_rule_set, confirmed_rule_set)"
   ]
  },
  {
   "cell_type": "code",
   "execution_count": null,
   "metadata": {},
   "outputs": [],
   "source": []
  }
 ],
 "metadata": {
  "kernelspec": {
   "display_name": "Python 3",
   "language": "python",
   "name": "python3"
  },
  "language_info": {
   "codemirror_mode": {
    "name": "ipython",
    "version": 3
   },
   "file_extension": ".py",
   "mimetype": "text/x-python",
   "name": "python",
   "nbconvert_exporter": "python",
   "pygments_lexer": "ipython3",
   "version": "3.7.4"
  }
 },
 "nbformat": 4,
 "nbformat_minor": 4
}
