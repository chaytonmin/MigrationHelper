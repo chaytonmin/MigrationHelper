{
 "cells": [
  {
   "cell_type": "code",
   "execution_count": 1,
   "metadata": {},
   "outputs": [],
   "source": [
    "import pandas as pd\n",
    "from collections import Counter"
   ]
  },
  {
   "cell_type": "code",
   "execution_count": 2,
   "metadata": {},
   "outputs": [],
   "source": [
    "possible_ground_truth = pd.read_csv(\"possible-ground-truth-2014.csv\")\n",
    "possible_migrations = pd.read_csv(\"possible-migrations.csv\")\n",
    "confirmed_migrations = pd.read_excel(\"manual/confirmed-migrations.xlsx\")"
   ]
  },
  {
   "cell_type": "code",
   "execution_count": 3,
   "metadata": {},
   "outputs": [
    {
     "name": "stdout",
     "output_type": "stream",
     "text": [
      "# inferred rules = 3878, # rules in dep seq = 1588, # rules confirmed = 289\n",
      "# from libs in depseq = 233, # from libs confirmed = 94\n",
      "# confirmed rules with in dep seq < 8 = 23\n"
     ]
    }
   ],
   "source": [
    "rule_counter = Counter(zip(possible_migrations[\"fromLib\"], possible_migrations[\"toLib\"]))\n",
    "possible_ground_truth[\"inDepSeq\"] = possible_ground_truth.apply(\n",
    "    lambda row: rule_counter[(row[\"fromGroupArtifact\"], row[\"toGroupArtifact\"])], \n",
    "    axis=1\n",
    ")\n",
    "confirmed_rules = set(zip(confirmed_migrations[\"fromLib\"], confirmed_migrations[\"toLib\"]))\n",
    "possible_ground_truth[\"dataConfirmed\"] = possible_ground_truth.apply(\n",
    "    lambda row: (row[\"fromGroupArtifact\"], row[\"toGroupArtifact\"]) in confirmed_rules, \n",
    "    axis=1\n",
    ")\n",
    "print(\"# inferred rules = {}, # rules in dep seq = {}, # rules confirmed = {}\".format(\n",
    "    len(possible_ground_truth),\n",
    "    len(possible_ground_truth[possible_ground_truth[\"inDepSeq\"] > 0]),\n",
    "    len(possible_ground_truth[possible_ground_truth[\"dataConfirmed\"]])\n",
    "))\n",
    "print(\"# from libs in depseq = {}, # from libs confirmed = {}\".format(\n",
    "    len(set(possible_ground_truth[possible_ground_truth[\"inDepSeq\"] > 0][\"fromGroupArtifact\"])),\n",
    "    len(set(possible_ground_truth[possible_ground_truth[\"dataConfirmed\"]][\"fromGroupArtifact\"]))\n",
    "))\n",
    "print(\"# confirmed rules with in dep seq < 8 = {}\".format(\n",
    "    len(possible_ground_truth[(possible_ground_truth[\"inDepSeq\"] < 8) & possible_ground_truth[\"dataConfirmed\"]])\n",
    "))"
   ]
  },
  {
   "cell_type": "code",
   "execution_count": 4,
   "metadata": {},
   "outputs": [],
   "source": [
    "possible_ground_truth.to_csv(\"possible-ground-truth-2014.csv\", index=False)"
   ]
  },
  {
   "cell_type": "code",
   "execution_count": 5,
   "metadata": {},
   "outputs": [
    {
     "name": "stdout",
     "output_type": "stream",
     "text": [
      "43 libraries removed, 44 remaining\n"
     ]
    }
   ],
   "source": [
    "xyl_output = pd.read_csv(\"recommend-output-xyl.csv\")\n",
    "\n",
    "# Remove all recommendation result for fromLib if no ground truth rules in any of the (fromLib, toLib) pairs\n",
    "from_lib_to_remove = set()\n",
    "for from_lib, df in xyl_output.groupby(by=\"fromGroupArtifact\"):\n",
    "    if all((from_lib, row[\"toGroupArtifact\"]) not in rule_counter for index, row in df.iterrows()):\n",
    "        from_lib_to_remove.add(from_lib)\n",
    "xyl_output = xyl_output[~xyl_output[\"fromGroupArtifact\"].isin(from_lib_to_remove)]\n",
    "print(\"{} libraries removed, {} remaining\".format(len(from_lib_to_remove), len(set(xyl_output[\"fromGroupArtifact\"]))))"
   ]
  },
  {
   "cell_type": "code",
   "execution_count": null,
   "metadata": {},
   "outputs": [],
   "source": []
  }
 ],
 "metadata": {
  "kernelspec": {
   "display_name": "Python 3",
   "language": "python",
   "name": "python3"
  },
  "language_info": {
   "codemirror_mode": {
    "name": "ipython",
    "version": 3
   },
   "file_extension": ".py",
   "mimetype": "text/x-python",
   "name": "python",
   "nbconvert_exporter": "python",
   "pygments_lexer": "ipython3",
   "version": "3.7.4"
  }
 },
 "nbformat": 4,
 "nbformat_minor": 4
}
