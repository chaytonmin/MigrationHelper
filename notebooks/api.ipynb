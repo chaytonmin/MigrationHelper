{
 "cells": [
  {
   "cell_type": "code",
   "execution_count": 25,
   "metadata": {},
   "outputs": [],
   "source": [
    "import csv\n",
    "import math\n",
    "import numpy as np\n",
    "import pandas as pd\n",
    "#libs = dict()\n",
    "#apis = dict()\n",
    "#with open(\"export/lib.csv\", \"r\") as f:\n",
    "#    reader = csv.DictReader(f)\n",
    "#    for row in reader:\n",
    "#        row[\"signatureIds\"] = row[\"signatureIds\"].split(\";\")\n",
    "#        libs[row[\"groupArtifactId\"]] = row\n",
    "#with open(\"export/api.csv\", \"r\") as f:\n",
    "#    reader = csv.DictReader(f)\n",
    "#    for row in reader:\n",
    "#        apis[row[\"signatureId\"]] = row\n",
    "libs = pd.read_csv(\"../export/Lib.csv\", ).set_index(\"groupArtifactId\")\n",
    "apis = pd.read_csv(\"../export/API.csv\", dtype={\"signatureId\":str}).set_index(\"signatureId\")\n",
    "libs[\"signatureIds\"] = libs[\"signatureIds\"].apply(lambda x: x.split(\";\") if type(x) == str else [])\n",
    "apis[\"paramList\"] = apis[\"paramList\"].apply(lambda x: x.split(\";\") if type(x) == str else [])"
   ]
  },
  {
   "cell_type": "code",
   "execution_count": 26,
   "metadata": {},
   "outputs": [
    {
     "data": {
      "text/html": [
       "<div>\n",
       "<style scoped>\n",
       "    .dataframe tbody tr th:only-of-type {\n",
       "        vertical-align: middle;\n",
       "    }\n",
       "\n",
       "    .dataframe tbody tr th {\n",
       "        vertical-align: top;\n",
       "    }\n",
       "\n",
       "    .dataframe thead th {\n",
       "        text-align: right;\n",
       "    }\n",
       "</style>\n",
       "<table border=\"1\" class=\"dataframe\">\n",
       "  <thead>\n",
       "    <tr style=\"text-align: right;\">\n",
       "      <th></th>\n",
       "      <th>groupArtifactName</th>\n",
       "      <th>signatureIds</th>\n",
       "    </tr>\n",
       "    <tr>\n",
       "      <th>groupArtifactId</th>\n",
       "      <th></th>\n",
       "      <th></th>\n",
       "    </tr>\n",
       "  </thead>\n",
       "  <tbody>\n",
       "    <tr>\n",
       "      <td>155</td>\n",
       "      <td>org.junit.jupiter:junit-jupiter-engine</td>\n",
       "      <td>[1958505103816, 1958505103817, 1958505103818, ...</td>\n",
       "    </tr>\n",
       "    <tr>\n",
       "      <td>61267</td>\n",
       "      <td>commons-discovery:commons-discovery</td>\n",
       "      <td>[240519190535, 240519190534, 240519190533, 240...</td>\n",
       "    </tr>\n",
       "    <tr>\n",
       "      <td>90</td>\n",
       "      <td>org.assertj:assertj-core</td>\n",
       "      <td>[1786706395136, 1786706395137, 1786706395138, ...</td>\n",
       "    </tr>\n",
       "    <tr>\n",
       "      <td>83</td>\n",
       "      <td>org.hibernate:hibernate-entitymanager</td>\n",
       "      <td>[1271310325070, 1271310325071, 2748779075311, ...</td>\n",
       "    </tr>\n",
       "    <tr>\n",
       "      <td>382</td>\n",
       "      <td>org.xerial:sqlite-jdbc</td>\n",
       "      <td>[2851858334364, 2851858334365, 2851858334366, ...</td>\n",
       "    </tr>\n",
       "  </tbody>\n",
       "</table>\n",
       "</div>"
      ],
      "text/plain": [
       "                                      groupArtifactName  \\\n",
       "groupArtifactId                                           \n",
       "155              org.junit.jupiter:junit-jupiter-engine   \n",
       "61267               commons-discovery:commons-discovery   \n",
       "90                             org.assertj:assertj-core   \n",
       "83                org.hibernate:hibernate-entitymanager   \n",
       "382                              org.xerial:sqlite-jdbc   \n",
       "\n",
       "                                                      signatureIds  \n",
       "groupArtifactId                                                     \n",
       "155              [1958505103816, 1958505103817, 1958505103818, ...  \n",
       "61267            [240519190535, 240519190534, 240519190533, 240...  \n",
       "90               [1786706395136, 1786706395137, 1786706395138, ...  \n",
       "83               [1271310325070, 1271310325071, 2748779075311, ...  \n",
       "382              [2851858334364, 2851858334365, 2851858334366, ...  "
      ]
     },
     "execution_count": 26,
     "metadata": {},
     "output_type": "execute_result"
    }
   ],
   "source": [
    "libs.head()"
   ]
  },
  {
   "cell_type": "code",
   "execution_count": 27,
   "metadata": {},
   "outputs": [
    {
     "data": {
      "text/html": [
       "<div>\n",
       "<style scoped>\n",
       "    .dataframe tbody tr th:only-of-type {\n",
       "        vertical-align: middle;\n",
       "    }\n",
       "\n",
       "    .dataframe tbody tr th {\n",
       "        vertical-align: top;\n",
       "    }\n",
       "\n",
       "    .dataframe thead th {\n",
       "        text-align: right;\n",
       "    }\n",
       "</style>\n",
       "<table border=\"1\" class=\"dataframe\">\n",
       "  <thead>\n",
       "    <tr style=\"text-align: right;\">\n",
       "      <th></th>\n",
       "      <th>packageName</th>\n",
       "      <th>className</th>\n",
       "      <th>methodName</th>\n",
       "      <th>paramList</th>\n",
       "    </tr>\n",
       "    <tr>\n",
       "      <th>signatureId</th>\n",
       "      <th></th>\n",
       "      <th></th>\n",
       "      <th></th>\n",
       "      <th></th>\n",
       "    </tr>\n",
       "  </thead>\n",
       "  <tbody>\n",
       "    <tr>\n",
       "      <td>2061584302560</td>\n",
       "      <td>com.google.common.collect</td>\n",
       "      <td>ArrayListMultimap</td>\n",
       "      <td>&lt;init&gt;</td>\n",
       "      <td>[]</td>\n",
       "    </tr>\n",
       "    <tr>\n",
       "      <td>1305670058288</td>\n",
       "      <td>com.google.common.collect</td>\n",
       "      <td>AbstractMultimap$SortedAsMap</td>\n",
       "      <td>headMap</td>\n",
       "      <td>[java.lang.Object]</td>\n",
       "    </tr>\n",
       "    <tr>\n",
       "      <td>3710851744608</td>\n",
       "      <td>com.google.common.collect</td>\n",
       "      <td>Lists$TransformingSequentialList</td>\n",
       "      <td>replaceAll</td>\n",
       "      <td>[java.util.function.UnaryOperator]</td>\n",
       "    </tr>\n",
       "    <tr>\n",
       "      <td>2714419331704</td>\n",
       "      <td>com.google.common.base</td>\n",
       "      <td>CharMatcher$6</td>\n",
       "      <td>clone</td>\n",
       "      <td>[]</td>\n",
       "    </tr>\n",
       "    <tr>\n",
       "      <td>3195455668968</td>\n",
       "      <td>com.google.common.collect</td>\n",
       "      <td>ForwardingIterator</td>\n",
       "      <td>wait</td>\n",
       "      <td>[]</td>\n",
       "    </tr>\n",
       "  </tbody>\n",
       "</table>\n",
       "</div>"
      ],
      "text/plain": [
       "                             packageName                         className  \\\n",
       "signatureId                                                                  \n",
       "2061584302560  com.google.common.collect                 ArrayListMultimap   \n",
       "1305670058288  com.google.common.collect      AbstractMultimap$SortedAsMap   \n",
       "3710851744608  com.google.common.collect  Lists$TransformingSequentialList   \n",
       "2714419331704     com.google.common.base                     CharMatcher$6   \n",
       "3195455668968  com.google.common.collect                ForwardingIterator   \n",
       "\n",
       "               methodName                           paramList  \n",
       "signatureId                                                    \n",
       "2061584302560      <init>                                  []  \n",
       "1305670058288     headMap                  [java.lang.Object]  \n",
       "3710851744608  replaceAll  [java.util.function.UnaryOperator]  \n",
       "2714419331704       clone                                  []  \n",
       "3195455668968        wait                                  []  "
      ]
     },
     "execution_count": 27,
     "metadata": {},
     "output_type": "execute_result"
    }
   ],
   "source": [
    "apis.head()"
   ]
  },
  {
   "cell_type": "code",
   "execution_count": 60,
   "metadata": {},
   "outputs": [
    {
     "name": "stdout",
     "output_type": "stream",
     "text": [
      "109\n",
      "{'org.eclipse.persistence:eclipselink', 'commons-discovery:commons-discovery', 'commons-io:commons-io', 'org.hibernate:hibernate-core', 'org.slf4j:slf4j-simple', 'org.mockito:mockito-all', 'org.apache.commons:commons-collections4', 'org.seleniumhq.selenium:selenium-server', 'net.sf.jasperreports:jasperreports', 'org.hamcrest:java-hamcrest', 'asm:asm', 'net.sourceforge.jtds:jtds', 'org.slf4j:slf4j-nop', 'org.reflections:reflections', 'org.apache.derby:derby', 'org.codehaus.groovy:groovy', 'it.unimi.dsi:fastutil', 'com.fasterxml.jackson.core:jackson-annotations', 'org.powermock:powermock-module-junit4', 'javassist:javassist', 'org.apache.httpcomponents:httpmime', 'xerces:xercesImpl', 'org.apache.logging.log4j:log4j-core', 'org.testng:testng', 'org.easymock:easymock', 'org.apache.logging.log4j:log4j-api', 'org.codehaus.jackson:jackson-mapper-asl', 'org.codehaus.jackson:jackson-xc', 'freemarker:freemarker', 'hsqldb:hsqldb', 'easymock:easymock', 'velocity:velocity', 'joda-time:joda-time', 'junit:junit', 'com.google.guava:guava', 'jmock:jmock', 'org.hamcrest:hamcrest-core', 'mysql:mysql-connector-java', 'org.hsqldb:hsqldb', 'net.sf.json-lib:json-lib', 'org.junit.vintage:junit-vintage-engine', 'javax.validation:validation-api', 'jaxen:jaxen', 'org.slf4j:slf4j-api', 'org.codehaus.woodstox:wstx-asl', 'org.apache.commons:commons-lang3', 'org.slf4j:slf4j-jdk14', 'org.xerial:sqlite-jdbc', 'com.googlecode.json-simple:json-simple', 'org.apache.httpcomponents:httpclient', 'org.hibernate:hibernate-entitymanager', 'commons-logging:commons-logging', 'com.h2database:h2', 'org.apache.commons:commons-io', 'org.codehaus.jettison:jettison', 'org.dom4j:dom4j', 'org.postgresql:postgresql', 'com.thoughtworks.xstream:xstream', 'org.seleniumhq.selenium:selenium-java', 'org.freemarker:freemarker', 'org.powermock:powermock-api-mockito', 'com.google.inject:guice', 'jdom:jdom', 'org.jboss.arquillian.junit:arquillian-junit-container', 'cglib:cglib', 'org.slf4j:slf4j-log4j12', 'com.google.code.gson:gson', 'org.junit.jupiter:junit-jupiter-engine', 'org.hamcrest:hamcrest-library', 'org.slf4j:log4j-over-slf4j', 'org.easytesting:fest-assert', 'org.ow2.asm:asm-commons', 'log4j:log4j', 'org.hamcrest:hamcrest-all', 'org.sonatype.sisu:sisu-guice', 'org.hibernate:hibernate', 'com.fasterxml.jackson.core:jackson-core', 'org.jdom:jdom', 'org.assertj:assertj-core', 'org.apache.httpcomponents:httpcore', 'xstream:xstream', 'postgresql:postgresql', 'woodstox:wstx-asl', 'org.jmock:jmock', 'org.mongodb:mongo-java-driver', 'ch.qos.logback:logback-core', 'dom4j:dom4j', 'org.codehaus.jackson:jackson-core-asl', 'org.apache.derby:derbyclient', 'org.mockito:mockito-core', 'org.ow2.asm:asm', 'com.fasterxml.jackson.core:jackson-databind', 'jasperreports:jasperreports', 'org.json:json', 'org.javassist:javassist', 'ch.qos.logback:logback-classic', 'fastutil:fastutil', 'commons-collections:commons-collections', 'commons-lang:commons-lang', 'org.slf4j:jcl-over-slf4j', 'org.codehaus.groovy:groovy-all', 'org.apache.velocity:velocity', 'javax.inject:javax.inject', 'org.jmock:jmock-junit4', 'xpp3:xpp3', 'commons-logging:commons-logging-api', 'org.apache.logging.log4j:log4j-slf4j-impl', 'org.junit.jupiter:junit-jupiter-api', 'commons-httpclient:commons-httpclient'}\n"
     ]
    }
   ],
   "source": [
    "print(len(set(libs[\"groupArtifactName\"])))\n",
    "print(set(libs[\"groupArtifactName\"]))"
   ]
  },
  {
   "cell_type": "code",
   "execution_count": 29,
   "metadata": {},
   "outputs": [
    {
     "name": "stdout",
     "output_type": "stream",
     "text": [
      "                        groupArtifactName signatureIds\n",
      "groupArtifactId                                       \n",
      "284              net.sf.json-lib:json-lib           []\n"
     ]
    }
   ],
   "source": [
    "print(libs[libs[\"signatureIds\"].apply(lambda x: len(x) == 0)])"
   ]
  },
  {
   "cell_type": "code",
   "execution_count": 63,
   "metadata": {},
   "outputs": [
    {
     "data": {
      "text/plain": [
       "['org.json.CDL',\n",
       " 'org.json.Cookie',\n",
       " 'org.json.CookieList',\n",
       " 'org.json.HTTP',\n",
       " 'org.json.HTTPTokener',\n",
       " 'org.json.JSONArray',\n",
       " 'org.json.JSONException',\n",
       " 'org.json.JSONML',\n",
       " 'org.json.JSONObject',\n",
       " 'org.json.JSONObject$1',\n",
       " 'org.json.JSONObject$Null',\n",
       " 'org.json.JSONPointer',\n",
       " 'org.json.JSONPointer$Builder',\n",
       " 'org.json.JSONPointerException',\n",
       " 'org.json.JSONPropertyIgnore',\n",
       " 'org.json.JSONPropertyName',\n",
       " 'org.json.JSONString',\n",
       " 'org.json.JSONStringer',\n",
       " 'org.json.JSONTokener',\n",
       " 'org.json.JSONWriter',\n",
       " 'org.json.Kim',\n",
       " 'org.json.Property',\n",
       " 'org.json.Test',\n",
       " 'org.json.Test$1Obj',\n",
       " 'org.json.XML',\n",
       " 'org.json.XML$1',\n",
       " 'org.json.XML$1$1',\n",
       " 'org.json.XMLParserConfiguration',\n",
       " 'org.json.XMLTokener',\n",
       " 'org.json.zip.BitInputStream',\n",
       " 'org.json.zip.BitOutputStream',\n",
       " 'org.json.zip.BitReader',\n",
       " 'org.json.zip.BitWriter',\n",
       " 'org.json.zip.Compressor',\n",
       " 'org.json.zip.Decompressor',\n",
       " 'org.json.zip.Huff',\n",
       " 'org.json.zip.Huff$Symbol',\n",
       " 'org.json.zip.JSONzip',\n",
       " 'org.json.zip.Keep',\n",
       " 'org.json.zip.MapKeep',\n",
       " 'org.json.zip.None',\n",
       " 'org.json.zip.PostMortem',\n",
       " 'org.json.zip.TrieKeep',\n",
       " 'org.json.zip.TrieKeep$Node',\n",
       " 'org.json.zip.Unzipper',\n",
       " 'org.json.zip.Zipper']"
      ]
     },
     "execution_count": 63,
     "metadata": {},
     "output_type": "execute_result"
    }
   ],
   "source": [
    "def get_signatures(libname):\n",
    "    signatureIds = libs[libs[\"groupArtifactName\"] == libname][\"signatureIds\"].iloc[0]\n",
    "    return apis.loc[signatureIds]\n",
    "def to_classes(signatures):\n",
    "    signatures[\"packageName\"] = signatures[\"packageName\"].apply(lambda x: x if type(x) == str else \"\")\n",
    "    return sorted(list(set(signatures[\"packageName\"] + \".\" + signatures[\"className\"])))\n",
    "def to_packages(signatures):\n",
    "    signatures[\"packageName\"] = signatures[\"packageName\"].apply(lambda x: x if type(x) == str else \"\")\n",
    "    return sorted(list(set(signatures[\"packageName\"])))\n",
    "to_classes(get_signatures(\"org.json:json\"))"
   ]
  },
  {
   "cell_type": "code",
   "execution_count": 64,
   "metadata": {},
   "outputs": [
    {
     "data": {
      "text/plain": [
       "['org.objectweb.asm', 'org.objectweb.asm.signature']"
      ]
     },
     "execution_count": 64,
     "metadata": {},
     "output_type": "execute_result"
    }
   ],
   "source": [
    "to_packages(get_signatures(\"asm:asm\"))"
   ]
  },
  {
   "cell_type": "code",
   "execution_count": 68,
   "metadata": {},
   "outputs": [],
   "source": [
    "# Export to csv for further analysis\n",
    "from collections import OrderedDict\n",
    "df = []\n",
    "libnames = set(libs[\"groupArtifactName\"])\n",
    "for name in libnames:\n",
    "    df.append(OrderedDict([\n",
    "        [\"groupArtifactName\", name],\n",
    "        [\"hasProblem\", \"\"],\n",
    "        [\"problemDescription\", \"\"],\n",
    "        [\"packages\", \";\".join(to_packages(get_signatures(name)))]\n",
    "    ]))\n",
    "pd.DataFrame(df).to_csv(\"lib2pkg.csv\", index=False)"
   ]
  },
  {
   "cell_type": "code",
   "execution_count": null,
   "metadata": {},
   "outputs": [],
   "source": []
  }
 ],
 "metadata": {
  "kernelspec": {
   "display_name": "Python 3",
   "language": "python",
   "name": "python3"
  },
  "language_info": {
   "codemirror_mode": {
    "name": "ipython",
    "version": 3
   },
   "file_extension": ".py",
   "mimetype": "text/x-python",
   "name": "python",
   "nbconvert_exporter": "python",
   "pygments_lexer": "ipython3",
   "version": "3.7.4"
  }
 },
 "nbformat": 4,
 "nbformat_minor": 4
}
