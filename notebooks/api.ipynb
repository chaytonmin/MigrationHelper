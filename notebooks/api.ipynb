{
 "cells": [
  {
   "cell_type": "code",
   "execution_count": 1,
   "metadata": {},
   "outputs": [],
   "source": [
    "import csv\n",
    "import math\n",
    "import numpy as np\n",
    "import pandas as pd\n",
    "libs = pd.read_csv(\"../export/Lib.csv\", ).set_index(\"groupArtifactId\")\n",
    "apis = pd.read_csv(\"../export/API.csv\", dtype={\"signatureId\":str}).set_index(\"signatureId\")\n",
    "libs[\"signatureIds\"] = libs[\"signatureIds\"].apply(lambda x: x.split(\";\") if type(x) == str else [])\n",
    "apis[\"paramList\"] = apis[\"paramList\"].apply(lambda x: x.split(\";\") if type(x) == str else [])"
   ]
  },
  {
   "cell_type": "code",
   "execution_count": 2,
   "metadata": {},
   "outputs": [
    {
     "data": {
      "text/html": [
       "<div>\n",
       "<style scoped>\n",
       "    .dataframe tbody tr th:only-of-type {\n",
       "        vertical-align: middle;\n",
       "    }\n",
       "\n",
       "    .dataframe tbody tr th {\n",
       "        vertical-align: top;\n",
       "    }\n",
       "\n",
       "    .dataframe thead th {\n",
       "        text-align: right;\n",
       "    }\n",
       "</style>\n",
       "<table border=\"1\" class=\"dataframe\">\n",
       "  <thead>\n",
       "    <tr style=\"text-align: right;\">\n",
       "      <th></th>\n",
       "      <th>groupArtifactName</th>\n",
       "      <th>signatureIds</th>\n",
       "    </tr>\n",
       "    <tr>\n",
       "      <th>groupArtifactId</th>\n",
       "      <th></th>\n",
       "      <th></th>\n",
       "    </tr>\n",
       "  </thead>\n",
       "  <tbody>\n",
       "    <tr>\n",
       "      <td>155</td>\n",
       "      <td>org.junit.jupiter:junit-jupiter-engine</td>\n",
       "      <td>[1958505103816, 1958505103817, 1958505103818, ...</td>\n",
       "    </tr>\n",
       "    <tr>\n",
       "      <td>61267</td>\n",
       "      <td>commons-discovery:commons-discovery</td>\n",
       "      <td>[240519190535, 240519190534, 240519190533, 240...</td>\n",
       "    </tr>\n",
       "    <tr>\n",
       "      <td>90</td>\n",
       "      <td>org.assertj:assertj-core</td>\n",
       "      <td>[1786706395136, 1786706395137, 1786706395138, ...</td>\n",
       "    </tr>\n",
       "    <tr>\n",
       "      <td>83</td>\n",
       "      <td>org.hibernate:hibernate-entitymanager</td>\n",
       "      <td>[1271310325070, 1271310325071, 2748779075311, ...</td>\n",
       "    </tr>\n",
       "    <tr>\n",
       "      <td>382</td>\n",
       "      <td>org.xerial:sqlite-jdbc</td>\n",
       "      <td>[2851858334364, 2851858334365, 2851858334366, ...</td>\n",
       "    </tr>\n",
       "  </tbody>\n",
       "</table>\n",
       "</div>"
      ],
      "text/plain": [
       "                                      groupArtifactName  \\\n",
       "groupArtifactId                                           \n",
       "155              org.junit.jupiter:junit-jupiter-engine   \n",
       "61267               commons-discovery:commons-discovery   \n",
       "90                             org.assertj:assertj-core   \n",
       "83                org.hibernate:hibernate-entitymanager   \n",
       "382                              org.xerial:sqlite-jdbc   \n",
       "\n",
       "                                                      signatureIds  \n",
       "groupArtifactId                                                     \n",
       "155              [1958505103816, 1958505103817, 1958505103818, ...  \n",
       "61267            [240519190535, 240519190534, 240519190533, 240...  \n",
       "90               [1786706395136, 1786706395137, 1786706395138, ...  \n",
       "83               [1271310325070, 1271310325071, 2748779075311, ...  \n",
       "382              [2851858334364, 2851858334365, 2851858334366, ...  "
      ]
     },
     "execution_count": 2,
     "metadata": {},
     "output_type": "execute_result"
    }
   ],
   "source": [
    "libs.head()"
   ]
  },
  {
   "cell_type": "code",
   "execution_count": 3,
   "metadata": {},
   "outputs": [
    {
     "data": {
      "text/html": [
       "<div>\n",
       "<style scoped>\n",
       "    .dataframe tbody tr th:only-of-type {\n",
       "        vertical-align: middle;\n",
       "    }\n",
       "\n",
       "    .dataframe tbody tr th {\n",
       "        vertical-align: top;\n",
       "    }\n",
       "\n",
       "    .dataframe thead th {\n",
       "        text-align: right;\n",
       "    }\n",
       "</style>\n",
       "<table border=\"1\" class=\"dataframe\">\n",
       "  <thead>\n",
       "    <tr style=\"text-align: right;\">\n",
       "      <th></th>\n",
       "      <th>packageName</th>\n",
       "      <th>className</th>\n",
       "      <th>methodName</th>\n",
       "      <th>paramList</th>\n",
       "    </tr>\n",
       "    <tr>\n",
       "      <th>signatureId</th>\n",
       "      <th></th>\n",
       "      <th></th>\n",
       "      <th></th>\n",
       "      <th></th>\n",
       "    </tr>\n",
       "  </thead>\n",
       "  <tbody>\n",
       "    <tr>\n",
       "      <td>2061584302560</td>\n",
       "      <td>com.google.common.collect</td>\n",
       "      <td>ArrayListMultimap</td>\n",
       "      <td>&lt;init&gt;</td>\n",
       "      <td>[]</td>\n",
       "    </tr>\n",
       "    <tr>\n",
       "      <td>1305670058288</td>\n",
       "      <td>com.google.common.collect</td>\n",
       "      <td>AbstractMultimap$SortedAsMap</td>\n",
       "      <td>headMap</td>\n",
       "      <td>[java.lang.Object]</td>\n",
       "    </tr>\n",
       "    <tr>\n",
       "      <td>3710851744608</td>\n",
       "      <td>com.google.common.collect</td>\n",
       "      <td>Lists$TransformingSequentialList</td>\n",
       "      <td>replaceAll</td>\n",
       "      <td>[java.util.function.UnaryOperator]</td>\n",
       "    </tr>\n",
       "    <tr>\n",
       "      <td>2714419331704</td>\n",
       "      <td>com.google.common.base</td>\n",
       "      <td>CharMatcher$6</td>\n",
       "      <td>clone</td>\n",
       "      <td>[]</td>\n",
       "    </tr>\n",
       "    <tr>\n",
       "      <td>3195455668968</td>\n",
       "      <td>com.google.common.collect</td>\n",
       "      <td>ForwardingIterator</td>\n",
       "      <td>wait</td>\n",
       "      <td>[]</td>\n",
       "    </tr>\n",
       "  </tbody>\n",
       "</table>\n",
       "</div>"
      ],
      "text/plain": [
       "                             packageName                         className  \\\n",
       "signatureId                                                                  \n",
       "2061584302560  com.google.common.collect                 ArrayListMultimap   \n",
       "1305670058288  com.google.common.collect      AbstractMultimap$SortedAsMap   \n",
       "3710851744608  com.google.common.collect  Lists$TransformingSequentialList   \n",
       "2714419331704     com.google.common.base                     CharMatcher$6   \n",
       "3195455668968  com.google.common.collect                ForwardingIterator   \n",
       "\n",
       "               methodName                           paramList  \n",
       "signatureId                                                    \n",
       "2061584302560      <init>                                  []  \n",
       "1305670058288     headMap                  [java.lang.Object]  \n",
       "3710851744608  replaceAll  [java.util.function.UnaryOperator]  \n",
       "2714419331704       clone                                  []  \n",
       "3195455668968        wait                                  []  "
      ]
     },
     "execution_count": 3,
     "metadata": {},
     "output_type": "execute_result"
    }
   ],
   "source": [
    "apis.head()"
   ]
  },
  {
   "cell_type": "code",
   "execution_count": 4,
   "metadata": {},
   "outputs": [
    {
     "name": "stdout",
     "output_type": "stream",
     "text": [
      "109\n",
      "{'org.hamcrest:java-hamcrest', 'org.apache.logging.log4j:log4j-api', 'org.hibernate:hibernate-core', 'org.jboss.arquillian.junit:arquillian-junit-container', 'commons-logging:commons-logging', 'org.mockito:mockito-all', 'junit:junit', 'cglib:cglib', 'it.unimi.dsi:fastutil', 'org.reflections:reflections', 'org.sonatype.sisu:sisu-guice', 'com.google.code.gson:gson', 'ch.qos.logback:logback-core', 'org.hsqldb:hsqldb', 'org.easymock:easymock', 'org.eclipse.persistence:eclipselink', 'org.apache.commons:commons-io', 'com.googlecode.json-simple:json-simple', 'javax.inject:javax.inject', 'fastutil:fastutil', 'org.junit.jupiter:junit-jupiter-api', 'org.apache.httpcomponents:httpcore', 'org.slf4j:slf4j-api', 'org.apache.httpcomponents:httpclient', 'commons-lang:commons-lang', 'org.apache.commons:commons-lang3', 'com.google.inject:guice', 'org.hibernate:hibernate-entitymanager', 'jmock:jmock', 'net.sf.json-lib:json-lib', 'org.ow2.asm:asm-commons', 'org.slf4j:slf4j-simple', 'org.slf4j:slf4j-log4j12', 'javax.validation:validation-api', 'commons-discovery:commons-discovery', 'org.hibernate:hibernate', 'org.seleniumhq.selenium:selenium-server', 'org.apache.logging.log4j:log4j-core', 'joda-time:joda-time', 'org.codehaus.jackson:jackson-xc', 'commons-logging:commons-logging-api', 'org.codehaus.jettison:jettison', 'commons-collections:commons-collections', 'org.hamcrest:hamcrest-all', 'org.mongodb:mongo-java-driver', 'org.easytesting:fest-assert', 'org.junit.vintage:junit-vintage-engine', 'org.ow2.asm:asm', 'org.powermock:powermock-api-mockito', 'dom4j:dom4j', 'postgresql:postgresql', 'org.apache.derby:derby', 'javassist:javassist', 'org.codehaus.groovy:groovy', 'org.json:json', 'velocity:velocity', 'org.powermock:powermock-module-junit4', 'org.mockito:mockito-core', 'ch.qos.logback:logback-classic', 'org.javassist:javassist', 'com.google.guava:guava', 'org.apache.commons:commons-collections4', 'org.apache.velocity:velocity', 'org.apache.derby:derbyclient', 'hsqldb:hsqldb', 'org.slf4j:jcl-over-slf4j', 'org.junit.jupiter:junit-jupiter-engine', 'org.apache.httpcomponents:httpmime', 'asm:asm', 'net.sf.jasperreports:jasperreports', 'org.codehaus.jackson:jackson-core-asl', 'org.jdom:jdom', 'com.h2database:h2', 'org.slf4j:slf4j-jdk14', 'org.freemarker:freemarker', 'org.codehaus.groovy:groovy-all', 'xpp3:xpp3', 'com.thoughtworks.xstream:xstream', 'xerces:xercesImpl', 'org.codehaus.woodstox:wstx-asl', 'org.postgresql:postgresql', 'org.jmock:jmock-junit4', 'xstream:xstream', 'commons-httpclient:commons-httpclient', 'org.hamcrest:hamcrest-library', 'org.jmock:jmock', 'log4j:log4j', 'org.slf4j:log4j-over-slf4j', 'org.assertj:assertj-core', 'woodstox:wstx-asl', 'org.codehaus.jackson:jackson-mapper-asl', 'mysql:mysql-connector-java', 'net.sourceforge.jtds:jtds', 'freemarker:freemarker', 'jaxen:jaxen', 'com.fasterxml.jackson.core:jackson-databind', 'commons-io:commons-io', 'easymock:easymock', 'com.fasterxml.jackson.core:jackson-annotations', 'org.seleniumhq.selenium:selenium-java', 'org.apache.logging.log4j:log4j-slf4j-impl', 'org.testng:testng', 'org.slf4j:slf4j-nop', 'org.dom4j:dom4j', 'org.xerial:sqlite-jdbc', 'com.fasterxml.jackson.core:jackson-core', 'jdom:jdom', 'org.hamcrest:hamcrest-core', 'jasperreports:jasperreports'}\n"
     ]
    }
   ],
   "source": [
    "print(len(set(libs[\"groupArtifactName\"])))\n",
    "print(set(libs[\"groupArtifactName\"]))"
   ]
  },
  {
   "cell_type": "code",
   "execution_count": 5,
   "metadata": {},
   "outputs": [
    {
     "name": "stdout",
     "output_type": "stream",
     "text": [
      "                        groupArtifactName signatureIds\n",
      "groupArtifactId                                       \n",
      "284              net.sf.json-lib:json-lib           []\n"
     ]
    }
   ],
   "source": [
    "print(libs[libs[\"signatureIds\"].apply(lambda x: len(x) == 0)])"
   ]
  },
  {
   "cell_type": "code",
   "execution_count": 6,
   "metadata": {},
   "outputs": [
    {
     "data": {
      "text/plain": [
       "['org.json.CDL',\n",
       " 'org.json.Cookie',\n",
       " 'org.json.CookieList',\n",
       " 'org.json.HTTP',\n",
       " 'org.json.HTTPTokener',\n",
       " 'org.json.JSONArray',\n",
       " 'org.json.JSONException',\n",
       " 'org.json.JSONML',\n",
       " 'org.json.JSONObject',\n",
       " 'org.json.JSONObject$1',\n",
       " 'org.json.JSONObject$Null',\n",
       " 'org.json.JSONPointer',\n",
       " 'org.json.JSONPointer$Builder',\n",
       " 'org.json.JSONPointerException',\n",
       " 'org.json.JSONPropertyIgnore',\n",
       " 'org.json.JSONPropertyName',\n",
       " 'org.json.JSONString',\n",
       " 'org.json.JSONStringer',\n",
       " 'org.json.JSONTokener',\n",
       " 'org.json.JSONWriter',\n",
       " 'org.json.Kim',\n",
       " 'org.json.Property',\n",
       " 'org.json.Test',\n",
       " 'org.json.Test$1Obj',\n",
       " 'org.json.XML',\n",
       " 'org.json.XML$1',\n",
       " 'org.json.XML$1$1',\n",
       " 'org.json.XMLParserConfiguration',\n",
       " 'org.json.XMLTokener',\n",
       " 'org.json.zip.BitInputStream',\n",
       " 'org.json.zip.BitOutputStream',\n",
       " 'org.json.zip.BitReader',\n",
       " 'org.json.zip.BitWriter',\n",
       " 'org.json.zip.Compressor',\n",
       " 'org.json.zip.Decompressor',\n",
       " 'org.json.zip.Huff',\n",
       " 'org.json.zip.Huff$Symbol',\n",
       " 'org.json.zip.JSONzip',\n",
       " 'org.json.zip.Keep',\n",
       " 'org.json.zip.MapKeep',\n",
       " 'org.json.zip.None',\n",
       " 'org.json.zip.PostMortem',\n",
       " 'org.json.zip.TrieKeep',\n",
       " 'org.json.zip.TrieKeep$Node',\n",
       " 'org.json.zip.Unzipper',\n",
       " 'org.json.zip.Zipper']"
      ]
     },
     "execution_count": 6,
     "metadata": {},
     "output_type": "execute_result"
    }
   ],
   "source": [
    "def get_signatures(libname):\n",
    "    signatureIds = libs[libs[\"groupArtifactName\"] == libname][\"signatureIds\"].iloc[0]\n",
    "    return apis.loc[signatureIds]\n",
    "def to_classes(signatures):\n",
    "    signatures[\"packageName\"] = signatures[\"packageName\"].apply(lambda x: x if type(x) == str else \"\")\n",
    "    return sorted(list(set(signatures[\"packageName\"] + \".\" + signatures[\"className\"])))\n",
    "def to_packages(signatures):\n",
    "    signatures[\"packageName\"] = signatures[\"packageName\"].apply(lambda x: x if type(x) == str else \"\")\n",
    "    return sorted(list(set(signatures[\"packageName\"])))\n",
    "to_classes(get_signatures(\"org.json:json\"))"
   ]
  },
  {
   "cell_type": "code",
   "execution_count": 7,
   "metadata": {},
   "outputs": [
    {
     "data": {
      "text/plain": [
       "['org.objectweb.asm', 'org.objectweb.asm.signature']"
      ]
     },
     "execution_count": 7,
     "metadata": {},
     "output_type": "execute_result"
    }
   ],
   "source": [
    "to_packages(get_signatures(\"asm:asm\"))"
   ]
  },
  {
   "cell_type": "code",
   "execution_count": 8,
   "metadata": {},
   "outputs": [],
   "source": [
    "# Export to csv for further analysis\n",
    "import os\n",
    "from collections import OrderedDict\n",
    "df = []\n",
    "libnames = set(libs[\"groupArtifactName\"])\n",
    "for name in libnames:\n",
    "    df.append(OrderedDict([\n",
    "        [\"groupArtifactName\", name],\n",
    "        [\"hasProblem\", \"\"],\n",
    "        [\"problemDescription\", \"\"],\n",
    "        [\"packages\", \"\\n\".join(to_packages(get_signatures(name)))]\n",
    "    ]))\n",
    "pd.DataFrame(df).to_csv(\"lib2pkg.csv\", index=False)"
   ]
  },
  {
   "cell_type": "code",
   "execution_count": 9,
   "metadata": {},
   "outputs": [
    {
     "data": {
      "text/html": [
       "<div>\n",
       "<style scoped>\n",
       "    .dataframe tbody tr th:only-of-type {\n",
       "        vertical-align: middle;\n",
       "    }\n",
       "\n",
       "    .dataframe tbody tr th {\n",
       "        vertical-align: top;\n",
       "    }\n",
       "\n",
       "    .dataframe thead th {\n",
       "        text-align: right;\n",
       "    }\n",
       "</style>\n",
       "<table border=\"1\" class=\"dataframe\">\n",
       "  <thead>\n",
       "    <tr style=\"text-align: right;\">\n",
       "      <th></th>\n",
       "      <th>packageName</th>\n",
       "      <th>className</th>\n",
       "      <th>methodName</th>\n",
       "      <th>paramList</th>\n",
       "    </tr>\n",
       "    <tr>\n",
       "      <th>signatureId</th>\n",
       "      <th></th>\n",
       "      <th></th>\n",
       "      <th></th>\n",
       "      <th></th>\n",
       "    </tr>\n",
       "  </thead>\n",
       "  <tbody>\n",
       "  </tbody>\n",
       "</table>\n",
       "</div>"
      ],
      "text/plain": [
       "Empty DataFrame\n",
       "Columns: [packageName, className, methodName, paramList]\n",
       "Index: []"
      ]
     },
     "execution_count": 9,
     "metadata": {},
     "output_type": "execute_result"
    }
   ],
   "source": [
    "get_signatures(\"net.sf.json-lib:json-lib\")"
   ]
  },
  {
   "cell_type": "code",
   "execution_count": 11,
   "metadata": {},
   "outputs": [
    {
     "data": {
      "text/plain": [
       "['.module-info',\n",
       " 'org.objectweb.asm.commons.AdviceAdapter',\n",
       " 'org.objectweb.asm.commons.AnalyzerAdapter',\n",
       " 'org.objectweb.asm.commons.AnnotationRemapper',\n",
       " 'org.objectweb.asm.commons.ClassRemapper',\n",
       " 'org.objectweb.asm.commons.CodeSizeEvaluator',\n",
       " 'org.objectweb.asm.commons.FieldRemapper',\n",
       " 'org.objectweb.asm.commons.GeneratorAdapter',\n",
       " 'org.objectweb.asm.commons.InstructionAdapter',\n",
       " 'org.objectweb.asm.commons.JSRInlinerAdapter',\n",
       " 'org.objectweb.asm.commons.JSRInlinerAdapter$Instantiation',\n",
       " 'org.objectweb.asm.commons.LocalVariablesSorter',\n",
       " 'org.objectweb.asm.commons.Method',\n",
       " 'org.objectweb.asm.commons.MethodRemapper',\n",
       " 'org.objectweb.asm.commons.ModuleHashesAttribute',\n",
       " 'org.objectweb.asm.commons.ModuleRemapper',\n",
       " 'org.objectweb.asm.commons.ModuleResolutionAttribute',\n",
       " 'org.objectweb.asm.commons.ModuleTargetAttribute',\n",
       " 'org.objectweb.asm.commons.RecordComponentRemapper',\n",
       " 'org.objectweb.asm.commons.Remapper',\n",
       " 'org.objectweb.asm.commons.RemappingAnnotationAdapter',\n",
       " 'org.objectweb.asm.commons.RemappingClassAdapter',\n",
       " 'org.objectweb.asm.commons.RemappingFieldAdapter',\n",
       " 'org.objectweb.asm.commons.RemappingMethodAdapter',\n",
       " 'org.objectweb.asm.commons.RemappingSignatureAdapter',\n",
       " 'org.objectweb.asm.commons.SerialVersionUIDAdder',\n",
       " 'org.objectweb.asm.commons.SerialVersionUIDAdder$1',\n",
       " 'org.objectweb.asm.commons.SerialVersionUIDAdder$Item',\n",
       " 'org.objectweb.asm.commons.SignatureRemapper',\n",
       " 'org.objectweb.asm.commons.SimpleRemapper',\n",
       " 'org.objectweb.asm.commons.StaticInitMerger',\n",
       " 'org.objectweb.asm.commons.TableSwitchGenerator',\n",
       " 'org.objectweb.asm.commons.TryCatchBlockSorter',\n",
       " 'org.objectweb.asm.commons.TryCatchBlockSorter$1']"
      ]
     },
     "execution_count": 11,
     "metadata": {},
     "output_type": "execute_result"
    }
   ],
   "source": [
    "to_classes(get_signatures(\"org.ow2.asm:asm-commons\"))"
   ]
  },
  {
   "cell_type": "code",
   "execution_count": 15,
   "metadata": {},
   "outputs": [
    {
     "data": {
      "text/plain": [
       "['', 'org.slf4j', 'org.slf4j.impl', 'org.slf4j.simple', 'org.slf4j.spi']"
      ]
     },
     "execution_count": 15,
     "metadata": {},
     "output_type": "execute_result"
    }
   ],
   "source": [
    "to_classes(get_signatures(\"org.slf4j:slf4j-simple\"))"
   ]
  },
  {
   "cell_type": "code",
   "execution_count": 17,
   "metadata": {},
   "outputs": [
    {
     "data": {
      "text/plain": [
       "['net.sf.cglib.asm',\n",
       " 'net.sf.cglib.asm.attrs',\n",
       " 'net.sf.cglib.beans',\n",
       " 'net.sf.cglib.core',\n",
       " 'net.sf.cglib.proxy',\n",
       " 'net.sf.cglib.reflect',\n",
       " 'net.sf.cglib.transform',\n",
       " 'net.sf.cglib.transform.hook',\n",
       " 'net.sf.cglib.transform.impl',\n",
       " 'net.sf.cglib.util',\n",
       " 'org.hamcrest',\n",
       " 'org.hamcrest.core',\n",
       " 'org.hamcrest.internal',\n",
       " 'org.mockito',\n",
       " 'org.mockito.asm',\n",
       " 'org.mockito.asm.signature',\n",
       " 'org.mockito.asm.tree',\n",
       " 'org.mockito.asm.tree.analysis',\n",
       " 'org.mockito.asm.util',\n",
       " 'org.mockito.cglib.beans',\n",
       " 'org.mockito.cglib.core',\n",
       " 'org.mockito.cglib.proxy',\n",
       " 'org.mockito.cglib.reflect',\n",
       " 'org.mockito.cglib.transform',\n",
       " 'org.mockito.cglib.transform.impl',\n",
       " 'org.mockito.cglib.util',\n",
       " 'org.mockito.configuration',\n",
       " 'org.mockito.configuration.experimental',\n",
       " 'org.mockito.exceptions',\n",
       " 'org.mockito.exceptions.base',\n",
       " 'org.mockito.exceptions.cause',\n",
       " 'org.mockito.exceptions.misusing',\n",
       " 'org.mockito.exceptions.stacktrace',\n",
       " 'org.mockito.exceptions.verification',\n",
       " 'org.mockito.exceptions.verification.junit',\n",
       " 'org.mockito.internal',\n",
       " 'org.mockito.internal.configuration',\n",
       " 'org.mockito.internal.configuration.injection',\n",
       " 'org.mockito.internal.configuration.injection.filter',\n",
       " 'org.mockito.internal.configuration.injection.scanner',\n",
       " 'org.mockito.internal.configuration.plugins',\n",
       " 'org.mockito.internal.creation',\n",
       " 'org.mockito.internal.creation.cglib',\n",
       " 'org.mockito.internal.creation.instance',\n",
       " 'org.mockito.internal.creation.jmock',\n",
       " 'org.mockito.internal.creation.settings',\n",
       " 'org.mockito.internal.creation.util',\n",
       " 'org.mockito.internal.debugging',\n",
       " 'org.mockito.internal.exceptions',\n",
       " 'org.mockito.internal.exceptions.base',\n",
       " 'org.mockito.internal.exceptions.stacktrace',\n",
       " 'org.mockito.internal.exceptions.util',\n",
       " 'org.mockito.internal.experimental',\n",
       " 'org.mockito.internal.handler',\n",
       " 'org.mockito.internal.invocation',\n",
       " 'org.mockito.internal.invocation.finder',\n",
       " 'org.mockito.internal.invocation.realmethod',\n",
       " 'org.mockito.internal.junit',\n",
       " 'org.mockito.internal.listeners',\n",
       " 'org.mockito.internal.matchers',\n",
       " 'org.mockito.internal.matchers.apachecommons',\n",
       " 'org.mockito.internal.progress',\n",
       " 'org.mockito.internal.reporting',\n",
       " 'org.mockito.internal.returnvalues',\n",
       " 'org.mockito.internal.rules',\n",
       " 'org.mockito.internal.runners',\n",
       " 'org.mockito.internal.runners.util',\n",
       " 'org.mockito.internal.stubbing',\n",
       " 'org.mockito.internal.stubbing.answers',\n",
       " 'org.mockito.internal.stubbing.defaultanswers',\n",
       " 'org.mockito.internal.util',\n",
       " 'org.mockito.internal.util.collections',\n",
       " 'org.mockito.internal.util.copy',\n",
       " 'org.mockito.internal.util.io',\n",
       " 'org.mockito.internal.util.junit',\n",
       " 'org.mockito.internal.util.reflection',\n",
       " 'org.mockito.internal.verification',\n",
       " 'org.mockito.internal.verification.api',\n",
       " 'org.mockito.internal.verification.argumentmatching',\n",
       " 'org.mockito.internal.verification.checkers',\n",
       " 'org.mockito.invocation',\n",
       " 'org.mockito.junit',\n",
       " 'org.mockito.listeners',\n",
       " 'org.mockito.mock',\n",
       " 'org.mockito.plugins',\n",
       " 'org.mockito.runners',\n",
       " 'org.mockito.stubbing',\n",
       " 'org.mockito.stubbing.answers',\n",
       " 'org.mockito.verification',\n",
       " 'org.objectweb.asm',\n",
       " 'org.objectweb.asm.signature',\n",
       " 'org.objenesis',\n",
       " 'org.objenesis.instantiator',\n",
       " 'org.objenesis.instantiator.android',\n",
       " 'org.objenesis.instantiator.basic',\n",
       " 'org.objenesis.instantiator.gcj',\n",
       " 'org.objenesis.instantiator.jrockit',\n",
       " 'org.objenesis.instantiator.perc',\n",
       " 'org.objenesis.instantiator.sun',\n",
       " 'org.objenesis.strategy']"
      ]
     },
     "execution_count": 17,
     "metadata": {},
     "output_type": "execute_result"
    }
   ],
   "source": [
    "to_packages(get_signatures(\"org.mockito:mockito-all\"))"
   ]
  },
  {
   "cell_type": "code",
   "execution_count": null,
   "metadata": {},
   "outputs": [],
   "source": []
  }
 ],
 "metadata": {
  "kernelspec": {
   "display_name": "Python 3",
   "language": "python",
   "name": "python3"
  },
  "language_info": {
   "codemirror_mode": {
    "name": "ipython",
    "version": 3
   },
   "file_extension": ".py",
   "mimetype": "text/x-python",
   "name": "python",
   "nbconvert_exporter": "python",
   "pygments_lexer": "ipython3",
   "version": "3.7.4"
  }
 },
 "nbformat": 4,
 "nbformat_minor": 4
}
