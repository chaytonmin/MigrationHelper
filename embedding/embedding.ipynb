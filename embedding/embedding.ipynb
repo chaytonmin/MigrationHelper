{
 "cells": [
  {
   "cell_type": "markdown",
   "metadata": {},
   "source": [
    "Check the quality of the embeddings here"
   ]
  },
  {
   "cell_type": "code",
   "execution_count": 1,
   "metadata": {},
   "outputs": [],
   "source": [
    "import ast\n",
    "import json\n",
    "import pandas as pd\n",
    "from gensim.models.doc2vec import Doc2Vec, TaggedDocument\n",
    "\n",
    "model = Doc2Vec.load(\"doc2vec.libraries.io.200.100.2.5.20\")\n",
    "libs = pd.read_csv(\"../export/GroupArtifact.csv\").set_index(\"id\")\n",
    "rules = pd.read_csv(\"../test_data/ground_truth.csv\", sep=\";\")\n",
    "rules[\"fromIds\"] = rules[\"fromIds\"].apply(lambda x: ast.literal_eval(x))\n",
    "rules[\"toIds\"] = rules[\"toIds\"].apply(lambda x: ast.literal_eval(x))\n",
    "\n",
    "lib_ids = set([i for a in rules[\"fromIds\"] for i in a] + [i for a in rules[\"toIds\"] for i in a])\n",
    "lib_set = set(rules[\"fromLibrary\"]) | set(rules[\"toLibrary\"])\n",
    "ga_set = set(map(lambda x: libs[\"groupId\"][x] + \":\" + libs[\"artifactId\"][x], lib_ids))\n",
    "rules_set = set(rules[\"fromLibrary\"] + \" \" + rules[\"toLibrary\"])"
   ]
  },
  {
   "cell_type": "code",
   "execution_count": 2,
   "metadata": {},
   "outputs": [
    {
     "name": "stdout",
     "output_type": "stream",
     "text": [
      "org.json:json [('junit:junit', 0.5462886691093445), ('org.wso2.orbit.commons-fileupload:commons-fileupload', 0.45649901032447815), ('p001.plugins:plugin022', 0.45633548498153687), ('com.google.code.gson:gson', 0.45601993799209595), ('nu.xom:xom', 0.45287811756134033), ('com.connexience:monitoring-common', 0.44636374711990356), ('at.ac.tuwien.big:testsuite-api', 0.4422326683998108), ('com.flaptor.hist4j:hist4j', 0.43952322006225586), ('org.krohm.gameengine:Entities', 0.4378364682197571), ('com.ctc.wstx:woodstox-osgi', 0.4362933039665222)]\n",
      "com.alibaba:fastjson [('net.sf.json-lib:json-lib', 0.42310240864753723), ('com.aaron.common.api:common_api', 0.37858834862709045), ('com.google.code.gson:gson', 0.36803483963012695), ('com.qiniu:qiniu-java-sdk', 0.3567369282245636), ('org.mybatis.generator:mybatis-generator-core', 0.3492923378944397), ('com.edcs.tds:tds-storm-common', 0.33768564462661743), ('org.redisson:redisson-spring-data-20', 0.33767974376678467), ('zhangpai-rsc:zhangpai-rabbit-framework', 0.3337976932525635), ('com.py:common-util', 0.3329835534095764), ('com.aliyun.oss:aliyun-sdk-oss', 0.3308544158935547)]\n",
      "org.postgresql:postgresql [('postgresql:postgresql', 0.7499297857284546), ('mysql:mysql-connector-java', 0.6353742480278015), ('com.oracle:ojdbc7', 0.42260217666625977), ('org.projectlombok:lombok', 0.40707194805145264), ('junit:junit', 0.37729114294052124), ('de.adorsys.psd2:cms-db-schema', 0.3748001456260681), ('one.datasource:one', 0.37308090925216675), ('org.eclipse.gemini.blueprint:gemini-blueprint-mock', 0.3696739077568054), ('org.krohm.gameengine:Entities', 0.3631572127342224), ('org.trueafrican.monitoringtool:model', 0.36132240295410156)]\n",
      "commons-io:commons-io [('org.apache.commons:commons-io', 0.7637302875518799), ('junit:junit', 0.44171133637428284), ('synesketch:synesketch', 0.413300484418869), ('com.leroymerlin.labs:lm-forums-core', 0.4103153347969055), ('com.ecfront:ez-dbutils', 0.38372474908828735), ('org.json:json', 0.3818967342376709), ('org.nuxeo.ecm.webengine:nuxeo-webengine-wro', 0.38052594661712646), ('javaconfig:javaconfig', 0.36165857315063477), ('ebaysdkcore:ebaysdkcore', 0.3600814938545227), ('${project.groupId}:lift-util', 0.3597577214241028)]\n",
      "org.apache.opennlp:opennlp-tools [('org.apache.opennlp:opennlp-maxent', 0.6501592993736267), ('net.sf.extjwnl:extjwnl', 0.6202232837677002), ('cc.mallet:mallet', 0.6054792404174805), ('net.sf.jwordnet:jwnl', 0.5973877906799316), ('edu.stanford.nlp:stanford-corenlp', 0.5855201482772827), ('edu.mit:jwi', 0.5817878842353821), ('org.carrot2:morfologik-stemming', 0.5759782791137695), ('org.languagetool:language-en', 0.5606005191802979), ('org.carrot2:morfologik-polish', 0.5600259304046631), ('tw.edu.ntu.csie:libsvm', 0.5587866306304932)]\n",
      "log4j:log4j [('junit:junit', 0.5432411432266235), ('org.krohm.gameengine:Entities', 0.44276323914527893), ('org.springframework:spring-context', 0.4334072768688202), ('ch.qos.logback:logback-classic', 0.43016186356544495), ('org.json:json', 0.4185590147972107), ('javax.servlet:servlet-api', 0.41317862272262573), ('p001.plugins:plugin022', 0.4130551218986511), ('p001.plugins:plugin098', 0.4115864634513855), ('com.stanislav:Hockey-ejb', 0.4032454788684845), ('com.oracle:ojdbc14', 0.40254902839660645)]\n",
      "org.slf4j:slf4j-log4j12 [('org.slf4j:slf4j-simple', 0.5114684700965881), ('ch.qos.logback:logback-classic', 0.5104202628135681), ('org.apache.logging.log4j:log4j-slf4j-impl', 0.493949830532074), ('org.slf4j:slf4j-jdk14', 0.4087553024291992), ('org.springframework:spring-context', 0.4022945165634155), ('junit:junit', 0.4009089469909668), ('ch.qos.logback:logback-core', 0.3879620432853699), ('commons-logging:commons-logging', 0.3599312901496887), ('org.jdal:jdal-web', 0.3435908555984497), ('org.slf4j:slf4j-nop', 0.3419908881187439)]\n",
      "com.google.guava:guava [('junit:junit', 0.5333287715911865), ('org.json:json', 0.42893850803375244), ('org.eclipse.che.plugin:che-plugin-git-ssh-client', 0.42492666840553284), ('org.apache.spark:xsql-hive_${scala.binary.version}', 0.41650354862213135), ('com.github.tillerino:osu-api-connector', 0.4112228751182556), ('com.vosung:au-api', 0.4093096852302551), ('org.testng:testng', 0.3889455795288086), ('log4j:log4j', 0.38478389382362366), ('org.slf4j:slf4j-simple', 0.38280391693115234), ('org.mortbay.jetty:jetty-xml', 0.37961235642433167)]\n",
      "commons-httpclient:commons-httpclient [('lucene:lucene-analyzers', 0.42090365290641785), ('org.compass:compass', 0.40568971633911133), ('log4j:log4j', 0.3857266902923584), ('org.apache.ode:ode-dao-jpa-ojpa-derby', 0.38437384366989136), ('javax.servlet:servlet-api', 0.3776822090148926), ('tsik:tsik', 0.3735527992248535), ('com.atlassian.bonnie:atlassian-bonnie', 0.3693227469921112), ('com.google.gdata:gdata-java-client', 0.3680688142776489), ('com.lmco.shindig:shindig-gadgets', 0.36791548132896423), ('jboss.jbossts:jbossts-common', 0.36702755093574524)]\n"
     ]
    }
   ],
   "source": [
    "test_libs = [\"org.json:json\", \"com.alibaba:fastjson\", \"org.postgresql:postgresql\", \"commons-io:commons-io\", \"org.apache.opennlp:opennlp-tools\",\n",
    "            \"log4j:log4j\", \"org.slf4j:slf4j-log4j12\", \"com.google.guava:guava\", \"commons-httpclient:commons-httpclient\"]\n",
    "for l in test_libs:\n",
    "    print(l, model.wv.most_similar(l))"
   ]
  },
  {
   "cell_type": "code",
   "execution_count": 3,
   "metadata": {},
   "outputs": [
    {
     "data": {
      "text/plain": [
       "['io.github.benas:xstream',\n",
       " 'com.netflix.Nicobar:nicobar-manager',\n",
       " 'de.ebf:spring-granular-permissions',\n",
       " 'org.keycloak:keycloak-appliance-dist-all',\n",
       " 'org.javabits.jgrapht:jgrapht',\n",
       " 'de.softwareforge:dumbster',\n",
       " 'org.jasig.portal:uPortal-security-permissions',\n",
       " 'com.liferay:com.liferay.application.list.user.personal.site.permissions',\n",
       " 'org.kie.modules:org-apache-mina',\n",
       " 'io.paradoxical:json-path',\n",
       " 'org.dellroad:leveldb']"
      ]
     },
     "execution_count": 3,
     "metadata": {},
     "output_type": "execute_result"
    }
   ],
   "source": [
    "[name for name in ga_set if name not in model.wv]"
   ]
  },
  {
   "cell_type": "markdown",
   "metadata": {},
   "source": [
    "$$\n",
    "Quality = \\frac{1}{|R|}\\sum_{(l_1, l_2) \\in R}\\cos(l_1, l_2) - \\frac{1}{|\\bar{R}|}\\sum_{(l_1, l_2) \\in \\bar{R}}\\cos(l_1, l_2)\n",
    "$$"
   ]
  },
  {
   "cell_type": "code",
   "execution_count": 4,
   "metadata": {},
   "outputs": [
    {
     "name": "stdout",
     "output_type": "stream",
     "text": [
      "Score:  -0.07007745479810075\n"
     ]
    }
   ],
   "source": [
    "from numpy import dot\n",
    "from numpy.linalg import norm\n",
    "def idx2ga(idx):\n",
    "    return libs[\"groupId\"][idx] + \":\" + libs[\"artifactId\"][idx]\n",
    "score = 0\n",
    "ga_true_positive = set()\n",
    "ga_true_negative = set()\n",
    "list_of_libraries = rules[\"fromIds\"] + rules[\"toIds\"]\n",
    "#print(list_of_libraries)\n",
    "for l in list_of_libraries:\n",
    "    for x in l:\n",
    "        for y in l:\n",
    "            if x != y and idx2ga(x) in model.wv and idx2ga(y) in model.wv:\n",
    "                ga_true_positive.add((idx2ga(x), idx2ga(y)))\n",
    "for x in ga_set:\n",
    "    for y in ga_set:\n",
    "        if (x, y) not in ga_true_positive:\n",
    "            if x != y and x in model.wv and y in model.wv:\n",
    "                ga_true_negative.add((x, y))\n",
    "#print(len(ga_true_positive), len(ga_true_negative))\n",
    "#print(list(ga_true_positive)[0:10], list(ga_true_negative)[0:10])\n",
    "r1 = 1 / len(ga_true_positive) \n",
    "r2 = 1 / len(ga_true_negative)\n",
    "for l1, l2 in ga_true_positive:\n",
    "    score += model.wv.distance(l1, l2) * r1\n",
    "for l1, l2 in ga_true_negative:\n",
    "    score -= model.wv.distance(l1, l2) * r2\n",
    "print(\"Score: \", score)"
   ]
  },
  {
   "cell_type": "markdown",
   "metadata": {},
   "source": [
    "|  Data            |   Parameters     | Quality  |\n",
    "|------------------|------------------|----------|\n",
    "| Full POM, (0, 4) | 200.100.2.1.20   | -0.05033 |\n",
    "| Full POM, (0, 4) | 200.100.5.1.20   | -0.04515 |\n",
    "| Full POM, (0, 4) | 200.100.2.5.20   | -0.03154 |\n",
    "| Full POM, (0, 4) | 100.100.10.1.20  | -0.05737 |\n",
    "| Full POM, (0, 4) | 100.2.10.100.20  | -0.07002 |\n",
    "| LibrariesIO      | 200.100.2.5.20   | -0.07007 |\n",
    "| LibrariesIO      | 200.100.5.5.20   | -0.06718 |\n",
    "| LibrariesIO      | 200.100.20.5.20  | -0.06169 |"
   ]
  },
  {
   "cell_type": "code",
   "execution_count": 5,
   "metadata": {},
   "outputs": [],
   "source": [
    "import numpy as np\n",
    "from sklearn.manifold import TSNE\n",
    "import matplotlib.pyplot as plt\n",
    "X_name = [name for name in ga_set if name in model.wv]\n",
    "X = np.array([model.wv.get_vector(name) for name in X_name])\n",
    "X_embedded = TSNE(n_components=2, perplexity=5).fit_transform(X)\n",
    "fig, ax = plt.subplots(figsize=(100, 100))\n",
    "ax.scatter([x[0] for x in X_embedded], [x[1] for x in X_embedded])\n",
    "for i, x in enumerate(X_embedded):\n",
    "    ax.annotate(X_name[i], (x[0], x[1]))\n",
    "fig.savefig(\"tsne.png\")"
   ]
  },
  {
   "cell_type": "code",
   "execution_count": null,
   "metadata": {},
   "outputs": [],
   "source": []
  }
 ],
 "metadata": {
  "kernelspec": {
   "display_name": "Python 3",
   "language": "python",
   "name": "python3"
  },
  "language_info": {
   "codemirror_mode": {
    "name": "ipython",
    "version": 3
   },
   "file_extension": ".py",
   "mimetype": "text/x-python",
   "name": "python",
   "nbconvert_exporter": "python",
   "pygments_lexer": "ipython3",
   "version": "3.7.4"
  }
 },
 "nbformat": 4,
 "nbformat_minor": 4
}
