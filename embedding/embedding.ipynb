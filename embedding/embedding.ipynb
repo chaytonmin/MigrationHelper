{
 "cells": [
  {
   "cell_type": "markdown",
   "metadata": {},
   "source": [
    "Check the quality of the embeddings here"
   ]
  },
  {
   "cell_type": "code",
   "execution_count": 2,
   "metadata": {},
   "outputs": [],
   "source": [
    "import ast\n",
    "import json\n",
    "import pandas as pd\n",
    "from gensim.models.doc2vec import Doc2Vec, TaggedDocument\n",
    "\n",
    "model = Doc2Vec.load(\"doc2vec.libraries.io.200.100.2.5.20\")"
   ]
  },
  {
   "cell_type": "code",
   "execution_count": 8,
   "metadata": {},
   "outputs": [
    {
     "data": {
      "text/plain": [
       "0.25279605"
      ]
     },
     "execution_count": 8,
     "metadata": {},
     "output_type": "execute_result"
    }
   ],
   "source": [
    "model.wv.similarity(\"org.json:json\", \"com.alibaba:fastjson\")"
   ]
  },
  {
   "cell_type": "code",
   "execution_count": 3,
   "metadata": {},
   "outputs": [
    {
     "name": "stdout",
     "output_type": "stream",
     "text": [
      "org.json:json [('junit:junit', 0.5462887287139893), ('org.wso2.orbit.commons-fileupload:commons-fileupload', 0.45649901032447815), ('p001.plugins:plugin022', 0.4563354551792145), ('com.google.code.gson:gson', 0.4560199975967407), ('nu.xom:xom', 0.45287808775901794), ('com.connexience:monitoring-common', 0.44636374711990356), ('at.ac.tuwien.big:testsuite-api', 0.4422326683998108), ('com.flaptor.hist4j:hist4j', 0.43952322006225586), ('org.krohm.gameengine:Entities', 0.4378364682197571), ('com.ctc.wstx:woodstox-osgi', 0.4362933039665222)]\n",
      "com.alibaba:fastjson [('net.sf.json-lib:json-lib', 0.423102468252182), ('com.aaron.common.api:common_api', 0.37858831882476807), ('com.google.code.gson:gson', 0.36803486943244934), ('com.qiniu:qiniu-java-sdk', 0.3567368984222412), ('org.mybatis.generator:mybatis-generator-core', 0.3492923378944397), ('com.edcs.tds:tds-storm-common', 0.3376856744289398), ('org.redisson:redisson-spring-data-20', 0.33767974376678467), ('zhangpai-rsc:zhangpai-rabbit-framework', 0.3337976932525635), ('com.py:common-util', 0.33298349380493164), ('com.aliyun.oss:aliyun-sdk-oss', 0.3308544158935547)]\n",
      "org.postgresql:postgresql [('postgresql:postgresql', 0.7499299049377441), ('mysql:mysql-connector-java', 0.6353743076324463), ('com.oracle:ojdbc7', 0.42260217666625977), ('org.projectlombok:lombok', 0.4070720076560974), ('junit:junit', 0.37729114294052124), ('de.adorsys.psd2:cms-db-schema', 0.3748001456260681), ('one.datasource:one', 0.37308090925216675), ('org.eclipse.gemini.blueprint:gemini-blueprint-mock', 0.36967387795448303), ('org.krohm.gameengine:Entities', 0.3631572723388672), ('org.trueafrican.monitoringtool:model', 0.36132240295410156)]\n",
      "commons-io:commons-io [('org.apache.commons:commons-io', 0.7637303471565247), ('junit:junit', 0.44171133637428284), ('synesketch:synesketch', 0.4133005142211914), ('com.leroymerlin.labs:lm-forums-core', 0.4103153347969055), ('com.ecfront:ez-dbutils', 0.38372474908828735), ('org.json:json', 0.3818967640399933), ('org.nuxeo.ecm.webengine:nuxeo-webengine-wro', 0.3805259168148041), ('javaconfig:javaconfig', 0.36165851354599), ('ebaysdkcore:ebaysdkcore', 0.3600814938545227), ('${project.groupId}:lift-util', 0.3597577214241028)]\n",
      "org.apache.opennlp:opennlp-tools [('org.apache.opennlp:opennlp-maxent', 0.6501592397689819), ('net.sf.extjwnl:extjwnl', 0.6202232837677002), ('cc.mallet:mallet', 0.6054792404174805), ('net.sf.jwordnet:jwnl', 0.5973877906799316), ('edu.stanford.nlp:stanford-corenlp', 0.5855201482772827), ('edu.mit:jwi', 0.5817878246307373), ('org.carrot2:morfologik-stemming', 0.5759782791137695), ('org.languagetool:language-en', 0.5606005191802979), ('org.carrot2:morfologik-polish', 0.5600259304046631), ('tw.edu.ntu.csie:libsvm', 0.5587867498397827)]\n",
      "log4j:log4j [('junit:junit', 0.5432411432266235), ('org.krohm.gameengine:Entities', 0.4427632689476013), ('org.springframework:spring-context', 0.4334072470664978), ('ch.qos.logback:logback-classic', 0.43016189336776733), ('org.json:json', 0.4185590445995331), ('javax.servlet:servlet-api', 0.41317862272262573), ('p001.plugins:plugin022', 0.4130551815032959), ('p001.plugins:plugin098', 0.4115864634513855), ('com.stanislav:Hockey-ejb', 0.4032454788684845), ('com.oracle:ojdbc14', 0.40254905819892883)]\n",
      "org.slf4j:slf4j-log4j12 [('org.slf4j:slf4j-simple', 0.5114685297012329), ('ch.qos.logback:logback-classic', 0.5104202628135681), ('org.apache.logging.log4j:log4j-slf4j-impl', 0.493949830532074), ('org.slf4j:slf4j-jdk14', 0.4087553024291992), ('org.springframework:spring-context', 0.4022945165634155), ('junit:junit', 0.4009090065956116), ('ch.qos.logback:logback-core', 0.3879620432853699), ('commons-logging:commons-logging', 0.3599312901496887), ('org.jdal:jdal-web', 0.3435908555984497), ('org.slf4j:slf4j-nop', 0.3419908881187439)]\n",
      "com.google.guava:guava [('junit:junit', 0.5333288311958313), ('org.json:json', 0.42893844842910767), ('org.eclipse.che.plugin:che-plugin-git-ssh-client', 0.42492666840553284), ('org.apache.spark:xsql-hive_${scala.binary.version}', 0.4165034890174866), ('com.github.tillerino:osu-api-connector', 0.4112228751182556), ('com.vosung:au-api', 0.4093096852302551), ('org.testng:testng', 0.3889455497264862), ('log4j:log4j', 0.38478392362594604), ('org.slf4j:slf4j-simple', 0.38280391693115234), ('org.mortbay.jetty:jetty-xml', 0.3796123266220093)]\n",
      "commons-httpclient:commons-httpclient [('lucene:lucene-analyzers', 0.42090368270874023), ('org.compass:compass', 0.40568971633911133), ('log4j:log4j', 0.385726660490036), ('org.apache.ode:ode-dao-jpa-ojpa-derby', 0.38437381386756897), ('javax.servlet:servlet-api', 0.3776822090148926), ('tsik:tsik', 0.3735527992248535), ('com.atlassian.bonnie:atlassian-bonnie', 0.3693227171897888), ('com.google.gdata:gdata-java-client', 0.3680688440799713), ('com.lmco.shindig:shindig-gadgets', 0.36791545152664185), ('jboss.jbossts:jbossts-common', 0.36702755093574524)]\n"
     ]
    }
   ],
   "source": [
    "test_libs = [\"org.json:json\", \"com.alibaba:fastjson\", \"org.postgresql:postgresql\", \"commons-io:commons-io\", \"org.apache.opennlp:opennlp-tools\",\n",
    "            \"log4j:log4j\", \"org.slf4j:slf4j-log4j12\", \"com.google.guava:guava\", \"commons-httpclient:commons-httpclient\"]\n",
    "for l in test_libs:\n",
    "    print(l, model.wv.most_similar(l))"
   ]
  },
  {
   "cell_type": "markdown",
   "metadata": {},
   "source": [
    "$$\n",
    "Quality = \\frac{1}{|R|}\\sum_{(l_1, l_2) \\in R}\\cos(l_1, l_2) - \\frac{1}{|\\bar{R}|}\\sum_{(l_1, l_2) \\in \\bar{R}}\\cos(l_1, l_2)\n",
    "$$"
   ]
  },
  {
   "cell_type": "code",
   "execution_count": null,
   "metadata": {},
   "outputs": [],
   "source": [
    "from numpy import dot\n",
    "from numpy.linalg import norm\n",
    "def idx2ga(idx):\n",
    "    return libs[\"groupId\"][idx] + \":\" + libs[\"artifactId\"][idx]\n",
    "score = 0\n",
    "ga_true_positive = set()\n",
    "ga_true_negative = set()\n",
    "list_of_libraries = rules[\"fromIds\"] + rules[\"toIds\"]\n",
    "#print(list_of_libraries)\n",
    "for l in list_of_libraries:\n",
    "    for x in l:\n",
    "        for y in l:\n",
    "            if x != y and idx2ga(x) in model.wv and idx2ga(y) in model.wv:\n",
    "                ga_true_positive.add((idx2ga(x), idx2ga(y)))\n",
    "for x in ga_set:\n",
    "    for y in ga_set:\n",
    "        if (x, y) not in ga_true_positive:\n",
    "            if x != y and x in model.wv and y in model.wv:\n",
    "                ga_true_negative.add((x, y))\n",
    "#print(len(ga_true_positive), len(ga_true_negative))\n",
    "#print(list(ga_true_positive)[0:10], list(ga_true_negative)[0:10])\n",
    "r1 = 1 / len(ga_true_positive) \n",
    "r2 = 1 / len(ga_true_negative)\n",
    "for l1, l2 in ga_true_positive:\n",
    "    score += model.wv.distance(l1, l2) * r1\n",
    "for l1, l2 in ga_true_negative:\n",
    "    score -= model.wv.distance(l1, l2) * r2\n",
    "print(\"Score: \", score)"
   ]
  },
  {
   "cell_type": "markdown",
   "metadata": {},
   "source": [
    "|  Data            |   Parameters     | Quality  |\n",
    "|------------------|------------------|----------|\n",
    "| Full POM, (0, 4) | 200.100.2.1.20   | -0.05033 |\n",
    "| Full POM, (0, 4) | 200.100.5.1.20   | -0.04515 |\n",
    "| Full POM, (0, 4) | 200.100.2.5.20   | -0.03154 |\n",
    "| Full POM, (0, 4) | 100.100.10.1.20  | -0.05737 |\n",
    "| Full POM, (0, 4) | 100.2.10.100.20  | -0.07002 |\n",
    "| LibrariesIO      | 200.100.2.5.20   | -0.07007 |\n",
    "| LibrariesIO      | 200.100.5.5.20   | -0.06718 |\n",
    "| LibrariesIO      | 200.100.20.5.20  | -0.06169 |"
   ]
  },
  {
   "cell_type": "code",
   "execution_count": 5,
   "metadata": {},
   "outputs": [
    {
     "ename": "NameError",
     "evalue": "name 'ga_set' is not defined",
     "output_type": "error",
     "traceback": [
      "\u001b[0;31m---------------------------------------------------------------------------\u001b[0m",
      "\u001b[0;31mNameError\u001b[0m                                 Traceback (most recent call last)",
      "\u001b[0;32m<ipython-input-5-b1c90d746c36>\u001b[0m in \u001b[0;36m<module>\u001b[0;34m\u001b[0m\n\u001b[1;32m      2\u001b[0m \u001b[0;32mfrom\u001b[0m \u001b[0msklearn\u001b[0m\u001b[0;34m.\u001b[0m\u001b[0mmanifold\u001b[0m \u001b[0;32mimport\u001b[0m \u001b[0mTSNE\u001b[0m\u001b[0;34m\u001b[0m\u001b[0;34m\u001b[0m\u001b[0m\n\u001b[1;32m      3\u001b[0m \u001b[0;32mimport\u001b[0m \u001b[0mmatplotlib\u001b[0m\u001b[0;34m.\u001b[0m\u001b[0mpyplot\u001b[0m \u001b[0;32mas\u001b[0m \u001b[0mplt\u001b[0m\u001b[0;34m\u001b[0m\u001b[0;34m\u001b[0m\u001b[0m\n\u001b[0;32m----> 4\u001b[0;31m \u001b[0mX_name\u001b[0m \u001b[0;34m=\u001b[0m \u001b[0;34m[\u001b[0m\u001b[0mname\u001b[0m \u001b[0;32mfor\u001b[0m \u001b[0mname\u001b[0m \u001b[0;32min\u001b[0m \u001b[0mga_set\u001b[0m \u001b[0;32mif\u001b[0m \u001b[0mname\u001b[0m \u001b[0;32min\u001b[0m \u001b[0mmodel\u001b[0m\u001b[0;34m.\u001b[0m\u001b[0mwv\u001b[0m\u001b[0;34m]\u001b[0m\u001b[0;34m\u001b[0m\u001b[0;34m\u001b[0m\u001b[0m\n\u001b[0m\u001b[1;32m      5\u001b[0m \u001b[0mX\u001b[0m \u001b[0;34m=\u001b[0m \u001b[0mnp\u001b[0m\u001b[0;34m.\u001b[0m\u001b[0marray\u001b[0m\u001b[0;34m(\u001b[0m\u001b[0;34m[\u001b[0m\u001b[0mmodel\u001b[0m\u001b[0;34m.\u001b[0m\u001b[0mwv\u001b[0m\u001b[0;34m.\u001b[0m\u001b[0mget_vector\u001b[0m\u001b[0;34m(\u001b[0m\u001b[0mname\u001b[0m\u001b[0;34m)\u001b[0m \u001b[0;32mfor\u001b[0m \u001b[0mname\u001b[0m \u001b[0;32min\u001b[0m \u001b[0mX_name\u001b[0m\u001b[0;34m]\u001b[0m\u001b[0;34m)\u001b[0m\u001b[0;34m\u001b[0m\u001b[0;34m\u001b[0m\u001b[0m\n\u001b[1;32m      6\u001b[0m \u001b[0mX_embedded\u001b[0m \u001b[0;34m=\u001b[0m \u001b[0mTSNE\u001b[0m\u001b[0;34m(\u001b[0m\u001b[0mn_components\u001b[0m\u001b[0;34m=\u001b[0m\u001b[0;36m2\u001b[0m\u001b[0;34m,\u001b[0m \u001b[0mperplexity\u001b[0m\u001b[0;34m=\u001b[0m\u001b[0;36m5\u001b[0m\u001b[0;34m)\u001b[0m\u001b[0;34m.\u001b[0m\u001b[0mfit_transform\u001b[0m\u001b[0;34m(\u001b[0m\u001b[0mX\u001b[0m\u001b[0;34m)\u001b[0m\u001b[0;34m\u001b[0m\u001b[0;34m\u001b[0m\u001b[0m\n",
      "\u001b[0;31mNameError\u001b[0m: name 'ga_set' is not defined"
     ]
    }
   ],
   "source": [
    "import numpy as np\n",
    "from sklearn.manifold import TSNE\n",
    "import matplotlib.pyplot as plt\n",
    "X_name = [name for name in ga_set if name in model.wv]\n",
    "X = np.array([model.wv.get_vector(name) for name in X_name])\n",
    "X_embedded = TSNE(n_components=2, perplexity=5).fit_transform(X)\n",
    "fig, ax = plt.subplots(figsize=(100, 100))\n",
    "ax.scatter([x[0] for x in X_embedded], [x[1] for x in X_embedded])\n",
    "for i, x in enumerate(X_embedded):\n",
    "    ax.annotate(X_name[i], (x[0], x[1]))\n",
    "fig.savefig(\"tsne.png\")"
   ]
  },
  {
   "cell_type": "code",
   "execution_count": null,
   "metadata": {},
   "outputs": [],
   "source": []
  }
 ],
 "metadata": {
  "kernelspec": {
   "display_name": "Python 3",
   "language": "python",
   "name": "python3"
  },
  "language_info": {
   "codemirror_mode": {
    "name": "ipython",
    "version": 3
   },
   "file_extension": ".py",
   "mimetype": "text/x-python",
   "name": "python",
   "nbconvert_exporter": "python",
   "pygments_lexer": "ipython3",
   "version": "3.7.4"
  }
 },
 "nbformat": 4,
 "nbformat_minor": 4
}
