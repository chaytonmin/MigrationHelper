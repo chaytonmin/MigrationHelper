{
 "cells": [
  {
   "cell_type": "code",
   "execution_count": 18,
   "metadata": {},
   "outputs": [
    {
     "name": "stdout",
     "output_type": "stream",
     "text": [
      "56647 100\n"
     ]
    }
   ],
   "source": [
    "import numpy as np\n",
    "import2vecs = dict()\n",
    "with open(\"java_w2v_dim100.txt\", \"r\") as f:\n",
    "    num_lib, num_dim = tuple(f.readline().split(\" \"))\n",
    "    num_lib, num_dim = int(num_lib), int(num_dim)\n",
    "    print(num_lib, num_dim)\n",
    "    for line in f:\n",
    "        vals = line.split(\" \")\n",
    "        import2vecs[vals[0]] = [float(x) for x in vals[1:]]"
   ]
  },
  {
   "cell_type": "code",
   "execution_count": 22,
   "metadata": {},
   "outputs": [
    {
     "name": "stdout",
     "output_type": "stream",
     "text": [
      "[('antlr:antlr', 1.0000000000000002), ('org.apache.derby:com.springsource.org.apache.derby', 0.7321548757865118), ('rt-8-org-w3c-dom:org-w3c-dom-html', 0.7222588185916556), ('rt-8-org-w3c-dom:org-w3c-dom-ranges', 0.7115511975018608), ('rt-8-com-sun-activation:com-sun-activation-registries', 0.709715853632974), ('org.glassfish.jersey.media:jersey-media-jaxb', 0.7064268135350397), ('rt-8-org-w3c-dom:org-w3c-dom-traversal', 0.7054337999318806), ('org.antlr:antlr-runtime', 0.6965677974222694), ('org.glassfish.jersey.bundles.repackaged:jersey-guava', 0.6916339022916734), ('rt-8-org-w3c-dom:org-w3c-dom-xpath', 0.6890673158570072)]\n",
      "[('args4j:args4j', 1.0000000000000002), ('org.apache.commons:commons-compress', 0.5804147102388929), ('net.sf.trove4j:trove4j', 0.5609474273709605), ('com.thoughtworks.xstream:xstream', 0.5532285072720283), ('org.eclipse.jgit:org.eclipse.jgit', 0.5502024651085133), ('org.jopendocument:jOpenDocument', 0.544807782393302), ('org.apache.ant:ant', 0.5384977627291566), ('net.sourceforge.parallelcolt:parallelcolt', 0.5199848897183458), ('com.github.samtools:htsjdk', 0.5179964930759763), ('org.jdom:jdom-legacy', 0.5168063780641583)]\n",
      "asm:asm not in data\n",
      "bcel:bcel not in data\n",
      "[('ch.qos.logback:logback-classic', 1.0000000000000002), ('ch.qos.logback:logback-core', 0.940843623147014), ('com.hynnet:logback-classic', 0.6954437844566342), ('org.slf4j:jul-to-slf4j', 0.6844320082235379), ('org.apache.logging.log4j:log4j-slf4j-impl', 0.6327987859730513), ('io.dropwizard:dropwizard-logging', 0.6315475509103909), ('org.eclipse.jetty:jetty-io', 0.6247625202379894), ('io.dropwizard.metrics:metrics-logback', 0.6235642360812758), ('org.eclipse.jetty:jetty-servlets', 0.617067278568954), ('net.sourceforge.argparse4j:argparse4j', 0.6083803662442095)]\n",
      "[('com.alibaba:fastjson', 0.9999999999999999), ('org.mybatis:mybatis', 0.6018110042093497), ('redis.clients:jedis', 0.5952452616388424), ('com.google.zxing:core', 0.5557134539362124), ('com.squareup.okhttp3:okhttp', 0.5457234124099891), ('android-28-javax-crypto:javax-crypto-spec', 0.5369054580662903), ('com.github.pagehelper:pagehelper', 0.5345286090123532), ('com.alibaba:druid', 0.5331421756286933), ('org.apache.shiro:shiro-core', 0.532382990028072), ('de.ruedigermoeller:fst', 0.530363311375003)]\n",
      "[('com.google.code.gson:gson', 0.9999999999999999), ('com.squareup.okhttp:okhttp', 0.6158540026046386), ('commons-codec:commons-codec', 0.5875230816906704), ('org.json:json', 0.5830139183552702), ('rt-8-java-lang:java-lang-reflect', 0.5817086089740369), ('commons-io:commons-io', 0.5810090333411962), ('org.apache.httpcomponents:httpclient', 0.5793600469903928), ('com.googlecode.json-simple:json-simple', 0.5783202341816928), ('org.apache.httpcomponents:httpcore', 0.5750075821573277), ('com.google.guava:guava', 0.5740739250914384)]\n"
     ]
    }
   ],
   "source": [
    "queries = [\"antlr:antlr\", \"args4j:args4j\", \"asm:asm\", \"bcel:bcel\", \"ch.qos.logback:logback-classic\",\n",
    "           \"com.alibaba:fastjson\", \"com.google.code.gson:gson\"]\n",
    "for q in queries:\n",
    "    if q not in import2vecs:\n",
    "        print(\"{} not in data\".format(q))\n",
    "        continue\n",
    "    result = []\n",
    "    for l in import2vecs:\n",
    "        sim = np.dot(import2vecs[l], import2vecs[q]) / (np.linalg.norm(import2vecs[l]) * np.linalg.norm(import2vecs[q]))\n",
    "        result.append((l, sim))\n",
    "    result = sorted(result, key=lambda x: x[1], reverse=True)[0:10]\n",
    "    print(result)"
   ]
  },
  {
   "cell_type": "code",
   "execution_count": null,
   "metadata": {},
   "outputs": [],
   "source": []
  }
 ],
 "metadata": {
  "kernelspec": {
   "display_name": "Python 3",
   "language": "python",
   "name": "python3"
  },
  "language_info": {
   "codemirror_mode": {
    "name": "ipython",
    "version": 3
   },
   "file_extension": ".py",
   "mimetype": "text/x-python",
   "name": "python",
   "nbconvert_exporter": "python",
   "pygments_lexer": "ipython3",
   "version": "3.7.4"
  }
 },
 "nbformat": 4,
 "nbformat_minor": 4
}
